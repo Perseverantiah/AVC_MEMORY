{
 "cells": [
  {
   "cell_type": "markdown",
   "id": "3aa82ead",
   "metadata": {},
   "source": [
    "## Explanation of the variables of the dataset\n",
    "HeartDisease : Respondents that have ever reported having coronary heart disease (CHD) or myocardial infarction (MI).\n",
    "\n",
    "\n",
    "BMI : Body Mass Index (BMI).\n",
    "\n",
    "\n",
    "Smoking : Have you smoked at least 100 cigarettes in your entire life? ( The answer Yes or No ).\n",
    "\n",
    "\n",
    "AlcoholDrinking : Heavy drinkers (adult men having more than 14 drinks per week and adult women having more than 7 drinks per week\n",
    "\n",
    "\n",
    "Stroke : (Ever told) (you had) a stroke?\n",
    "\n",
    "\n",
    "PhysicalHealth : Now thinking about your physical health, which includes physical illness and injury, for how many days during the past 30 days was your physical health not good? (0-30 days).\n",
    "\n",
    "\n",
    "MentalHealth : Thinking about your mental health, for how many days during the past 30 days was your mental health not good? (0-30 days).\n",
    "\n",
    "\n",
    "DiffWalking : Do you have serious difficulty walking or climbing stairs?\n",
    "\n",
    "\n",
    "Sex : Are you male or female?\n",
    "\n",
    "\n",
    "AgeCategory: Fourteen-level age category.\n",
    "\n",
    "\n",
    "Race : Imputed race/ethnicity value.\n",
    "\n",
    "\n",
    "Diabetic : (Ever told) (you had) diabetes?\n",
    "\n",
    "\n",
    "PhysicalActivity : Adults who reported doing physical activity or exercise during the past 30 days other than their regular job.\n",
    "\n",
    "\n",
    "GenHealth : Would you say that in general your health is...\n",
    "\n",
    "\n",
    "SleepTime : On average, how many hours of sleep do you get in a 24-hour period?\n",
    "\n",
    "\n",
    "Asthma : (Ever told) (you had) asthma?\n",
    "\n",
    "\n",
    "KidneyDisease : Not including kidney stones, bladder infection or incontinence, were you ever told you had kidney disease?\n",
    "\n",
    "\n",
    "SkinCancer : (Ever told) (you had) skin cancer?\n",
    "\n",
    "\n",
    "\n",
    "[link of data](https://www.kaggle.com/code/andls555/heart-disease-prediction/input)"
   ]
  },
  {
   "cell_type": "code",
   "execution_count": 1,
   "id": "84c17c7b",
   "metadata": {},
   "outputs": [],
   "source": [
    "import sys\n",
    "sys.path.append(r\"C:\\Users\\Ninette HOUKPONOU\\Repertoire_python\\Memoire\\module_memoire\")"
   ]
  },
  {
   "cell_type": "code",
   "execution_count": 8,
   "id": "475b23c1",
   "metadata": {},
   "outputs": [],
   "source": [
    "import pandas as pd\n",
    "from exploratory_analysis import *\n",
    "from dependency_plot import *\n",
    "from to_compute_model import *\n",
    "from to_concatenate import *\n",
    "from to_display_data import *\n",
    "from to_resample import *\n",
    "from preprocessing import *\n",
    "from evaluation import *\n",
    "from joblib import dump,load\n",
    "from dython.nominal import associations\n",
    "from scipy.stats import kurtosis"
   ]
  },
  {
   "cell_type": "code",
   "execution_count": 3,
   "id": "a8747c52",
   "metadata": {},
   "outputs": [],
   "source": [
    "data=pd.read_csv(r\"C:\\Users\\Ninette HOUKPONOU\\Repertoire_python\\Memoire\\new_data\\heart.csv\")"
   ]
  },
  {
   "cell_type": "code",
   "execution_count": null,
   "id": "760b0599",
   "metadata": {},
   "outputs": [],
   "source": [
    "help(basic_compute)"
   ]
  },
  {
   "cell_type": "code",
   "execution_count": 59,
   "id": "3d29a636",
   "metadata": {},
   "outputs": [
    {
     "name": "stdout",
     "output_type": "stream",
     "text": [
      "  HeartDisease    BMI Smoking AlcoholDrinking Stroke  PhysicalHealth  \\\n",
      "0           No  16.60     Yes              No     No             3.0   \n",
      "1           No  20.34      No              No    Yes             0.0   \n",
      "2           No  26.58     Yes              No     No            20.0   \n",
      "3           No  24.21      No              No     No             0.0   \n",
      "4           No  23.71      No              No     No            28.0   \n",
      "5          Yes  28.87     Yes              No     No             6.0   \n",
      "6           No  21.63      No              No     No            15.0   \n",
      "7           No  31.64     Yes              No     No             5.0   \n",
      "8           No  26.45      No              No     No             0.0   \n",
      "9           No  40.69      No              No     No             0.0   \n",
      "\n",
      "   MentalHealth DiffWalking     Sex  AgeCategory   Race  \\\n",
      "0          30.0          No  Female        55-59  White   \n",
      "1           0.0          No  Female  80 or older  White   \n",
      "2          30.0          No    Male        65-69  White   \n",
      "3           0.0          No  Female        75-79  White   \n",
      "4           0.0         Yes  Female        40-44  White   \n",
      "5           0.0         Yes  Female        75-79  Black   \n",
      "6           0.0          No  Female        70-74  White   \n",
      "7           0.0         Yes  Female  80 or older  White   \n",
      "8           0.0          No  Female  80 or older  White   \n",
      "9           0.0         Yes    Male        65-69  White   \n",
      "\n",
      "                  Diabetic PhysicalActivity  GenHealth  SleepTime Asthma  \\\n",
      "0                      Yes              Yes  Very good        5.0    Yes   \n",
      "1                       No              Yes  Very good        7.0     No   \n",
      "2                      Yes              Yes       Fair        8.0    Yes   \n",
      "3                       No               No       Good        6.0     No   \n",
      "4                       No              Yes  Very good        8.0     No   \n",
      "5                       No               No       Fair       12.0     No   \n",
      "6                       No              Yes       Fair        4.0    Yes   \n",
      "7                      Yes               No       Good        9.0    Yes   \n",
      "8  No, borderline diabetes               No       Fair        5.0     No   \n",
      "9                       No              Yes       Good       10.0     No   \n",
      "\n",
      "  KidneyDisease SkinCancer  \n",
      "0            No        Yes  \n",
      "1            No         No  \n",
      "2            No         No  \n",
      "3            No        Yes  \n",
      "4            No         No  \n",
      "5            No         No  \n",
      "6            No        Yes  \n",
      "7            No         No  \n",
      "8           Yes         No  \n",
      "9            No         No  \n",
      "----------------------------------------------------------------------------------------------\n",
      "The shape of your dataset (319795, 18)\n",
      "----------------------------------------------------------------------------------------------\n",
      "<class 'pandas.core.frame.DataFrame'>\n",
      "RangeIndex: 319795 entries, 0 to 319794\n",
      "Data columns (total 18 columns):\n",
      " #   Column            Non-Null Count   Dtype  \n",
      "---  ------            --------------   -----  \n",
      " 0   HeartDisease      319795 non-null  object \n",
      " 1   BMI               319795 non-null  float64\n",
      " 2   Smoking           319795 non-null  object \n",
      " 3   AlcoholDrinking   319795 non-null  object \n",
      " 4   Stroke            319795 non-null  object \n",
      " 5   PhysicalHealth    319795 non-null  float64\n",
      " 6   MentalHealth      319795 non-null  float64\n",
      " 7   DiffWalking       319795 non-null  object \n",
      " 8   Sex               319795 non-null  object \n",
      " 9   AgeCategory       319795 non-null  object \n",
      " 10  Race              319795 non-null  object \n",
      " 11  Diabetic          319795 non-null  object \n",
      " 12  PhysicalActivity  319795 non-null  object \n",
      " 13  GenHealth         319795 non-null  object \n",
      " 14  SleepTime         319795 non-null  float64\n",
      " 15  Asthma            319795 non-null  object \n",
      " 16  KidneyDisease     319795 non-null  object \n",
      " 17  SkinCancer        319795 non-null  object \n",
      "dtypes: float64(4), object(14)\n",
      "memory usage: 43.9+ MB\n",
      "----------------------------------------------------------------------------------------------\n",
      "                 BMI  PhysicalHealth   MentalHealth      SleepTime\n",
      "count  319795.000000    319795.00000  319795.000000  319795.000000\n",
      "mean       28.325399         3.37171       3.898366       7.097075\n",
      "std         6.356100         7.95085       7.955235       1.436007\n",
      "min        12.020000         0.00000       0.000000       1.000000\n",
      "25%        24.030000         0.00000       0.000000       6.000000\n",
      "50%        27.340000         0.00000       0.000000       7.000000\n",
      "75%        31.420000         2.00000       3.000000       8.000000\n",
      "max        94.850000        30.00000      30.000000      24.000000\n",
      "----------------------------------------------------------------------------------------------\n",
      "numerical var ['BMI', 'PhysicalHealth', 'MentalHealth', 'SleepTime']\n",
      "----------------------------------------------------------------------------------------------\n",
      "categorical var ['HeartDisease', 'Smoking', 'AlcoholDrinking', 'Stroke', 'DiffWalking', 'Sex', 'AgeCategory', 'Race', 'Diabetic', 'PhysicalActivity', 'GenHealth', 'Asthma', 'KidneyDisease', 'SkinCancer']\n"
     ]
    }
   ],
   "source": [
    "basic_compute(data)"
   ]
  },
  {
   "cell_type": "code",
   "execution_count": 5,
   "id": "00273633",
   "metadata": {},
   "outputs": [
    {
     "data": {
      "text/plain": [
       "0"
      ]
     },
     "execution_count": 5,
     "metadata": {},
     "output_type": "execute_result"
    }
   ],
   "source": [
    "(data.isna().sum()).sum()"
   ]
  },
  {
   "cell_type": "markdown",
   "id": "be3e1dad",
   "metadata": {},
   "source": [
    "# Plots"
   ]
  },
  {
   "cell_type": "code",
   "execution_count": 8,
   "id": "8111a705",
   "metadata": {},
   "outputs": [
    {
     "data": {
      "image/png": "[encoded data removed]",
      "text/plain": [
       "<Figure size 432x288 with 1 Axes>"
      ]
     },
     "metadata": {
      "needs_background": "light"
     },
     "output_type": "display_data"
    },
    {
     "data": {
      "image/png": "[encoded data removed]",
      "text/plain": [
       "<Figure size 432x288 with 1 Axes>"
      ]
     },
     "metadata": {
      "needs_background": "light"
     },
     "output_type": "display_data"
    },
    {
     "data": {
      "image/png": "[encoded data removed]",
      "text/plain": [
       "<Figure size 432x288 with 1 Axes>"
      ]
     },
     "metadata": {
      "needs_background": "light"
     },
     "output_type": "display_data"
    },
    {
     "data": {
      "image/png": "[encoded data removed]",
      "text/plain": [
       "<Figure size 432x288 with 1 Axes>"
      ]
     },
     "metadata": {
      "needs_background": "light"
     },
     "output_type": "display_data"
    },
    {
     "data": {
      "image/png": "[encoded data removed]",
      "text/plain": [
       "<Figure size 432x288 with 1 Axes>"
      ]
     },
     "metadata": {
      "needs_background": "light"
     },
     "output_type": "display_data"
    },
    {
     "data": {
      "image/png": "[encoded data removed]",
      "text/plain": [
       "<Figure size 432x288 with 1 Axes>"
      ]
     },
     "metadata": {
      "needs_background": "light"
     },
     "output_type": "display_data"
    },
    {
     "data": {
      "image/png": "[encoded data removed]",
      "text/plain": [
       "<Figure size 432x288 with 1 Axes>"
      ]
     },
     "metadata": {
      "needs_background": "light"
     },
     "output_type": "display_data"
    },
    {
     "data": {
      "image/png": "[encoded data removed]",
      "text/plain": [
       "<Figure size 432x288 with 1 Axes>"
      ]
     },
     "metadata": {
      "needs_background": "light"
     },
     "output_type": "display_data"
    },
    {
     "data": {
      "image/png": "[encoded data removed]",
      "text/plain": [
       "<Figure size 432x288 with 1 Axes>"
      ]
     },
     "metadata": {
      "needs_background": "light"
     },
     "output_type": "display_data"
    },
    {
     "data": {
      "image/png": "[encoded data removed]",
      "text/plain": [
       "<Figure size 432x288 with 1 Axes>"
      ]
     },
     "metadata": {
      "needs_background": "light"
     },
     "output_type": "display_data"
    },
    {
     "data": {
      "image/png": "[encoded data removed]",
      "text/plain": [
       "<Figure size 432x288 with 1 Axes>"
      ]
     },
     "metadata": {
      "needs_background": "light"
     },
     "output_type": "display_data"
    },
    {
     "data": {
      "image/png": "[encoded data removed]",
      "text/plain": [
       "<Figure size 432x288 with 1 Axes>"
      ]
     },
     "metadata": {
      "needs_background": "light"
     },
     "output_type": "display_data"
    },
    {
     "data": {
      "image/png": "[encoded data removed]",
      "text/plain": [
       "<Figure size 432x288 with 1 Axes>"
      ]
     },
     "metadata": {
      "needs_background": "light"
     },
     "output_type": "display_data"
    },
    {
     "data": {
      "image/png": "[encoded data removed]",
      "text/plain": [
       "<Figure size 432x288 with 1 Axes>"
      ]
     },
     "metadata": {
      "needs_background": "light"
     },
     "output_type": "display_data"
    }
   ],
   "source": [
    "bar_plot(data,\"HeartDisease\")\n",
    "bar_plot(data,\"Smoking\")\n",
    "bar_plot(data,\"AlcoholDrinking\")\n",
    "bar_plot(data,\"Stroke\")\n",
    "bar_plot(data,\"DiffWalking\")\n",
    "bar_plot(data,\"Sex\")\n",
    "bar_plot(data,\"AgeCategory\")\n",
    "bar_plot(data,\"Race\")\n",
    "bar_plot(data,\"Diabetic\")\n",
    "bar_plot(data,\"PhysicalActivity\")\n",
    "bar_plot(data,\"GenHealth\")\n",
    "bar_plot(data,\"Asthma\")\n",
    "bar_plot(data,\"KidneyDisease\")\n",
    "bar_plot(data,\"SkinCancer\")"
   ]
  },
  {
   "cell_type": "code",
   "execution_count": 8,
   "id": "4b9b4ce1",
   "metadata": {},
   "outputs": [
    {
     "data": {
      "image/png": "[encoded data removed]",
      "text/plain": [
       "<Figure size 432x288 with 1 Axes>"
      ]
     },
     "metadata": {
      "needs_background": "light"
     },
     "output_type": "display_data"
    },
    {
     "data": {
      "image/png": "[encoded data removed]",
      "text/plain": [
       "<Figure size 432x288 with 1 Axes>"
      ]
     },
     "metadata": {
      "needs_background": "light"
     },
     "output_type": "display_data"
    },
    {
     "data": {
      "image/png": "[encoded data removed]",
      "text/plain": [
       "<Figure size 432x288 with 1 Axes>"
      ]
     },
     "metadata": {
      "needs_background": "light"
     },
     "output_type": "display_data"
    },
    {
     "data": {
      "image/png": "[encoded data removed]",
      "text/plain": [
       "<Figure size 432x288 with 1 Axes>"
      ]
     },
     "metadata": {
      "needs_background": "light"
     },
     "output_type": "display_data"
    },
    {
     "data": {
      "image/png": "[encoded data removed]",
      "text/plain": [
       "<Figure size 432x288 with 1 Axes>"
      ]
     },
     "metadata": {
      "needs_background": "light"
     },
     "output_type": "display_data"
    },
    {
     "data": {
      "image/png": "[encoded data removed]",
      "text/plain": [
       "<Figure size 432x288 with 1 Axes>"
      ]
     },
     "metadata": {
      "needs_background": "light"
     },
     "output_type": "display_data"
    },
    {
     "data": {
      "image/png": "[encoded data removed]",
      "text/plain": [
       "<Figure size 432x288 with 1 Axes>"
      ]
     },
     "metadata": {
      "needs_background": "light"
     },
     "output_type": "display_data"
    },
    {
     "data": {
      "image/png": "[encoded data removed]",
      "text/plain": [
       "<Figure size 432x288 with 1 Axes>"
      ]
     },
     "metadata": {
      "needs_background": "light"
     },
     "output_type": "display_data"
    },
    {
     "data": {
      "image/png": "[encoded data removed]",
      "text/plain": [
       "<Figure size 432x288 with 1 Axes>"
      ]
     },
     "metadata": {
      "needs_background": "light"
     },
     "output_type": "display_data"
    },
    {
     "data": {
      "image/png": "[encoded data removed]",
      "text/plain": [
       "<Figure size 432x288 with 1 Axes>"
      ]
     },
     "metadata": {
      "needs_background": "light"
     },
     "output_type": "display_data"
    },
    {
     "data": {
      "image/png": "[encoded data removed]",
      "text/plain": [
       "<Figure size 432x288 with 1 Axes>"
      ]
     },
     "metadata": {
      "needs_background": "light"
     },
     "output_type": "display_data"
    },
    {
     "data": {
      "image/png": "[encoded data removed]",
      "text/plain": [
       "<Figure size 432x288 with 1 Axes>"
      ]
     },
     "metadata": {
      "needs_background": "light"
     },
     "output_type": "display_data"
    },
    {
     "data": {
      "image/png": "[encoded data removed]",
      "text/plain": [
       "<Figure size 432x288 with 1 Axes>"
      ]
     },
     "metadata": {
      "needs_background": "light"
     },
     "output_type": "display_data"
    },
    {
     "data": {
      "image/png": "[encoded data removed]",
      "text/plain": [
       "<Figure size 432x288 with 1 Axes>"
      ]
     },
     "metadata": {
      "needs_background": "light"
     },
     "output_type": "display_data"
    },
    {
     "data": {
      "image/png": "[encoded data removed]",
      "text/plain": [
       "<Figure size 432x288 with 1 Axes>"
      ]
     },
     "metadata": {
      "needs_background": "light"
     },
     "output_type": "display_data"
    },
    {
     "data": {
      "image/png": "[encoded data removed]",
      "text/plain": [
       "<Figure size 432x288 with 1 Axes>"
      ]
     },
     "metadata": {
      "needs_background": "light"
     },
     "output_type": "display_data"
    },
    {
     "data": {
      "image/png": "[encoded data removed]",
      "text/plain": [
       "<Figure size 432x288 with 1 Axes>"
      ]
     },
     "metadata": {
      "needs_background": "light"
     },
     "output_type": "display_data"
    },
    {
     "data": {
      "image/png": "[encoded data removed]",
      "text/plain": [
       "<Figure size 432x288 with 1 Axes>"
      ]
     },
     "metadata": {
      "needs_background": "light"
     },
     "output_type": "display_data"
    },
    {
     "data": {
      "image/png": "[encoded data removed]",
      "text/plain": [
       "<Figure size 432x288 with 1 Axes>"
      ]
     },
     "metadata": {
      "needs_background": "light"
     },
     "output_type": "display_data"
    },
    {
     "data": {
      "image/png": "[encoded data removed]",
      "text/plain": [
       "<Figure size 432x288 with 1 Axes>"
      ]
     },
     "metadata": {
      "needs_background": "light"
     },
     "output_type": "display_data"
    },
    {
     "data": {
      "image/png": "[encoded data removed]",
      "text/plain": [
       "<Figure size 432x288 with 1 Axes>"
      ]
     },
     "metadata": {
      "needs_background": "light"
     },
     "output_type": "display_data"
    },
    {
     "data": {
      "image/png": "[encoded data removed]",
      "text/plain": [
       "<Figure size 432x288 with 1 Axes>"
      ]
     },
     "metadata": {
      "needs_background": "light"
     },
     "output_type": "display_data"
    },
    {
     "data": {
      "image/png": "[encoded data removed]",
      "text/plain": [
       "<Figure size 432x288 with 1 Axes>"
      ]
     },
     "metadata": {
      "needs_background": "light"
     },
     "output_type": "display_data"
    },
    {
     "data": {
      "image/png": "[encoded data removed]",
      "text/plain": [
       "<Figure size 432x288 with 1 Axes>"
      ]
     },
     "metadata": {
      "needs_background": "light"
     },
     "output_type": "display_data"
    },
    {
     "data": {
      "image/png": "[encoded data removed]",
      "text/plain": [
       "<Figure size 432x288 with 1 Axes>"
      ]
     },
     "metadata": {
      "needs_background": "light"
     },
     "output_type": "display_data"
    },
    {
     "data": {
      "image/png": "[encoded data removed]",
      "text/plain": [
       "<Figure size 432x288 with 1 Axes>"
      ]
     },
     "metadata": {
      "needs_background": "light"
     },
     "output_type": "display_data"
    },
    {
     "data": {
      "image/png": "[encoded data removed]",
      "text/plain": [
       "<Figure size 432x288 with 1 Axes>"
      ]
     },
     "metadata": {
      "needs_background": "light"
     },
     "output_type": "display_data"
    },
    {
     "data": {
      "image/png": "[encoded data removed]",
      "text/plain": [
       "<Figure size 432x288 with 1 Axes>"
      ]
     },
     "metadata": {
      "needs_background": "light"
     },
     "output_type": "display_data"
    }
   ],
   "source": [
    "bar_plot_biv(data,\"HeartDisease\",target_name=\"Stroke\")\n",
    "bar_plot_biv(data,\"Smoking\",target_name=\"Stroke\")\n",
    "bar_plot_biv(data,\"AlcoholDrinking\",target_name=\"Stroke\")\n",
    "bar_plot_biv(data,\"Stroke\",target_name=\"Stroke\")\n",
    "bar_plot_biv(data,\"DiffWalking\",target_name=\"Stroke\")\n",
    "bar_plot_biv(data,\"Sex\",target_name=\"Stroke\")\n",
    "bar_plot_biv(data,\"AgeCategory\",target_name=\"Stroke\")\n",
    "bar_plot_biv(data,\"Race\",target_name=\"Stroke\")\n",
    "bar_plot_biv(data,\"Diabetic\",target_name=\"Stroke\")\n",
    "bar_plot_biv(data,\"PhysicalActivity\",target_name=\"Stroke\")\n",
    "bar_plot_biv(data,\"GenHealth\",target_name=\"Stroke\")\n",
    "bar_plot_biv(data,\"Asthma\",target_name=\"Stroke\")\n",
    "bar_plot_biv(data,\"KidneyDisease\",target_name=\"Stroke\")\n",
    "bar_plot_biv(data,\"SkinCancer\",target_name=\"Stroke\")"
   ]
  },
  {
   "cell_type": "code",
   "execution_count": 11,
   "id": "f5da5bf8",
   "metadata": {},
   "outputs": [
    {
     "data": {
      "image/png": "[encoded data removed]",
      "text/plain": [
       "<Figure size 432x288 with 1 Axes>"
      ]
     },
     "metadata": {
      "needs_background": "light"
     },
     "output_type": "display_data"
    },
    {
     "data": {
      "image/png": "[encoded data removed]",
      "text/plain": [
       "<Figure size 432x288 with 1 Axes>"
      ]
     },
     "metadata": {
      "needs_background": "light"
     },
     "output_type": "display_data"
    },
    {
     "data": {
      "image/png": "[encoded data removed]",
      "text/plain": [
       "<Figure size 432x288 with 1 Axes>"
      ]
     },
     "metadata": {
      "needs_background": "light"
     },
     "output_type": "display_data"
    },
    {
     "data": {
      "image/png": "[encoded data removed]",
      "text/plain": [
       "<Figure size 432x288 with 1 Axes>"
      ]
     },
     "metadata": {
      "needs_background": "light"
     },
     "output_type": "display_data"
    }
   ],
   "source": [
    "boxplot_(data,\"BMI\")\n",
    "boxplot_(data,\"PhysicalHealth\")\n",
    "boxplot_(data,\"MentalHealth\")\n",
    "boxplot_(data,\"SleepTime\")"
   ]
  },
  {
   "cell_type": "code",
   "execution_count": null,
   "id": "65b9a28b",
   "metadata": {},
   "outputs": [],
   "source": [
    "plt.figure(figsize=(25,25))\n",
    "associations(data,cmap=\"Blues\")"
   ]
  },
  {
   "cell_type": "code",
   "execution_count": 4,
   "id": "62bad9bb",
   "metadata": {},
   "outputs": [],
   "source": [
    "def histogram(x):\n",
    "    sn.histplot(data=data,x=x)\n",
    "    plt.show()"
   ]
  },
  {
   "cell_type": "code",
   "execution_count": 6,
   "id": "3a95b901",
   "metadata": {},
   "outputs": [
    {
     "data": {
      "image/png": "[encoded data removed]",
      "text/plain": [
       "<Figure size 432x288 with 1 Axes>"
      ]
     },
     "metadata": {
      "needs_background": "light"
     },
     "output_type": "display_data"
    },
    {
     "data": {
      "image/png": "[encoded data removed]",
      "text/plain": [
       "<Figure size 432x288 with 1 Axes>"
      ]
     },
     "metadata": {
      "needs_background": "light"
     },
     "output_type": "display_data"
    },
    {
     "data": {
      "image/png": "[encoded data removed]",
      "text/plain": [
       "<Figure size 432x288 with 1 Axes>"
      ]
     },
     "metadata": {
      "needs_background": "light"
     },
     "output_type": "display_data"
    },
    {
     "data": {
      "image/png": "[encoded data removed]",
      "text/plain": [
       "<Figure size 432x288 with 1 Axes>"
      ]
     },
     "metadata": {
      "needs_background": "light"
     },
     "output_type": "display_data"
    }
   ],
   "source": [
    "histogram(\"BMI\")\n",
    "histogram(\"PhysicalHealth\")\n",
    "histogram(\"MentalHealth\")\n",
    "histogram(\"SleepTime\")"
   ]
  },
  {
   "cell_type": "markdown",
   "id": "c8bc6cc4",
   "metadata": {},
   "source": [
    "# Kurtosis and Skewness"
   ]
  },
  {
   "cell_type": "code",
   "execution_count": 12,
   "id": "e42b5814",
   "metadata": {},
   "outputs": [
    {
     "name": "stdout",
     "output_type": "stream",
     "text": [
      "3.889963770419137\n",
      "5.52834443931836\n",
      "4.403849003140337\n",
      "7.854726994730125\n"
     ]
    }
   ],
   "source": [
    "print(kurtosis(data[\"BMI\"]))\n",
    "print(kurtosis(data[\"PhysicalHealth\"]))\n",
    "print(kurtosis(data[\"MentalHealth\"]))\n",
    "print(kurtosis(data[\"SleepTime\"]))"
   ]
  },
  {
   "cell_type": "code",
   "execution_count": 35,
   "id": "f794703d",
   "metadata": {},
   "outputs": [
    {
     "name": "stdout",
     "output_type": "stream",
     "text": [
      "0.6082930902622277\n",
      "0.6608341681351786\n",
      "-0.3366223635247909\n",
      "5.422997231957087\n"
     ]
    }
   ],
   "source": [
    "print(kurtosis(np.log(data[\"BMI\"])) )\n",
    "print(kurtosis(np.cbrt(data[\"PhysicalHealth\"]) ) )\n",
    "print(kurtosis(np.cbrt(data[\"MentalHealth\"])) )\n",
    "print(kurtosis(np.sqrt(data[\"SleepTime\"]) ) )"
   ]
  },
  {
   "cell_type": "code",
   "execution_count": 28,
   "id": "d6997dc2",
   "metadata": {},
   "outputs": [
    {
     "name": "stdout",
     "output_type": "stream",
     "text": [
      "1.3324306428979513\n",
      "2.6039732622480822\n",
      "2.331111549136165\n",
      "0.6790346208011537\n"
     ]
    }
   ],
   "source": [
    "print(data.BMI.skew())\n",
    "print(data.PhysicalHealth.skew())\n",
    "\n",
    "print(data.MentalHealth.skew())\n",
    "print(data.SleepTime.skew())"
   ]
  },
  {
   "cell_type": "code",
   "execution_count": 34,
   "id": "67e57d32",
   "metadata": {},
   "outputs": [
    {
     "name": "stdout",
     "output_type": "stream",
     "text": [
      "0.436876155351865\n",
      "1.834314528846593\n",
      "1.4511489832134252\n",
      "-0.4862713579622643\n"
     ]
    }
   ],
   "source": [
    "print(np.log(data.BMI).skew())\n",
    "print(np.sqrt(data.PhysicalHealth).skew())\n",
    "\n",
    "print(np.sqrt(data.MentalHealth).skew())\n",
    "print(np.sqrt(data.SleepTime).skew())"
   ]
  },
  {
   "cell_type": "code",
   "execution_count": 36,
   "id": "b73a97ed",
   "metadata": {},
   "outputs": [
    {
     "name": "stdout",
     "output_type": "stream",
     "text": [
      "0.436876155351865\n",
      "1.4440318123181703\n",
      "1.0678175061827686\n",
      "-0.4862713579622643\n"
     ]
    }
   ],
   "source": [
    "print(np.log(data.BMI).skew())\n",
    "print(np.cbrt(data.PhysicalHealth).skew())\n",
    "\n",
    "print(np.cbrt(data.MentalHealth).skew())\n",
    "print(np.sqrt(data.SleepTime).skew())"
   ]
  },
  {
   "cell_type": "code",
   "execution_count": 110,
   "id": "73e075c3",
   "metadata": {},
   "outputs": [],
   "source": [
    "#data transform to reduce skew and kurtosis\n",
    "data_transform=np.array([np.log(data[\"BMI\"]),np.cbrt(data[\"PhysicalHealth\"]), np.cbrt(data[\"MentalHealth\"]), np.sqrt(data[\"SleepTime\"])])"
   ]
  },
  {
   "cell_type": "code",
   "execution_count": 111,
   "id": "2006ef27",
   "metadata": {},
   "outputs": [],
   "source": [
    "data_transform=pd.DataFrame(data=data_transform.T, columns=[\"BMI\",\"PhysicalHealth\",\"MentalHealth\",\"SleepTime\"])"
   ]
  },
  {
   "cell_type": "code",
   "execution_count": 112,
   "id": "039acbd9",
   "metadata": {},
   "outputs": [
    {
     "data": {
      "text/html": [
       "<div>\n",
       "<style scoped>\n",
       "    .dataframe tbody tr th:only-of-type {\n",
       "        vertical-align: middle;\n",
       "    }\n",
       "\n",
       "    .dataframe tbody tr th {\n",
       "        vertical-align: top;\n",
       "    }\n",
       "\n",
       "    .dataframe thead th {\n",
       "        text-align: right;\n",
       "    }\n",
       "</style>\n",
       "<table border=\"1\" class=\"dataframe\">\n",
       "  <thead>\n",
       "    <tr style=\"text-align: right;\">\n",
       "      <th></th>\n",
       "      <th>BMI</th>\n",
       "      <th>PhysicalHealth</th>\n",
       "      <th>MentalHealth</th>\n",
       "      <th>SleepTime</th>\n",
       "    </tr>\n",
       "  </thead>\n",
       "  <tbody>\n",
       "    <tr>\n",
       "      <th>0</th>\n",
       "      <td>2.809403</td>\n",
       "      <td>1.442250</td>\n",
       "      <td>3.107233</td>\n",
       "      <td>2.236068</td>\n",
       "    </tr>\n",
       "    <tr>\n",
       "      <th>1</th>\n",
       "      <td>3.012589</td>\n",
       "      <td>0.000000</td>\n",
       "      <td>0.000000</td>\n",
       "      <td>2.645751</td>\n",
       "    </tr>\n",
       "    <tr>\n",
       "      <th>2</th>\n",
       "      <td>3.280159</td>\n",
       "      <td>2.714418</td>\n",
       "      <td>3.107233</td>\n",
       "      <td>2.828427</td>\n",
       "    </tr>\n",
       "    <tr>\n",
       "      <th>3</th>\n",
       "      <td>3.186766</td>\n",
       "      <td>0.000000</td>\n",
       "      <td>0.000000</td>\n",
       "      <td>2.449490</td>\n",
       "    </tr>\n",
       "    <tr>\n",
       "      <th>4</th>\n",
       "      <td>3.165897</td>\n",
       "      <td>3.036589</td>\n",
       "      <td>0.000000</td>\n",
       "      <td>2.828427</td>\n",
       "    </tr>\n",
       "    <tr>\n",
       "      <th>...</th>\n",
       "      <td>...</td>\n",
       "      <td>...</td>\n",
       "      <td>...</td>\n",
       "      <td>...</td>\n",
       "    </tr>\n",
       "    <tr>\n",
       "      <th>319790</th>\n",
       "      <td>3.310908</td>\n",
       "      <td>1.912931</td>\n",
       "      <td>0.000000</td>\n",
       "      <td>2.449490</td>\n",
       "    </tr>\n",
       "    <tr>\n",
       "      <th>319791</th>\n",
       "      <td>3.395850</td>\n",
       "      <td>0.000000</td>\n",
       "      <td>0.000000</td>\n",
       "      <td>2.236068</td>\n",
       "    </tr>\n",
       "    <tr>\n",
       "      <th>319792</th>\n",
       "      <td>3.188004</td>\n",
       "      <td>0.000000</td>\n",
       "      <td>0.000000</td>\n",
       "      <td>2.449490</td>\n",
       "    </tr>\n",
       "    <tr>\n",
       "      <th>319793</th>\n",
       "      <td>3.490733</td>\n",
       "      <td>0.000000</td>\n",
       "      <td>0.000000</td>\n",
       "      <td>3.464102</td>\n",
       "    </tr>\n",
       "    <tr>\n",
       "      <th>319794</th>\n",
       "      <td>3.840742</td>\n",
       "      <td>0.000000</td>\n",
       "      <td>0.000000</td>\n",
       "      <td>2.828427</td>\n",
       "    </tr>\n",
       "  </tbody>\n",
       "</table>\n",
       "<p>319795 rows × 4 columns</p>\n",
       "</div>"
      ],
      "text/plain": [
       "             BMI  PhysicalHealth  MentalHealth  SleepTime\n",
       "0       2.809403        1.442250      3.107233   2.236068\n",
       "1       3.012589        0.000000      0.000000   2.645751\n",
       "2       3.280159        2.714418      3.107233   2.828427\n",
       "3       3.186766        0.000000      0.000000   2.449490\n",
       "4       3.165897        3.036589      0.000000   2.828427\n",
       "...          ...             ...           ...        ...\n",
       "319790  3.310908        1.912931      0.000000   2.449490\n",
       "319791  3.395850        0.000000      0.000000   2.236068\n",
       "319792  3.188004        0.000000      0.000000   2.449490\n",
       "319793  3.490733        0.000000      0.000000   3.464102\n",
       "319794  3.840742        0.000000      0.000000   2.828427\n",
       "\n",
       "[319795 rows x 4 columns]"
      ]
     },
     "execution_count": 112,
     "metadata": {},
     "output_type": "execute_result"
    }
   ],
   "source": [
    "data_transform"
   ]
  },
  {
   "cell_type": "code",
   "execution_count": 113,
   "id": "522398c8",
   "metadata": {},
   "outputs": [],
   "source": [
    "data_transform=to_concatenate(data,data_transform,[\"HeartDisease\",\"Smoking\",\"AlcoholDrinking\",\"DiffWalking\",\"Sex\",\"AgeCategory\",\"Race\",\"Diabetic\",\"PhysicalActivity\",\"GenHealth\",\"Asthma\",\"KidneyDisease\",\"SkinCancer\",\"Stroke\"])"
   ]
  },
  {
   "cell_type": "code",
   "execution_count": 114,
   "id": "06da7606",
   "metadata": {},
   "outputs": [
    {
     "data": {
      "text/html": [
       "<div>\n",
       "<style scoped>\n",
       "    .dataframe tbody tr th:only-of-type {\n",
       "        vertical-align: middle;\n",
       "    }\n",
       "\n",
       "    .dataframe tbody tr th {\n",
       "        vertical-align: top;\n",
       "    }\n",
       "\n",
       "    .dataframe thead th {\n",
       "        text-align: right;\n",
       "    }\n",
       "</style>\n",
       "<table border=\"1\" class=\"dataframe\">\n",
       "  <thead>\n",
       "    <tr style=\"text-align: right;\">\n",
       "      <th></th>\n",
       "      <th>HeartDisease</th>\n",
       "      <th>Smoking</th>\n",
       "      <th>AlcoholDrinking</th>\n",
       "      <th>DiffWalking</th>\n",
       "      <th>Sex</th>\n",
       "      <th>AgeCategory</th>\n",
       "      <th>Race</th>\n",
       "      <th>Diabetic</th>\n",
       "      <th>PhysicalActivity</th>\n",
       "      <th>GenHealth</th>\n",
       "      <th>Asthma</th>\n",
       "      <th>KidneyDisease</th>\n",
       "      <th>SkinCancer</th>\n",
       "      <th>Stroke</th>\n",
       "      <th>BMI</th>\n",
       "      <th>PhysicalHealth</th>\n",
       "      <th>MentalHealth</th>\n",
       "      <th>SleepTime</th>\n",
       "    </tr>\n",
       "  </thead>\n",
       "  <tbody>\n",
       "    <tr>\n",
       "      <th>0</th>\n",
       "      <td>No</td>\n",
       "      <td>Yes</td>\n",
       "      <td>No</td>\n",
       "      <td>No</td>\n",
       "      <td>Female</td>\n",
       "      <td>55-59</td>\n",
       "      <td>White</td>\n",
       "      <td>Yes</td>\n",
       "      <td>Yes</td>\n",
       "      <td>Very good</td>\n",
       "      <td>Yes</td>\n",
       "      <td>No</td>\n",
       "      <td>Yes</td>\n",
       "      <td>No</td>\n",
       "      <td>2.809403</td>\n",
       "      <td>1.442250</td>\n",
       "      <td>3.107233</td>\n",
       "      <td>2.236068</td>\n",
       "    </tr>\n",
       "    <tr>\n",
       "      <th>1</th>\n",
       "      <td>No</td>\n",
       "      <td>No</td>\n",
       "      <td>No</td>\n",
       "      <td>No</td>\n",
       "      <td>Female</td>\n",
       "      <td>80 or older</td>\n",
       "      <td>White</td>\n",
       "      <td>No</td>\n",
       "      <td>Yes</td>\n",
       "      <td>Very good</td>\n",
       "      <td>No</td>\n",
       "      <td>No</td>\n",
       "      <td>No</td>\n",
       "      <td>Yes</td>\n",
       "      <td>3.012589</td>\n",
       "      <td>0.000000</td>\n",
       "      <td>0.000000</td>\n",
       "      <td>2.645751</td>\n",
       "    </tr>\n",
       "    <tr>\n",
       "      <th>2</th>\n",
       "      <td>No</td>\n",
       "      <td>Yes</td>\n",
       "      <td>No</td>\n",
       "      <td>No</td>\n",
       "      <td>Male</td>\n",
       "      <td>65-69</td>\n",
       "      <td>White</td>\n",
       "      <td>Yes</td>\n",
       "      <td>Yes</td>\n",
       "      <td>Fair</td>\n",
       "      <td>Yes</td>\n",
       "      <td>No</td>\n",
       "      <td>No</td>\n",
       "      <td>No</td>\n",
       "      <td>3.280159</td>\n",
       "      <td>2.714418</td>\n",
       "      <td>3.107233</td>\n",
       "      <td>2.828427</td>\n",
       "    </tr>\n",
       "    <tr>\n",
       "      <th>3</th>\n",
       "      <td>No</td>\n",
       "      <td>No</td>\n",
       "      <td>No</td>\n",
       "      <td>No</td>\n",
       "      <td>Female</td>\n",
       "      <td>75-79</td>\n",
       "      <td>White</td>\n",
       "      <td>No</td>\n",
       "      <td>No</td>\n",
       "      <td>Good</td>\n",
       "      <td>No</td>\n",
       "      <td>No</td>\n",
       "      <td>Yes</td>\n",
       "      <td>No</td>\n",
       "      <td>3.186766</td>\n",
       "      <td>0.000000</td>\n",
       "      <td>0.000000</td>\n",
       "      <td>2.449490</td>\n",
       "    </tr>\n",
       "    <tr>\n",
       "      <th>4</th>\n",
       "      <td>No</td>\n",
       "      <td>No</td>\n",
       "      <td>No</td>\n",
       "      <td>Yes</td>\n",
       "      <td>Female</td>\n",
       "      <td>40-44</td>\n",
       "      <td>White</td>\n",
       "      <td>No</td>\n",
       "      <td>Yes</td>\n",
       "      <td>Very good</td>\n",
       "      <td>No</td>\n",
       "      <td>No</td>\n",
       "      <td>No</td>\n",
       "      <td>No</td>\n",
       "      <td>3.165897</td>\n",
       "      <td>3.036589</td>\n",
       "      <td>0.000000</td>\n",
       "      <td>2.828427</td>\n",
       "    </tr>\n",
       "    <tr>\n",
       "      <th>...</th>\n",
       "      <td>...</td>\n",
       "      <td>...</td>\n",
       "      <td>...</td>\n",
       "      <td>...</td>\n",
       "      <td>...</td>\n",
       "      <td>...</td>\n",
       "      <td>...</td>\n",
       "      <td>...</td>\n",
       "      <td>...</td>\n",
       "      <td>...</td>\n",
       "      <td>...</td>\n",
       "      <td>...</td>\n",
       "      <td>...</td>\n",
       "      <td>...</td>\n",
       "      <td>...</td>\n",
       "      <td>...</td>\n",
       "      <td>...</td>\n",
       "      <td>...</td>\n",
       "    </tr>\n",
       "    <tr>\n",
       "      <th>319790</th>\n",
       "      <td>Yes</td>\n",
       "      <td>Yes</td>\n",
       "      <td>No</td>\n",
       "      <td>Yes</td>\n",
       "      <td>Male</td>\n",
       "      <td>60-64</td>\n",
       "      <td>Hispanic</td>\n",
       "      <td>Yes</td>\n",
       "      <td>No</td>\n",
       "      <td>Fair</td>\n",
       "      <td>Yes</td>\n",
       "      <td>No</td>\n",
       "      <td>No</td>\n",
       "      <td>No</td>\n",
       "      <td>3.310908</td>\n",
       "      <td>1.912931</td>\n",
       "      <td>0.000000</td>\n",
       "      <td>2.449490</td>\n",
       "    </tr>\n",
       "    <tr>\n",
       "      <th>319791</th>\n",
       "      <td>No</td>\n",
       "      <td>Yes</td>\n",
       "      <td>No</td>\n",
       "      <td>No</td>\n",
       "      <td>Male</td>\n",
       "      <td>35-39</td>\n",
       "      <td>Hispanic</td>\n",
       "      <td>No</td>\n",
       "      <td>Yes</td>\n",
       "      <td>Very good</td>\n",
       "      <td>Yes</td>\n",
       "      <td>No</td>\n",
       "      <td>No</td>\n",
       "      <td>No</td>\n",
       "      <td>3.395850</td>\n",
       "      <td>0.000000</td>\n",
       "      <td>0.000000</td>\n",
       "      <td>2.236068</td>\n",
       "    </tr>\n",
       "    <tr>\n",
       "      <th>319792</th>\n",
       "      <td>No</td>\n",
       "      <td>No</td>\n",
       "      <td>No</td>\n",
       "      <td>No</td>\n",
       "      <td>Female</td>\n",
       "      <td>45-49</td>\n",
       "      <td>Hispanic</td>\n",
       "      <td>No</td>\n",
       "      <td>Yes</td>\n",
       "      <td>Good</td>\n",
       "      <td>No</td>\n",
       "      <td>No</td>\n",
       "      <td>No</td>\n",
       "      <td>No</td>\n",
       "      <td>3.188004</td>\n",
       "      <td>0.000000</td>\n",
       "      <td>0.000000</td>\n",
       "      <td>2.449490</td>\n",
       "    </tr>\n",
       "    <tr>\n",
       "      <th>319793</th>\n",
       "      <td>No</td>\n",
       "      <td>No</td>\n",
       "      <td>No</td>\n",
       "      <td>No</td>\n",
       "      <td>Female</td>\n",
       "      <td>25-29</td>\n",
       "      <td>Hispanic</td>\n",
       "      <td>No</td>\n",
       "      <td>No</td>\n",
       "      <td>Good</td>\n",
       "      <td>No</td>\n",
       "      <td>No</td>\n",
       "      <td>No</td>\n",
       "      <td>No</td>\n",
       "      <td>3.490733</td>\n",
       "      <td>0.000000</td>\n",
       "      <td>0.000000</td>\n",
       "      <td>3.464102</td>\n",
       "    </tr>\n",
       "    <tr>\n",
       "      <th>319794</th>\n",
       "      <td>No</td>\n",
       "      <td>No</td>\n",
       "      <td>No</td>\n",
       "      <td>No</td>\n",
       "      <td>Female</td>\n",
       "      <td>80 or older</td>\n",
       "      <td>Hispanic</td>\n",
       "      <td>No</td>\n",
       "      <td>Yes</td>\n",
       "      <td>Good</td>\n",
       "      <td>No</td>\n",
       "      <td>No</td>\n",
       "      <td>No</td>\n",
       "      <td>No</td>\n",
       "      <td>3.840742</td>\n",
       "      <td>0.000000</td>\n",
       "      <td>0.000000</td>\n",
       "      <td>2.828427</td>\n",
       "    </tr>\n",
       "  </tbody>\n",
       "</table>\n",
       "<p>319795 rows × 18 columns</p>\n",
       "</div>"
      ],
      "text/plain": [
       "       HeartDisease Smoking AlcoholDrinking DiffWalking     Sex  AgeCategory  \\\n",
       "0                No     Yes              No          No  Female        55-59   \n",
       "1                No      No              No          No  Female  80 or older   \n",
       "2                No     Yes              No          No    Male        65-69   \n",
       "3                No      No              No          No  Female        75-79   \n",
       "4                No      No              No         Yes  Female        40-44   \n",
       "...             ...     ...             ...         ...     ...          ...   \n",
       "319790          Yes     Yes              No         Yes    Male        60-64   \n",
       "319791           No     Yes              No          No    Male        35-39   \n",
       "319792           No      No              No          No  Female        45-49   \n",
       "319793           No      No              No          No  Female        25-29   \n",
       "319794           No      No              No          No  Female  80 or older   \n",
       "\n",
       "            Race Diabetic PhysicalActivity  GenHealth Asthma KidneyDisease  \\\n",
       "0          White      Yes              Yes  Very good    Yes            No   \n",
       "1          White       No              Yes  Very good     No            No   \n",
       "2          White      Yes              Yes       Fair    Yes            No   \n",
       "3          White       No               No       Good     No            No   \n",
       "4          White       No              Yes  Very good     No            No   \n",
       "...          ...      ...              ...        ...    ...           ...   \n",
       "319790  Hispanic      Yes               No       Fair    Yes            No   \n",
       "319791  Hispanic       No              Yes  Very good    Yes            No   \n",
       "319792  Hispanic       No              Yes       Good     No            No   \n",
       "319793  Hispanic       No               No       Good     No            No   \n",
       "319794  Hispanic       No              Yes       Good     No            No   \n",
       "\n",
       "       SkinCancer Stroke       BMI  PhysicalHealth  MentalHealth  SleepTime  \n",
       "0             Yes     No  2.809403        1.442250      3.107233   2.236068  \n",
       "1              No    Yes  3.012589        0.000000      0.000000   2.645751  \n",
       "2              No     No  3.280159        2.714418      3.107233   2.828427  \n",
       "3             Yes     No  3.186766        0.000000      0.000000   2.449490  \n",
       "4              No     No  3.165897        3.036589      0.000000   2.828427  \n",
       "...           ...    ...       ...             ...           ...        ...  \n",
       "319790         No     No  3.310908        1.912931      0.000000   2.449490  \n",
       "319791         No     No  3.395850        0.000000      0.000000   2.236068  \n",
       "319792         No     No  3.188004        0.000000      0.000000   2.449490  \n",
       "319793         No     No  3.490733        0.000000      0.000000   3.464102  \n",
       "319794         No     No  3.840742        0.000000      0.000000   2.828427  \n",
       "\n",
       "[319795 rows x 18 columns]"
      ]
     },
     "execution_count": 114,
     "metadata": {},
     "output_type": "execute_result"
    }
   ],
   "source": [
    "data_transform #ces donnees ont subi une transformation afin de reduire leur aplatissement et leur asymetrie.\n",
    "# Faire des tests pour voir si ces transformations ameliorent les resultats"
   ]
  },
  {
   "cell_type": "code",
   "execution_count": null,
   "id": "f5da1178",
   "metadata": {},
   "outputs": [],
   "source": []
  },
  {
   "cell_type": "code",
   "execution_count": 85,
   "id": "4983118d",
   "metadata": {},
   "outputs": [],
   "source": [
    "df=data.copy() # copy of real data"
   ]
  },
  {
   "cell_type": "markdown",
   "id": "35993561",
   "metadata": {},
   "source": [
    "# Encoding"
   ]
  },
  {
   "cell_type": "code",
   "execution_count": 86,
   "id": "b1aa6e85",
   "metadata": {},
   "outputs": [],
   "source": [
    "for col in df.select_dtypes(\"object\"):\n",
    "    df=to_encoded(df,col)"
   ]
  },
  {
   "cell_type": "code",
   "execution_count": 87,
   "id": "f1e826bd",
   "metadata": {},
   "outputs": [
    {
     "data": {
      "text/html": [
       "<div>\n",
       "<style scoped>\n",
       "    .dataframe tbody tr th:only-of-type {\n",
       "        vertical-align: middle;\n",
       "    }\n",
       "\n",
       "    .dataframe tbody tr th {\n",
       "        vertical-align: top;\n",
       "    }\n",
       "\n",
       "    .dataframe thead th {\n",
       "        text-align: right;\n",
       "    }\n",
       "</style>\n",
       "<table border=\"1\" class=\"dataframe\">\n",
       "  <thead>\n",
       "    <tr style=\"text-align: right;\">\n",
       "      <th></th>\n",
       "      <th>HeartDisease</th>\n",
       "      <th>BMI</th>\n",
       "      <th>Smoking</th>\n",
       "      <th>AlcoholDrinking</th>\n",
       "      <th>Stroke</th>\n",
       "      <th>PhysicalHealth</th>\n",
       "      <th>MentalHealth</th>\n",
       "      <th>DiffWalking</th>\n",
       "      <th>Sex</th>\n",
       "      <th>AgeCategory</th>\n",
       "      <th>Race</th>\n",
       "      <th>Diabetic</th>\n",
       "      <th>PhysicalActivity</th>\n",
       "      <th>GenHealth</th>\n",
       "      <th>SleepTime</th>\n",
       "      <th>Asthma</th>\n",
       "      <th>KidneyDisease</th>\n",
       "      <th>SkinCancer</th>\n",
       "    </tr>\n",
       "  </thead>\n",
       "  <tbody>\n",
       "    <tr>\n",
       "      <th>0</th>\n",
       "      <td>0</td>\n",
       "      <td>16.60</td>\n",
       "      <td>1</td>\n",
       "      <td>0</td>\n",
       "      <td>0</td>\n",
       "      <td>3.0</td>\n",
       "      <td>30.0</td>\n",
       "      <td>0</td>\n",
       "      <td>0</td>\n",
       "      <td>7</td>\n",
       "      <td>5</td>\n",
       "      <td>2</td>\n",
       "      <td>1</td>\n",
       "      <td>4</td>\n",
       "      <td>5.0</td>\n",
       "      <td>1</td>\n",
       "      <td>0</td>\n",
       "      <td>1</td>\n",
       "    </tr>\n",
       "    <tr>\n",
       "      <th>1</th>\n",
       "      <td>0</td>\n",
       "      <td>20.34</td>\n",
       "      <td>0</td>\n",
       "      <td>0</td>\n",
       "      <td>1</td>\n",
       "      <td>0.0</td>\n",
       "      <td>0.0</td>\n",
       "      <td>0</td>\n",
       "      <td>0</td>\n",
       "      <td>12</td>\n",
       "      <td>5</td>\n",
       "      <td>0</td>\n",
       "      <td>1</td>\n",
       "      <td>4</td>\n",
       "      <td>7.0</td>\n",
       "      <td>0</td>\n",
       "      <td>0</td>\n",
       "      <td>0</td>\n",
       "    </tr>\n",
       "    <tr>\n",
       "      <th>2</th>\n",
       "      <td>0</td>\n",
       "      <td>26.58</td>\n",
       "      <td>1</td>\n",
       "      <td>0</td>\n",
       "      <td>0</td>\n",
       "      <td>20.0</td>\n",
       "      <td>30.0</td>\n",
       "      <td>0</td>\n",
       "      <td>1</td>\n",
       "      <td>9</td>\n",
       "      <td>5</td>\n",
       "      <td>2</td>\n",
       "      <td>1</td>\n",
       "      <td>1</td>\n",
       "      <td>8.0</td>\n",
       "      <td>1</td>\n",
       "      <td>0</td>\n",
       "      <td>0</td>\n",
       "    </tr>\n",
       "    <tr>\n",
       "      <th>3</th>\n",
       "      <td>0</td>\n",
       "      <td>24.21</td>\n",
       "      <td>0</td>\n",
       "      <td>0</td>\n",
       "      <td>0</td>\n",
       "      <td>0.0</td>\n",
       "      <td>0.0</td>\n",
       "      <td>0</td>\n",
       "      <td>0</td>\n",
       "      <td>11</td>\n",
       "      <td>5</td>\n",
       "      <td>0</td>\n",
       "      <td>0</td>\n",
       "      <td>2</td>\n",
       "      <td>6.0</td>\n",
       "      <td>0</td>\n",
       "      <td>0</td>\n",
       "      <td>1</td>\n",
       "    </tr>\n",
       "    <tr>\n",
       "      <th>4</th>\n",
       "      <td>0</td>\n",
       "      <td>23.71</td>\n",
       "      <td>0</td>\n",
       "      <td>0</td>\n",
       "      <td>0</td>\n",
       "      <td>28.0</td>\n",
       "      <td>0.0</td>\n",
       "      <td>1</td>\n",
       "      <td>0</td>\n",
       "      <td>4</td>\n",
       "      <td>5</td>\n",
       "      <td>0</td>\n",
       "      <td>1</td>\n",
       "      <td>4</td>\n",
       "      <td>8.0</td>\n",
       "      <td>0</td>\n",
       "      <td>0</td>\n",
       "      <td>0</td>\n",
       "    </tr>\n",
       "  </tbody>\n",
       "</table>\n",
       "</div>"
      ],
      "text/plain": [
       "   HeartDisease    BMI  Smoking  AlcoholDrinking  Stroke  PhysicalHealth  \\\n",
       "0             0  16.60        1                0       0             3.0   \n",
       "1             0  20.34        0                0       1             0.0   \n",
       "2             0  26.58        1                0       0            20.0   \n",
       "3             0  24.21        0                0       0             0.0   \n",
       "4             0  23.71        0                0       0            28.0   \n",
       "\n",
       "   MentalHealth  DiffWalking  Sex  AgeCategory  Race  Diabetic  \\\n",
       "0          30.0            0    0            7     5         2   \n",
       "1           0.0            0    0           12     5         0   \n",
       "2          30.0            0    1            9     5         2   \n",
       "3           0.0            0    0           11     5         0   \n",
       "4           0.0            1    0            4     5         0   \n",
       "\n",
       "   PhysicalActivity  GenHealth  SleepTime  Asthma  KidneyDisease  SkinCancer  \n",
       "0                 1          4        5.0       1              0           1  \n",
       "1                 1          4        7.0       0              0           0  \n",
       "2                 1          1        8.0       1              0           0  \n",
       "3                 0          2        6.0       0              0           1  \n",
       "4                 1          4        8.0       0              0           0  "
      ]
     },
     "execution_count": 87,
     "metadata": {},
     "output_type": "execute_result"
    }
   ],
   "source": [
    "df.head()"
   ]
  },
  {
   "cell_type": "markdown",
   "id": "105e1e9e",
   "metadata": {},
   "source": [
    "# SPLIT"
   ]
  },
  {
   "cell_type": "code",
   "execution_count": 88,
   "id": "7aeac190",
   "metadata": {},
   "outputs": [],
   "source": [
    "X_train,X_test,y_train,y_test=separation_of_train_test(df,\"Stroke\")"
   ]
  },
  {
   "cell_type": "code",
   "execution_count": 89,
   "id": "905740f9",
   "metadata": {},
   "outputs": [
    {
     "data": {
      "text/html": [
       "<div>\n",
       "<style scoped>\n",
       "    .dataframe tbody tr th:only-of-type {\n",
       "        vertical-align: middle;\n",
       "    }\n",
       "\n",
       "    .dataframe tbody tr th {\n",
       "        vertical-align: top;\n",
       "    }\n",
       "\n",
       "    .dataframe thead th {\n",
       "        text-align: right;\n",
       "    }\n",
       "</style>\n",
       "<table border=\"1\" class=\"dataframe\">\n",
       "  <thead>\n",
       "    <tr style=\"text-align: right;\">\n",
       "      <th></th>\n",
       "      <th>HeartDisease</th>\n",
       "      <th>BMI</th>\n",
       "      <th>Smoking</th>\n",
       "      <th>AlcoholDrinking</th>\n",
       "      <th>PhysicalHealth</th>\n",
       "      <th>MentalHealth</th>\n",
       "      <th>DiffWalking</th>\n",
       "      <th>Sex</th>\n",
       "      <th>AgeCategory</th>\n",
       "      <th>Race</th>\n",
       "      <th>Diabetic</th>\n",
       "      <th>PhysicalActivity</th>\n",
       "      <th>GenHealth</th>\n",
       "      <th>SleepTime</th>\n",
       "      <th>Asthma</th>\n",
       "      <th>KidneyDisease</th>\n",
       "      <th>SkinCancer</th>\n",
       "    </tr>\n",
       "  </thead>\n",
       "  <tbody>\n",
       "    <tr>\n",
       "      <th>116367</th>\n",
       "      <td>0</td>\n",
       "      <td>27.26</td>\n",
       "      <td>0</td>\n",
       "      <td>0</td>\n",
       "      <td>0.0</td>\n",
       "      <td>5.0</td>\n",
       "      <td>0</td>\n",
       "      <td>1</td>\n",
       "      <td>6</td>\n",
       "      <td>2</td>\n",
       "      <td>0</td>\n",
       "      <td>1</td>\n",
       "      <td>4</td>\n",
       "      <td>6.0</td>\n",
       "      <td>0</td>\n",
       "      <td>0</td>\n",
       "      <td>0</td>\n",
       "    </tr>\n",
       "    <tr>\n",
       "      <th>64747</th>\n",
       "      <td>0</td>\n",
       "      <td>22.43</td>\n",
       "      <td>1</td>\n",
       "      <td>0</td>\n",
       "      <td>0.0</td>\n",
       "      <td>5.0</td>\n",
       "      <td>1</td>\n",
       "      <td>0</td>\n",
       "      <td>12</td>\n",
       "      <td>5</td>\n",
       "      <td>0</td>\n",
       "      <td>1</td>\n",
       "      <td>2</td>\n",
       "      <td>6.0</td>\n",
       "      <td>0</td>\n",
       "      <td>0</td>\n",
       "      <td>0</td>\n",
       "    </tr>\n",
       "    <tr>\n",
       "      <th>232006</th>\n",
       "      <td>0</td>\n",
       "      <td>33.47</td>\n",
       "      <td>0</td>\n",
       "      <td>0</td>\n",
       "      <td>0.0</td>\n",
       "      <td>1.0</td>\n",
       "      <td>0</td>\n",
       "      <td>1</td>\n",
       "      <td>7</td>\n",
       "      <td>5</td>\n",
       "      <td>0</td>\n",
       "      <td>1</td>\n",
       "      <td>2</td>\n",
       "      <td>7.0</td>\n",
       "      <td>0</td>\n",
       "      <td>0</td>\n",
       "      <td>0</td>\n",
       "    </tr>\n",
       "    <tr>\n",
       "      <th>52915</th>\n",
       "      <td>0</td>\n",
       "      <td>24.89</td>\n",
       "      <td>1</td>\n",
       "      <td>0</td>\n",
       "      <td>0.0</td>\n",
       "      <td>0.0</td>\n",
       "      <td>0</td>\n",
       "      <td>0</td>\n",
       "      <td>10</td>\n",
       "      <td>5</td>\n",
       "      <td>0</td>\n",
       "      <td>1</td>\n",
       "      <td>4</td>\n",
       "      <td>8.0</td>\n",
       "      <td>0</td>\n",
       "      <td>0</td>\n",
       "      <td>0</td>\n",
       "    </tr>\n",
       "    <tr>\n",
       "      <th>145732</th>\n",
       "      <td>0</td>\n",
       "      <td>44.63</td>\n",
       "      <td>0</td>\n",
       "      <td>0</td>\n",
       "      <td>0.0</td>\n",
       "      <td>15.0</td>\n",
       "      <td>0</td>\n",
       "      <td>1</td>\n",
       "      <td>3</td>\n",
       "      <td>5</td>\n",
       "      <td>0</td>\n",
       "      <td>1</td>\n",
       "      <td>2</td>\n",
       "      <td>6.0</td>\n",
       "      <td>0</td>\n",
       "      <td>0</td>\n",
       "      <td>0</td>\n",
       "    </tr>\n",
       "  </tbody>\n",
       "</table>\n",
       "</div>"
      ],
      "text/plain": [
       "        HeartDisease    BMI  Smoking  AlcoholDrinking  PhysicalHealth  \\\n",
       "116367             0  27.26        0                0             0.0   \n",
       "64747              0  22.43        1                0             0.0   \n",
       "232006             0  33.47        0                0             0.0   \n",
       "52915              0  24.89        1                0             0.0   \n",
       "145732             0  44.63        0                0             0.0   \n",
       "\n",
       "        MentalHealth  DiffWalking  Sex  AgeCategory  Race  Diabetic  \\\n",
       "116367           5.0            0    1            6     2         0   \n",
       "64747            5.0            1    0           12     5         0   \n",
       "232006           1.0            0    1            7     5         0   \n",
       "52915            0.0            0    0           10     5         0   \n",
       "145732          15.0            0    1            3     5         0   \n",
       "\n",
       "        PhysicalActivity  GenHealth  SleepTime  Asthma  KidneyDisease  \\\n",
       "116367                 1          4        6.0       0              0   \n",
       "64747                  1          2        6.0       0              0   \n",
       "232006                 1          2        7.0       0              0   \n",
       "52915                  1          4        8.0       0              0   \n",
       "145732                 1          2        6.0       0              0   \n",
       "\n",
       "        SkinCancer  \n",
       "116367           0  \n",
       "64747            0  \n",
       "232006           0  \n",
       "52915            0  \n",
       "145732           0  "
      ]
     },
     "execution_count": 89,
     "metadata": {},
     "output_type": "execute_result"
    }
   ],
   "source": [
    "X_train.head()"
   ]
  },
  {
   "cell_type": "code",
   "execution_count": null,
   "id": "00c2f634",
   "metadata": {},
   "outputs": [],
   "source": []
  },
  {
   "cell_type": "markdown",
   "id": "4b493d22",
   "metadata": {},
   "source": [
    "# Standardization"
   ]
  },
  {
   "cell_type": "code",
   "execution_count": 90,
   "id": "ac50830f",
   "metadata": {},
   "outputs": [
    {
     "name": "stdout",
     "output_type": "stream",
     "text": [
      "Help on function to_standardized in module preprocessing:\n",
      "\n",
      "to_standardized(train_data)\n",
      "    This function allow you to standardized your data.\n",
      "    return : data_standardized and the scaler to scale your test data\n",
      "\n"
     ]
    }
   ],
   "source": [
    "help(to_standardized)"
   ]
  },
  {
   "cell_type": "code",
   "execution_count": 91,
   "id": "5a4470a2",
   "metadata": {},
   "outputs": [],
   "source": [
    "train_standardized=X_train[[\"BMI\",\"PhysicalHealth\",\"MentalHealth\",\"SleepTime\"]]\n",
    "test_standardized=X_test[[\"BMI\",\"PhysicalHealth\",\"MentalHealth\",\"SleepTime\"]]"
   ]
  },
  {
   "cell_type": "code",
   "execution_count": 92,
   "id": "0675dee3",
   "metadata": {},
   "outputs": [],
   "source": [
    "train_standardized,scaler=to_standardized(train_standardized)"
   ]
  },
  {
   "cell_type": "code",
   "execution_count": 93,
   "id": "9652ec32",
   "metadata": {},
   "outputs": [],
   "source": [
    "test_standardized=scaler.transform(test_standardized)\n",
    "test_standardized=pd.DataFrame(test_standardized,columns=train_standardized.columns)"
   ]
  },
  {
   "cell_type": "code",
   "execution_count": null,
   "id": "a2a51308",
   "metadata": {},
   "outputs": [],
   "source": []
  },
  {
   "cell_type": "code",
   "execution_count": 94,
   "id": "632398ac",
   "metadata": {},
   "outputs": [
    {
     "name": "stdout",
     "output_type": "stream",
     "text": [
      "Help on function to_concatenate in module to_concatenate:\n",
      "\n",
      "to_concatenate(df1, df2, list_of_var=['gender', 'hypertension', 'heart_disease', 'ever_married', 'work_type', 'Residence_type', 'smoking_status'])\n",
      "    list_of_var : list (list of var of df1)\n",
      "    df1 : pd.DataFrame. \n",
      "    df2 : pd.DataFrame\n",
      "    \n",
      "    return x_final : pd.DataFrame\n",
      "\n"
     ]
    }
   ],
   "source": [
    "help(to_concatenate)"
   ]
  },
  {
   "cell_type": "code",
   "execution_count": 95,
   "id": "52460afc",
   "metadata": {},
   "outputs": [],
   "source": [
    "x_train_standardized=to_concatenate(X_train,train_standardized,[\"HeartDisease\",\"Smoking\",\"AlcoholDrinking\",\"DiffWalking\",\"Sex\",\"AgeCategory\",\"Race\",\"Diabetic\",\"PhysicalActivity\",\"GenHealth\",\"Asthma\",\"KidneyDisease\",\"SkinCancer\"])\n",
    "x_test_standardized=to_concatenate(X_test,test_standardized,[\"HeartDisease\",\"Smoking\",\"AlcoholDrinking\",\"DiffWalking\",\"Sex\",\"AgeCategory\",\"Race\",\"Diabetic\",\"PhysicalActivity\",\"GenHealth\",\"Asthma\",\"KidneyDisease\",\"SkinCancer\"])"
   ]
  },
  {
   "cell_type": "code",
   "execution_count": 96,
   "id": "9dad648e",
   "metadata": {},
   "outputs": [
    {
     "data": {
      "text/html": [
       "<div>\n",
       "<style scoped>\n",
       "    .dataframe tbody tr th:only-of-type {\n",
       "        vertical-align: middle;\n",
       "    }\n",
       "\n",
       "    .dataframe tbody tr th {\n",
       "        vertical-align: top;\n",
       "    }\n",
       "\n",
       "    .dataframe thead th {\n",
       "        text-align: right;\n",
       "    }\n",
       "</style>\n",
       "<table border=\"1\" class=\"dataframe\">\n",
       "  <thead>\n",
       "    <tr style=\"text-align: right;\">\n",
       "      <th></th>\n",
       "      <th>HeartDisease</th>\n",
       "      <th>Smoking</th>\n",
       "      <th>AlcoholDrinking</th>\n",
       "      <th>DiffWalking</th>\n",
       "      <th>Sex</th>\n",
       "      <th>AgeCategory</th>\n",
       "      <th>Race</th>\n",
       "      <th>Diabetic</th>\n",
       "      <th>PhysicalActivity</th>\n",
       "      <th>GenHealth</th>\n",
       "      <th>Asthma</th>\n",
       "      <th>KidneyDisease</th>\n",
       "      <th>SkinCancer</th>\n",
       "      <th>BMI</th>\n",
       "      <th>PhysicalHealth</th>\n",
       "      <th>MentalHealth</th>\n",
       "      <th>SleepTime</th>\n",
       "    </tr>\n",
       "  </thead>\n",
       "  <tbody>\n",
       "    <tr>\n",
       "      <th>0</th>\n",
       "      <td>0</td>\n",
       "      <td>0</td>\n",
       "      <td>0</td>\n",
       "      <td>0</td>\n",
       "      <td>1</td>\n",
       "      <td>6</td>\n",
       "      <td>2</td>\n",
       "      <td>0</td>\n",
       "      <td>1</td>\n",
       "      <td>4</td>\n",
       "      <td>0</td>\n",
       "      <td>0</td>\n",
       "      <td>0</td>\n",
       "      <td>0.183991</td>\n",
       "      <td>0.0</td>\n",
       "      <td>0.166667</td>\n",
       "      <td>0.217391</td>\n",
       "    </tr>\n",
       "    <tr>\n",
       "      <th>1</th>\n",
       "      <td>0</td>\n",
       "      <td>1</td>\n",
       "      <td>0</td>\n",
       "      <td>1</td>\n",
       "      <td>0</td>\n",
       "      <td>12</td>\n",
       "      <td>5</td>\n",
       "      <td>0</td>\n",
       "      <td>1</td>\n",
       "      <td>2</td>\n",
       "      <td>0</td>\n",
       "      <td>0</td>\n",
       "      <td>0</td>\n",
       "      <td>0.125679</td>\n",
       "      <td>0.0</td>\n",
       "      <td>0.166667</td>\n",
       "      <td>0.217391</td>\n",
       "    </tr>\n",
       "    <tr>\n",
       "      <th>2</th>\n",
       "      <td>0</td>\n",
       "      <td>0</td>\n",
       "      <td>0</td>\n",
       "      <td>0</td>\n",
       "      <td>1</td>\n",
       "      <td>7</td>\n",
       "      <td>5</td>\n",
       "      <td>0</td>\n",
       "      <td>1</td>\n",
       "      <td>2</td>\n",
       "      <td>0</td>\n",
       "      <td>0</td>\n",
       "      <td>0</td>\n",
       "      <td>0.258964</td>\n",
       "      <td>0.0</td>\n",
       "      <td>0.033333</td>\n",
       "      <td>0.260870</td>\n",
       "    </tr>\n",
       "    <tr>\n",
       "      <th>3</th>\n",
       "      <td>0</td>\n",
       "      <td>1</td>\n",
       "      <td>0</td>\n",
       "      <td>0</td>\n",
       "      <td>0</td>\n",
       "      <td>10</td>\n",
       "      <td>5</td>\n",
       "      <td>0</td>\n",
       "      <td>1</td>\n",
       "      <td>4</td>\n",
       "      <td>0</td>\n",
       "      <td>0</td>\n",
       "      <td>0</td>\n",
       "      <td>0.155378</td>\n",
       "      <td>0.0</td>\n",
       "      <td>0.000000</td>\n",
       "      <td>0.304348</td>\n",
       "    </tr>\n",
       "    <tr>\n",
       "      <th>4</th>\n",
       "      <td>0</td>\n",
       "      <td>0</td>\n",
       "      <td>0</td>\n",
       "      <td>0</td>\n",
       "      <td>1</td>\n",
       "      <td>3</td>\n",
       "      <td>5</td>\n",
       "      <td>0</td>\n",
       "      <td>1</td>\n",
       "      <td>2</td>\n",
       "      <td>0</td>\n",
       "      <td>0</td>\n",
       "      <td>0</td>\n",
       "      <td>0.393698</td>\n",
       "      <td>0.0</td>\n",
       "      <td>0.500000</td>\n",
       "      <td>0.217391</td>\n",
       "    </tr>\n",
       "    <tr>\n",
       "      <th>...</th>\n",
       "      <td>...</td>\n",
       "      <td>...</td>\n",
       "      <td>...</td>\n",
       "      <td>...</td>\n",
       "      <td>...</td>\n",
       "      <td>...</td>\n",
       "      <td>...</td>\n",
       "      <td>...</td>\n",
       "      <td>...</td>\n",
       "      <td>...</td>\n",
       "      <td>...</td>\n",
       "      <td>...</td>\n",
       "      <td>...</td>\n",
       "      <td>...</td>\n",
       "      <td>...</td>\n",
       "      <td>...</td>\n",
       "      <td>...</td>\n",
       "    </tr>\n",
       "    <tr>\n",
       "      <th>223851</th>\n",
       "      <td>0</td>\n",
       "      <td>0</td>\n",
       "      <td>0</td>\n",
       "      <td>0</td>\n",
       "      <td>0</td>\n",
       "      <td>12</td>\n",
       "      <td>5</td>\n",
       "      <td>0</td>\n",
       "      <td>0</td>\n",
       "      <td>0</td>\n",
       "      <td>0</td>\n",
       "      <td>0</td>\n",
       "      <td>1</td>\n",
       "      <td>0.225160</td>\n",
       "      <td>0.0</td>\n",
       "      <td>0.000000</td>\n",
       "      <td>0.304348</td>\n",
       "    </tr>\n",
       "    <tr>\n",
       "      <th>223852</th>\n",
       "      <td>0</td>\n",
       "      <td>0</td>\n",
       "      <td>0</td>\n",
       "      <td>0</td>\n",
       "      <td>0</td>\n",
       "      <td>6</td>\n",
       "      <td>1</td>\n",
       "      <td>0</td>\n",
       "      <td>1</td>\n",
       "      <td>2</td>\n",
       "      <td>0</td>\n",
       "      <td>0</td>\n",
       "      <td>0</td>\n",
       "      <td>0.147169</td>\n",
       "      <td>0.0</td>\n",
       "      <td>0.000000</td>\n",
       "      <td>0.260870</td>\n",
       "    </tr>\n",
       "    <tr>\n",
       "      <th>223853</th>\n",
       "      <td>0</td>\n",
       "      <td>0</td>\n",
       "      <td>0</td>\n",
       "      <td>0</td>\n",
       "      <td>1</td>\n",
       "      <td>1</td>\n",
       "      <td>5</td>\n",
       "      <td>0</td>\n",
       "      <td>1</td>\n",
       "      <td>0</td>\n",
       "      <td>1</td>\n",
       "      <td>0</td>\n",
       "      <td>0</td>\n",
       "      <td>0.182301</td>\n",
       "      <td>0.0</td>\n",
       "      <td>0.000000</td>\n",
       "      <td>0.173913</td>\n",
       "    </tr>\n",
       "    <tr>\n",
       "      <th>223854</th>\n",
       "      <td>0</td>\n",
       "      <td>0</td>\n",
       "      <td>0</td>\n",
       "      <td>0</td>\n",
       "      <td>0</td>\n",
       "      <td>0</td>\n",
       "      <td>1</td>\n",
       "      <td>0</td>\n",
       "      <td>1</td>\n",
       "      <td>4</td>\n",
       "      <td>0</td>\n",
       "      <td>0</td>\n",
       "      <td>0</td>\n",
       "      <td>0.186406</td>\n",
       "      <td>0.0</td>\n",
       "      <td>0.233333</td>\n",
       "      <td>0.304348</td>\n",
       "    </tr>\n",
       "    <tr>\n",
       "      <th>223855</th>\n",
       "      <td>0</td>\n",
       "      <td>1</td>\n",
       "      <td>0</td>\n",
       "      <td>0</td>\n",
       "      <td>0</td>\n",
       "      <td>10</td>\n",
       "      <td>5</td>\n",
       "      <td>0</td>\n",
       "      <td>1</td>\n",
       "      <td>2</td>\n",
       "      <td>0</td>\n",
       "      <td>0</td>\n",
       "      <td>0</td>\n",
       "      <td>0.123144</td>\n",
       "      <td>0.0</td>\n",
       "      <td>0.000000</td>\n",
       "      <td>0.260870</td>\n",
       "    </tr>\n",
       "  </tbody>\n",
       "</table>\n",
       "<p>223856 rows × 17 columns</p>\n",
       "</div>"
      ],
      "text/plain": [
       "        HeartDisease  Smoking  AlcoholDrinking  DiffWalking  Sex  AgeCategory  \\\n",
       "0                  0        0                0            0    1            6   \n",
       "1                  0        1                0            1    0           12   \n",
       "2                  0        0                0            0    1            7   \n",
       "3                  0        1                0            0    0           10   \n",
       "4                  0        0                0            0    1            3   \n",
       "...              ...      ...              ...          ...  ...          ...   \n",
       "223851             0        0                0            0    0           12   \n",
       "223852             0        0                0            0    0            6   \n",
       "223853             0        0                0            0    1            1   \n",
       "223854             0        0                0            0    0            0   \n",
       "223855             0        1                0            0    0           10   \n",
       "\n",
       "        Race  Diabetic  PhysicalActivity  GenHealth  Asthma  KidneyDisease  \\\n",
       "0          2         0                 1          4       0              0   \n",
       "1          5         0                 1          2       0              0   \n",
       "2          5         0                 1          2       0              0   \n",
       "3          5         0                 1          4       0              0   \n",
       "4          5         0                 1          2       0              0   \n",
       "...      ...       ...               ...        ...     ...            ...   \n",
       "223851     5         0                 0          0       0              0   \n",
       "223852     1         0                 1          2       0              0   \n",
       "223853     5         0                 1          0       1              0   \n",
       "223854     1         0                 1          4       0              0   \n",
       "223855     5         0                 1          2       0              0   \n",
       "\n",
       "        SkinCancer       BMI  PhysicalHealth  MentalHealth  SleepTime  \n",
       "0                0  0.183991             0.0      0.166667   0.217391  \n",
       "1                0  0.125679             0.0      0.166667   0.217391  \n",
       "2                0  0.258964             0.0      0.033333   0.260870  \n",
       "3                0  0.155378             0.0      0.000000   0.304348  \n",
       "4                0  0.393698             0.0      0.500000   0.217391  \n",
       "...            ...       ...             ...           ...        ...  \n",
       "223851           1  0.225160             0.0      0.000000   0.304348  \n",
       "223852           0  0.147169             0.0      0.000000   0.260870  \n",
       "223853           0  0.182301             0.0      0.000000   0.173913  \n",
       "223854           0  0.186406             0.0      0.233333   0.304348  \n",
       "223855           0  0.123144             0.0      0.000000   0.260870  \n",
       "\n",
       "[223856 rows x 17 columns]"
      ]
     },
     "execution_count": 96,
     "metadata": {},
     "output_type": "execute_result"
    }
   ],
   "source": [
    "x_train_standardized"
   ]
  },
  {
   "cell_type": "code",
   "execution_count": null,
   "id": "ac4990ab",
   "metadata": {},
   "outputs": [],
   "source": []
  },
  {
   "cell_type": "markdown",
   "id": "30b88495",
   "metadata": {},
   "source": [
    "# Features selection"
   ]
  },
  {
   "cell_type": "code",
   "execution_count": 78,
   "id": "21b4df84",
   "metadata": {},
   "outputs": [
    {
     "data": {
      "image/png": "[encoded data removed]",
      "text/plain": [
       "<Figure size 432x288 with 1 Axes>"
      ]
     },
     "metadata": {
      "needs_background": "light"
     },
     "output_type": "display_data"
    }
   ],
   "source": [
    "x_train_,x_test_=features_selection(x_train_standardized,x_test_standardized,y_train,seuil=0.05)"
   ]
  },
  {
   "cell_type": "code",
   "execution_count": 79,
   "id": "698b9f73",
   "metadata": {},
   "outputs": [
    {
     "data": {
      "text/html": [
       "<div>\n",
       "<style scoped>\n",
       "    .dataframe tbody tr th:only-of-type {\n",
       "        vertical-align: middle;\n",
       "    }\n",
       "\n",
       "    .dataframe tbody tr th {\n",
       "        vertical-align: top;\n",
       "    }\n",
       "\n",
       "    .dataframe thead th {\n",
       "        text-align: right;\n",
       "    }\n",
       "</style>\n",
       "<table border=\"1\" class=\"dataframe\">\n",
       "  <thead>\n",
       "    <tr style=\"text-align: right;\">\n",
       "      <th></th>\n",
       "      <th>BMI</th>\n",
       "      <th>SleepTime</th>\n",
       "      <th>AgeCategory</th>\n",
       "      <th>PhysicalHealth</th>\n",
       "      <th>MentalHealth</th>\n",
       "      <th>GenHealth</th>\n",
       "    </tr>\n",
       "  </thead>\n",
       "  <tbody>\n",
       "    <tr>\n",
       "      <th>0</th>\n",
       "      <td>0.183991</td>\n",
       "      <td>0.217391</td>\n",
       "      <td>6</td>\n",
       "      <td>0.0</td>\n",
       "      <td>0.166667</td>\n",
       "      <td>4</td>\n",
       "    </tr>\n",
       "    <tr>\n",
       "      <th>1</th>\n",
       "      <td>0.125679</td>\n",
       "      <td>0.217391</td>\n",
       "      <td>12</td>\n",
       "      <td>0.0</td>\n",
       "      <td>0.166667</td>\n",
       "      <td>2</td>\n",
       "    </tr>\n",
       "    <tr>\n",
       "      <th>2</th>\n",
       "      <td>0.258964</td>\n",
       "      <td>0.260870</td>\n",
       "      <td>7</td>\n",
       "      <td>0.0</td>\n",
       "      <td>0.033333</td>\n",
       "      <td>2</td>\n",
       "    </tr>\n",
       "    <tr>\n",
       "      <th>3</th>\n",
       "      <td>0.155378</td>\n",
       "      <td>0.304348</td>\n",
       "      <td>10</td>\n",
       "      <td>0.0</td>\n",
       "      <td>0.000000</td>\n",
       "      <td>4</td>\n",
       "    </tr>\n",
       "    <tr>\n",
       "      <th>4</th>\n",
       "      <td>0.393698</td>\n",
       "      <td>0.217391</td>\n",
       "      <td>3</td>\n",
       "      <td>0.0</td>\n",
       "      <td>0.500000</td>\n",
       "      <td>2</td>\n",
       "    </tr>\n",
       "    <tr>\n",
       "      <th>...</th>\n",
       "      <td>...</td>\n",
       "      <td>...</td>\n",
       "      <td>...</td>\n",
       "      <td>...</td>\n",
       "      <td>...</td>\n",
       "      <td>...</td>\n",
       "    </tr>\n",
       "    <tr>\n",
       "      <th>223851</th>\n",
       "      <td>0.225160</td>\n",
       "      <td>0.304348</td>\n",
       "      <td>12</td>\n",
       "      <td>0.0</td>\n",
       "      <td>0.000000</td>\n",
       "      <td>0</td>\n",
       "    </tr>\n",
       "    <tr>\n",
       "      <th>223852</th>\n",
       "      <td>0.147169</td>\n",
       "      <td>0.260870</td>\n",
       "      <td>6</td>\n",
       "      <td>0.0</td>\n",
       "      <td>0.000000</td>\n",
       "      <td>2</td>\n",
       "    </tr>\n",
       "    <tr>\n",
       "      <th>223853</th>\n",
       "      <td>0.182301</td>\n",
       "      <td>0.173913</td>\n",
       "      <td>1</td>\n",
       "      <td>0.0</td>\n",
       "      <td>0.000000</td>\n",
       "      <td>0</td>\n",
       "    </tr>\n",
       "    <tr>\n",
       "      <th>223854</th>\n",
       "      <td>0.186406</td>\n",
       "      <td>0.304348</td>\n",
       "      <td>0</td>\n",
       "      <td>0.0</td>\n",
       "      <td>0.233333</td>\n",
       "      <td>4</td>\n",
       "    </tr>\n",
       "    <tr>\n",
       "      <th>223855</th>\n",
       "      <td>0.123144</td>\n",
       "      <td>0.260870</td>\n",
       "      <td>10</td>\n",
       "      <td>0.0</td>\n",
       "      <td>0.000000</td>\n",
       "      <td>2</td>\n",
       "    </tr>\n",
       "  </tbody>\n",
       "</table>\n",
       "<p>223856 rows × 6 columns</p>\n",
       "</div>"
      ],
      "text/plain": [
       "             BMI  SleepTime  AgeCategory  PhysicalHealth  MentalHealth  \\\n",
       "0       0.183991   0.217391            6             0.0      0.166667   \n",
       "1       0.125679   0.217391           12             0.0      0.166667   \n",
       "2       0.258964   0.260870            7             0.0      0.033333   \n",
       "3       0.155378   0.304348           10             0.0      0.000000   \n",
       "4       0.393698   0.217391            3             0.0      0.500000   \n",
       "...          ...        ...          ...             ...           ...   \n",
       "223851  0.225160   0.304348           12             0.0      0.000000   \n",
       "223852  0.147169   0.260870            6             0.0      0.000000   \n",
       "223853  0.182301   0.173913            1             0.0      0.000000   \n",
       "223854  0.186406   0.304348            0             0.0      0.233333   \n",
       "223855  0.123144   0.260870           10             0.0      0.000000   \n",
       "\n",
       "        GenHealth  \n",
       "0               4  \n",
       "1               2  \n",
       "2               2  \n",
       "3               4  \n",
       "4               2  \n",
       "...           ...  \n",
       "223851          0  \n",
       "223852          2  \n",
       "223853          0  \n",
       "223854          4  \n",
       "223855          2  \n",
       "\n",
       "[223856 rows x 6 columns]"
      ]
     },
     "execution_count": 79,
     "metadata": {},
     "output_type": "execute_result"
    }
   ],
   "source": [
    "x_train_"
   ]
  },
  {
   "cell_type": "code",
   "execution_count": 80,
   "id": "0ba4304e",
   "metadata": {},
   "outputs": [
    {
     "data": {
      "text/html": [
       "<div>\n",
       "<style scoped>\n",
       "    .dataframe tbody tr th:only-of-type {\n",
       "        vertical-align: middle;\n",
       "    }\n",
       "\n",
       "    .dataframe tbody tr th {\n",
       "        vertical-align: top;\n",
       "    }\n",
       "\n",
       "    .dataframe thead th {\n",
       "        text-align: right;\n",
       "    }\n",
       "</style>\n",
       "<table border=\"1\" class=\"dataframe\">\n",
       "  <thead>\n",
       "    <tr style=\"text-align: right;\">\n",
       "      <th></th>\n",
       "      <th>BMI</th>\n",
       "      <th>SleepTime</th>\n",
       "      <th>AgeCategory</th>\n",
       "      <th>PhysicalHealth</th>\n",
       "      <th>MentalHealth</th>\n",
       "      <th>GenHealth</th>\n",
       "    </tr>\n",
       "  </thead>\n",
       "  <tbody>\n",
       "    <tr>\n",
       "      <th>0</th>\n",
       "      <td>0.100809</td>\n",
       "      <td>0.304348</td>\n",
       "      <td>8</td>\n",
       "      <td>0.000000</td>\n",
       "      <td>0.066667</td>\n",
       "      <td>2</td>\n",
       "    </tr>\n",
       "    <tr>\n",
       "      <th>1</th>\n",
       "      <td>0.156948</td>\n",
       "      <td>0.260870</td>\n",
       "      <td>3</td>\n",
       "      <td>0.000000</td>\n",
       "      <td>0.000000</td>\n",
       "      <td>0</td>\n",
       "    </tr>\n",
       "    <tr>\n",
       "      <th>2</th>\n",
       "      <td>0.129060</td>\n",
       "      <td>0.217391</td>\n",
       "      <td>0</td>\n",
       "      <td>0.000000</td>\n",
       "      <td>0.700000</td>\n",
       "      <td>4</td>\n",
       "    </tr>\n",
       "    <tr>\n",
       "      <th>3</th>\n",
       "      <td>0.226609</td>\n",
       "      <td>0.260870</td>\n",
       "      <td>9</td>\n",
       "      <td>0.000000</td>\n",
       "      <td>0.000000</td>\n",
       "      <td>4</td>\n",
       "    </tr>\n",
       "    <tr>\n",
       "      <th>4</th>\n",
       "      <td>0.183991</td>\n",
       "      <td>0.217391</td>\n",
       "      <td>7</td>\n",
       "      <td>0.000000</td>\n",
       "      <td>0.000000</td>\n",
       "      <td>4</td>\n",
       "    </tr>\n",
       "    <tr>\n",
       "      <th>...</th>\n",
       "      <td>...</td>\n",
       "      <td>...</td>\n",
       "      <td>...</td>\n",
       "      <td>...</td>\n",
       "      <td>...</td>\n",
       "      <td>...</td>\n",
       "    </tr>\n",
       "    <tr>\n",
       "      <th>95934</th>\n",
       "      <td>0.185319</td>\n",
       "      <td>0.260870</td>\n",
       "      <td>5</td>\n",
       "      <td>0.000000</td>\n",
       "      <td>0.000000</td>\n",
       "      <td>2</td>\n",
       "    </tr>\n",
       "    <tr>\n",
       "      <th>95935</th>\n",
       "      <td>0.102982</td>\n",
       "      <td>0.260870</td>\n",
       "      <td>12</td>\n",
       "      <td>0.266667</td>\n",
       "      <td>0.333333</td>\n",
       "      <td>4</td>\n",
       "    </tr>\n",
       "    <tr>\n",
       "      <th>95936</th>\n",
       "      <td>0.095618</td>\n",
       "      <td>0.130435</td>\n",
       "      <td>3</td>\n",
       "      <td>1.000000</td>\n",
       "      <td>0.000000</td>\n",
       "      <td>1</td>\n",
       "    </tr>\n",
       "    <tr>\n",
       "      <th>95937</th>\n",
       "      <td>0.157914</td>\n",
       "      <td>0.217391</td>\n",
       "      <td>3</td>\n",
       "      <td>0.000000</td>\n",
       "      <td>0.000000</td>\n",
       "      <td>0</td>\n",
       "    </tr>\n",
       "    <tr>\n",
       "      <th>95938</th>\n",
       "      <td>0.186406</td>\n",
       "      <td>0.260870</td>\n",
       "      <td>8</td>\n",
       "      <td>0.000000</td>\n",
       "      <td>0.000000</td>\n",
       "      <td>4</td>\n",
       "    </tr>\n",
       "  </tbody>\n",
       "</table>\n",
       "<p>95939 rows × 6 columns</p>\n",
       "</div>"
      ],
      "text/plain": [
       "            BMI  SleepTime  AgeCategory  PhysicalHealth  MentalHealth  \\\n",
       "0      0.100809   0.304348            8        0.000000      0.066667   \n",
       "1      0.156948   0.260870            3        0.000000      0.000000   \n",
       "2      0.129060   0.217391            0        0.000000      0.700000   \n",
       "3      0.226609   0.260870            9        0.000000      0.000000   \n",
       "4      0.183991   0.217391            7        0.000000      0.000000   \n",
       "...         ...        ...          ...             ...           ...   \n",
       "95934  0.185319   0.260870            5        0.000000      0.000000   \n",
       "95935  0.102982   0.260870           12        0.266667      0.333333   \n",
       "95936  0.095618   0.130435            3        1.000000      0.000000   \n",
       "95937  0.157914   0.217391            3        0.000000      0.000000   \n",
       "95938  0.186406   0.260870            8        0.000000      0.000000   \n",
       "\n",
       "       GenHealth  \n",
       "0              2  \n",
       "1              0  \n",
       "2              4  \n",
       "3              4  \n",
       "4              4  \n",
       "...          ...  \n",
       "95934          2  \n",
       "95935          4  \n",
       "95936          1  \n",
       "95937          0  \n",
       "95938          4  \n",
       "\n",
       "[95939 rows x 6 columns]"
      ]
     },
     "execution_count": 80,
     "metadata": {},
     "output_type": "execute_result"
    }
   ],
   "source": [
    "x_test_"
   ]
  },
  {
   "cell_type": "code",
   "execution_count": 82,
   "id": "647539bc",
   "metadata": {},
   "outputs": [
    {
     "name": "stdout",
     "output_type": "stream",
     "text": [
      "Help on function compute_model in module to_compute_model:\n",
      "\n",
      "compute_model(model_name, x_train, y_train)\n",
      "    This function allows you to compute different sort of model.\n",
      "    You have RandomForest,XGBoost, BalancedBaggingClassifier or BalancedRandomForestClassifier.\n",
      "    model_name : (strg) The possible value of model_name is \"rdf\" for RandomForest, \"xgb\" for XGBoost, \"bbc\" for BalancedBaggingClassifier and \"brdf\" for BalancedRandomForestClassifier\n",
      "    \n",
      "    x_train : pd.DataFrame\n",
      "    y_train : Series\n",
      "    \n",
      "    return model\n",
      "\n"
     ]
    }
   ],
   "source": [
    "help(compute_model)"
   ]
  },
  {
   "cell_type": "code",
   "execution_count": 84,
   "id": "422092e4",
   "metadata": {},
   "outputs": [
    {
     "name": "stdout",
     "output_type": "stream",
     "text": [
      "Do you want to enter the params. Y/Nn\n"
     ]
    }
   ],
   "source": [
    "first_model=compute_model(\"rdf\",x_train_,y_train)"
   ]
  },
  {
   "cell_type": "code",
   "execution_count": 99,
   "id": "676b58d0",
   "metadata": {},
   "outputs": [],
   "source": [
    "model_resume=import_data(r\"C:\\Users\\Ninette HOUKPONOU\\Repertoire_python\\Memoire\\new_data\\model_resume.csv\")"
   ]
  },
  {
   "cell_type": "code",
   "execution_count": 88,
   "id": "bc8848ba",
   "metadata": {},
   "outputs": [
    {
     "name": "stdout",
     "output_type": "stream",
     "text": [
      "              precision    recall  f1-score   support\n",
      "\n",
      "           0       0.99      0.54      0.70     92318\n",
      "           1       0.07      0.83      0.12      3621\n",
      "\n",
      "    accuracy                           0.55     95939\n",
      "   macro avg       0.53      0.69      0.41     95939\n",
      "weighted avg       0.95      0.55      0.67     95939\n",
      "\n"
     ]
    }
   ],
   "source": [
    "sum_up=evaluation_of_model(first_model,x_test_,y_test,\"RandomForest_22_08_sleep\",model_resume)"
   ]
  },
  {
   "cell_type": "markdown",
   "id": "d081cb3c",
   "metadata": {},
   "source": [
    "# Test with smoted data"
   ]
  },
  {
   "cell_type": "code",
   "execution_count": null,
   "id": "7a9b463a",
   "metadata": {},
   "outputs": [],
   "source": [
    "x_test_resampled,y_test_resampled,resampler=resampling_data(x_test_,y_test,\"SMOTE\")"
   ]
  },
  {
   "cell_type": "code",
   "execution_count": 92,
   "id": "6824c4d3",
   "metadata": {},
   "outputs": [
    {
     "name": "stdout",
     "output_type": "stream",
     "text": [
      "              precision    recall  f1-score   support\n",
      "\n",
      "           0       0.76      0.54      0.63     92318\n",
      "           1       0.64      0.83      0.73     92318\n",
      "\n",
      "    accuracy                           0.69    184636\n",
      "   macro avg       0.70      0.69      0.68    184636\n",
      "weighted avg       0.70      0.69      0.68    184636\n",
      "\n"
     ]
    }
   ],
   "source": [
    "sum_up=evaluation_of_model(first_model,x_test_resampled,y_test_resampled,\"RandomForest_22_08_sleep\",model_resume)"
   ]
  },
  {
   "cell_type": "markdown",
   "id": "57922b66",
   "metadata": {},
   "source": [
    "### as the results are not very interesting, let's see if increasing the importance threshold of the var would improve it"
   ]
  },
  {
   "cell_type": "markdown",
   "id": "52cd31f8",
   "metadata": {},
   "source": [
    "# Feature selection (seuil == 0.07 )"
   ]
  },
  {
   "cell_type": "code",
   "execution_count": 97,
   "id": "41c98ee7",
   "metadata": {},
   "outputs": [
    {
     "data": {
      "image/png": "[encoded data removed]",
      "text/plain": [
       "<Figure size 432x288 with 1 Axes>"
      ]
     },
     "metadata": {
      "needs_background": "light"
     },
     "output_type": "display_data"
    }
   ],
   "source": [
    "x_train_1,x_test_1=features_selection(x_train_standardized,x_test_standardized,y_train,seuil=0.07)"
   ]
  },
  {
   "cell_type": "code",
   "execution_count": 98,
   "id": "f39b30c2",
   "metadata": {},
   "outputs": [
    {
     "data": {
      "text/html": [
       "<div>\n",
       "<style scoped>\n",
       "    .dataframe tbody tr th:only-of-type {\n",
       "        vertical-align: middle;\n",
       "    }\n",
       "\n",
       "    .dataframe tbody tr th {\n",
       "        vertical-align: top;\n",
       "    }\n",
       "\n",
       "    .dataframe thead th {\n",
       "        text-align: right;\n",
       "    }\n",
       "</style>\n",
       "<table border=\"1\" class=\"dataframe\">\n",
       "  <thead>\n",
       "    <tr style=\"text-align: right;\">\n",
       "      <th></th>\n",
       "      <th>BMI</th>\n",
       "      <th>SleepTime</th>\n",
       "      <th>AgeCategory</th>\n",
       "      <th>PhysicalHealth</th>\n",
       "      <th>MentalHealth</th>\n",
       "    </tr>\n",
       "  </thead>\n",
       "  <tbody>\n",
       "    <tr>\n",
       "      <th>0</th>\n",
       "      <td>0.183991</td>\n",
       "      <td>0.217391</td>\n",
       "      <td>6</td>\n",
       "      <td>0.0</td>\n",
       "      <td>0.166667</td>\n",
       "    </tr>\n",
       "    <tr>\n",
       "      <th>1</th>\n",
       "      <td>0.125679</td>\n",
       "      <td>0.217391</td>\n",
       "      <td>12</td>\n",
       "      <td>0.0</td>\n",
       "      <td>0.166667</td>\n",
       "    </tr>\n",
       "    <tr>\n",
       "      <th>2</th>\n",
       "      <td>0.258964</td>\n",
       "      <td>0.260870</td>\n",
       "      <td>7</td>\n",
       "      <td>0.0</td>\n",
       "      <td>0.033333</td>\n",
       "    </tr>\n",
       "    <tr>\n",
       "      <th>3</th>\n",
       "      <td>0.155378</td>\n",
       "      <td>0.304348</td>\n",
       "      <td>10</td>\n",
       "      <td>0.0</td>\n",
       "      <td>0.000000</td>\n",
       "    </tr>\n",
       "    <tr>\n",
       "      <th>4</th>\n",
       "      <td>0.393698</td>\n",
       "      <td>0.217391</td>\n",
       "      <td>3</td>\n",
       "      <td>0.0</td>\n",
       "      <td>0.500000</td>\n",
       "    </tr>\n",
       "    <tr>\n",
       "      <th>...</th>\n",
       "      <td>...</td>\n",
       "      <td>...</td>\n",
       "      <td>...</td>\n",
       "      <td>...</td>\n",
       "      <td>...</td>\n",
       "    </tr>\n",
       "    <tr>\n",
       "      <th>223851</th>\n",
       "      <td>0.225160</td>\n",
       "      <td>0.304348</td>\n",
       "      <td>12</td>\n",
       "      <td>0.0</td>\n",
       "      <td>0.000000</td>\n",
       "    </tr>\n",
       "    <tr>\n",
       "      <th>223852</th>\n",
       "      <td>0.147169</td>\n",
       "      <td>0.260870</td>\n",
       "      <td>6</td>\n",
       "      <td>0.0</td>\n",
       "      <td>0.000000</td>\n",
       "    </tr>\n",
       "    <tr>\n",
       "      <th>223853</th>\n",
       "      <td>0.182301</td>\n",
       "      <td>0.173913</td>\n",
       "      <td>1</td>\n",
       "      <td>0.0</td>\n",
       "      <td>0.000000</td>\n",
       "    </tr>\n",
       "    <tr>\n",
       "      <th>223854</th>\n",
       "      <td>0.186406</td>\n",
       "      <td>0.304348</td>\n",
       "      <td>0</td>\n",
       "      <td>0.0</td>\n",
       "      <td>0.233333</td>\n",
       "    </tr>\n",
       "    <tr>\n",
       "      <th>223855</th>\n",
       "      <td>0.123144</td>\n",
       "      <td>0.260870</td>\n",
       "      <td>10</td>\n",
       "      <td>0.0</td>\n",
       "      <td>0.000000</td>\n",
       "    </tr>\n",
       "  </tbody>\n",
       "</table>\n",
       "<p>223856 rows × 5 columns</p>\n",
       "</div>"
      ],
      "text/plain": [
       "             BMI  SleepTime  AgeCategory  PhysicalHealth  MentalHealth\n",
       "0       0.183991   0.217391            6             0.0      0.166667\n",
       "1       0.125679   0.217391           12             0.0      0.166667\n",
       "2       0.258964   0.260870            7             0.0      0.033333\n",
       "3       0.155378   0.304348           10             0.0      0.000000\n",
       "4       0.393698   0.217391            3             0.0      0.500000\n",
       "...          ...        ...          ...             ...           ...\n",
       "223851  0.225160   0.304348           12             0.0      0.000000\n",
       "223852  0.147169   0.260870            6             0.0      0.000000\n",
       "223853  0.182301   0.173913            1             0.0      0.000000\n",
       "223854  0.186406   0.304348            0             0.0      0.233333\n",
       "223855  0.123144   0.260870           10             0.0      0.000000\n",
       "\n",
       "[223856 rows x 5 columns]"
      ]
     },
     "execution_count": 98,
     "metadata": {},
     "output_type": "execute_result"
    }
   ],
   "source": [
    "x_train_1"
   ]
  },
  {
   "cell_type": "code",
   "execution_count": 101,
   "id": "41b15af8",
   "metadata": {},
   "outputs": [
    {
     "name": "stdout",
     "output_type": "stream",
     "text": [
      "Do you want to enter the params. Y/Nn\n",
      "              precision    recall  f1-score   support\n",
      "\n",
      "           0       0.99      0.45      0.62     92318\n",
      "           1       0.06      0.87      0.11      3621\n",
      "\n",
      "    accuracy                           0.47     95939\n",
      "   macro avg       0.52      0.66      0.36     95939\n",
      "weighted avg       0.95      0.47      0.60     95939\n",
      "\n"
     ]
    }
   ],
   "source": [
    "second_model=compute_model(\"rdf\",x_train_1,y_train)\n",
    "sum_up=evaluation_of_model(second_model,x_test_1,y_test,\"RandomForest_28_08_sleep\",model_resume)"
   ]
  },
  {
   "cell_type": "markdown",
   "id": "4aa88171",
   "metadata": {},
   "source": [
    "# Test with smoted var"
   ]
  },
  {
   "cell_type": "code",
   "execution_count": 102,
   "id": "26a133e4",
   "metadata": {},
   "outputs": [],
   "source": [
    "x_test1_resampled,y_test1_resampled,resampler=resampling_data(x_test_1,y_test,\"SMOTE\")"
   ]
  },
  {
   "cell_type": "code",
   "execution_count": 103,
   "id": "f495333d",
   "metadata": {},
   "outputs": [
    {
     "name": "stdout",
     "output_type": "stream",
     "text": [
      "              precision    recall  f1-score   support\n",
      "\n",
      "           0       0.78      0.45      0.57     92318\n",
      "           1       0.61      0.87      0.72     92318\n",
      "\n",
      "    accuracy                           0.66    184636\n",
      "   macro avg       0.70      0.66      0.65    184636\n",
      "weighted avg       0.70      0.66      0.65    184636\n",
      "\n"
     ]
    }
   ],
   "source": [
    "sum_up=evaluation_of_model(second_model,x_test1_resampled,y_test1_resampled,\"RandomForest_22_08_sleep\",model_resume)"
   ]
  },
  {
   "cell_type": "markdown",
   "id": "b3258dee",
   "metadata": {},
   "source": [
    "# Model with data_transform"
   ]
  },
  {
   "cell_type": "markdown",
   "id": "2fe22ebf",
   "metadata": {},
   "source": [
    "Data transform is the data to which we have made modifications such as a log on the BMI and cbrt to the MentalHealth..."
   ]
  },
  {
   "cell_type": "code",
   "execution_count": 115,
   "id": "769a3db0",
   "metadata": {},
   "outputs": [
    {
     "data": {
      "text/html": [
       "<div>\n",
       "<style scoped>\n",
       "    .dataframe tbody tr th:only-of-type {\n",
       "        vertical-align: middle;\n",
       "    }\n",
       "\n",
       "    .dataframe tbody tr th {\n",
       "        vertical-align: top;\n",
       "    }\n",
       "\n",
       "    .dataframe thead th {\n",
       "        text-align: right;\n",
       "    }\n",
       "</style>\n",
       "<table border=\"1\" class=\"dataframe\">\n",
       "  <thead>\n",
       "    <tr style=\"text-align: right;\">\n",
       "      <th></th>\n",
       "      <th>HeartDisease</th>\n",
       "      <th>Smoking</th>\n",
       "      <th>AlcoholDrinking</th>\n",
       "      <th>DiffWalking</th>\n",
       "      <th>Sex</th>\n",
       "      <th>AgeCategory</th>\n",
       "      <th>Race</th>\n",
       "      <th>Diabetic</th>\n",
       "      <th>PhysicalActivity</th>\n",
       "      <th>GenHealth</th>\n",
       "      <th>Asthma</th>\n",
       "      <th>KidneyDisease</th>\n",
       "      <th>SkinCancer</th>\n",
       "      <th>Stroke</th>\n",
       "      <th>BMI</th>\n",
       "      <th>PhysicalHealth</th>\n",
       "      <th>MentalHealth</th>\n",
       "      <th>SleepTime</th>\n",
       "    </tr>\n",
       "  </thead>\n",
       "  <tbody>\n",
       "    <tr>\n",
       "      <th>0</th>\n",
       "      <td>No</td>\n",
       "      <td>Yes</td>\n",
       "      <td>No</td>\n",
       "      <td>No</td>\n",
       "      <td>Female</td>\n",
       "      <td>55-59</td>\n",
       "      <td>White</td>\n",
       "      <td>Yes</td>\n",
       "      <td>Yes</td>\n",
       "      <td>Very good</td>\n",
       "      <td>Yes</td>\n",
       "      <td>No</td>\n",
       "      <td>Yes</td>\n",
       "      <td>No</td>\n",
       "      <td>2.809403</td>\n",
       "      <td>1.442250</td>\n",
       "      <td>3.107233</td>\n",
       "      <td>2.236068</td>\n",
       "    </tr>\n",
       "    <tr>\n",
       "      <th>1</th>\n",
       "      <td>No</td>\n",
       "      <td>No</td>\n",
       "      <td>No</td>\n",
       "      <td>No</td>\n",
       "      <td>Female</td>\n",
       "      <td>80 or older</td>\n",
       "      <td>White</td>\n",
       "      <td>No</td>\n",
       "      <td>Yes</td>\n",
       "      <td>Very good</td>\n",
       "      <td>No</td>\n",
       "      <td>No</td>\n",
       "      <td>No</td>\n",
       "      <td>Yes</td>\n",
       "      <td>3.012589</td>\n",
       "      <td>0.000000</td>\n",
       "      <td>0.000000</td>\n",
       "      <td>2.645751</td>\n",
       "    </tr>\n",
       "    <tr>\n",
       "      <th>2</th>\n",
       "      <td>No</td>\n",
       "      <td>Yes</td>\n",
       "      <td>No</td>\n",
       "      <td>No</td>\n",
       "      <td>Male</td>\n",
       "      <td>65-69</td>\n",
       "      <td>White</td>\n",
       "      <td>Yes</td>\n",
       "      <td>Yes</td>\n",
       "      <td>Fair</td>\n",
       "      <td>Yes</td>\n",
       "      <td>No</td>\n",
       "      <td>No</td>\n",
       "      <td>No</td>\n",
       "      <td>3.280159</td>\n",
       "      <td>2.714418</td>\n",
       "      <td>3.107233</td>\n",
       "      <td>2.828427</td>\n",
       "    </tr>\n",
       "    <tr>\n",
       "      <th>3</th>\n",
       "      <td>No</td>\n",
       "      <td>No</td>\n",
       "      <td>No</td>\n",
       "      <td>No</td>\n",
       "      <td>Female</td>\n",
       "      <td>75-79</td>\n",
       "      <td>White</td>\n",
       "      <td>No</td>\n",
       "      <td>No</td>\n",
       "      <td>Good</td>\n",
       "      <td>No</td>\n",
       "      <td>No</td>\n",
       "      <td>Yes</td>\n",
       "      <td>No</td>\n",
       "      <td>3.186766</td>\n",
       "      <td>0.000000</td>\n",
       "      <td>0.000000</td>\n",
       "      <td>2.449490</td>\n",
       "    </tr>\n",
       "    <tr>\n",
       "      <th>4</th>\n",
       "      <td>No</td>\n",
       "      <td>No</td>\n",
       "      <td>No</td>\n",
       "      <td>Yes</td>\n",
       "      <td>Female</td>\n",
       "      <td>40-44</td>\n",
       "      <td>White</td>\n",
       "      <td>No</td>\n",
       "      <td>Yes</td>\n",
       "      <td>Very good</td>\n",
       "      <td>No</td>\n",
       "      <td>No</td>\n",
       "      <td>No</td>\n",
       "      <td>No</td>\n",
       "      <td>3.165897</td>\n",
       "      <td>3.036589</td>\n",
       "      <td>0.000000</td>\n",
       "      <td>2.828427</td>\n",
       "    </tr>\n",
       "  </tbody>\n",
       "</table>\n",
       "</div>"
      ],
      "text/plain": [
       "  HeartDisease Smoking AlcoholDrinking DiffWalking     Sex  AgeCategory  \\\n",
       "0           No     Yes              No          No  Female        55-59   \n",
       "1           No      No              No          No  Female  80 or older   \n",
       "2           No     Yes              No          No    Male        65-69   \n",
       "3           No      No              No          No  Female        75-79   \n",
       "4           No      No              No         Yes  Female        40-44   \n",
       "\n",
       "    Race Diabetic PhysicalActivity  GenHealth Asthma KidneyDisease SkinCancer  \\\n",
       "0  White      Yes              Yes  Very good    Yes            No        Yes   \n",
       "1  White       No              Yes  Very good     No            No         No   \n",
       "2  White      Yes              Yes       Fair    Yes            No         No   \n",
       "3  White       No               No       Good     No            No        Yes   \n",
       "4  White       No              Yes  Very good     No            No         No   \n",
       "\n",
       "  Stroke       BMI  PhysicalHealth  MentalHealth  SleepTime  \n",
       "0     No  2.809403        1.442250      3.107233   2.236068  \n",
       "1    Yes  3.012589        0.000000      0.000000   2.645751  \n",
       "2     No  3.280159        2.714418      3.107233   2.828427  \n",
       "3     No  3.186766        0.000000      0.000000   2.449490  \n",
       "4     No  3.165897        3.036589      0.000000   2.828427  "
      ]
     },
     "execution_count": 115,
     "metadata": {},
     "output_type": "execute_result"
    }
   ],
   "source": [
    "data_transform.head()"
   ]
  },
  {
   "cell_type": "markdown",
   "id": "30c55f8d",
   "metadata": {},
   "source": [
    "# Encoding"
   ]
  },
  {
   "cell_type": "code",
   "execution_count": 116,
   "id": "2e09fbdf",
   "metadata": {},
   "outputs": [],
   "source": [
    "for col in data_transform.select_dtypes(\"object\"):\n",
    "    data_transform=to_encoded(data_transform,col)"
   ]
  },
  {
   "cell_type": "code",
   "execution_count": 117,
   "id": "be0d6a43",
   "metadata": {},
   "outputs": [
    {
     "data": {
      "text/html": [
       "<div>\n",
       "<style scoped>\n",
       "    .dataframe tbody tr th:only-of-type {\n",
       "        vertical-align: middle;\n",
       "    }\n",
       "\n",
       "    .dataframe tbody tr th {\n",
       "        vertical-align: top;\n",
       "    }\n",
       "\n",
       "    .dataframe thead th {\n",
       "        text-align: right;\n",
       "    }\n",
       "</style>\n",
       "<table border=\"1\" class=\"dataframe\">\n",
       "  <thead>\n",
       "    <tr style=\"text-align: right;\">\n",
       "      <th></th>\n",
       "      <th>HeartDisease</th>\n",
       "      <th>Smoking</th>\n",
       "      <th>AlcoholDrinking</th>\n",
       "      <th>DiffWalking</th>\n",
       "      <th>Sex</th>\n",
       "      <th>AgeCategory</th>\n",
       "      <th>Race</th>\n",
       "      <th>Diabetic</th>\n",
       "      <th>PhysicalActivity</th>\n",
       "      <th>GenHealth</th>\n",
       "      <th>Asthma</th>\n",
       "      <th>KidneyDisease</th>\n",
       "      <th>SkinCancer</th>\n",
       "      <th>Stroke</th>\n",
       "      <th>BMI</th>\n",
       "      <th>PhysicalHealth</th>\n",
       "      <th>MentalHealth</th>\n",
       "      <th>SleepTime</th>\n",
       "    </tr>\n",
       "  </thead>\n",
       "  <tbody>\n",
       "    <tr>\n",
       "      <th>0</th>\n",
       "      <td>0</td>\n",
       "      <td>1</td>\n",
       "      <td>0</td>\n",
       "      <td>0</td>\n",
       "      <td>0</td>\n",
       "      <td>7</td>\n",
       "      <td>5</td>\n",
       "      <td>2</td>\n",
       "      <td>1</td>\n",
       "      <td>4</td>\n",
       "      <td>1</td>\n",
       "      <td>0</td>\n",
       "      <td>1</td>\n",
       "      <td>0</td>\n",
       "      <td>2.809403</td>\n",
       "      <td>1.442250</td>\n",
       "      <td>3.107233</td>\n",
       "      <td>2.236068</td>\n",
       "    </tr>\n",
       "    <tr>\n",
       "      <th>1</th>\n",
       "      <td>0</td>\n",
       "      <td>0</td>\n",
       "      <td>0</td>\n",
       "      <td>0</td>\n",
       "      <td>0</td>\n",
       "      <td>12</td>\n",
       "      <td>5</td>\n",
       "      <td>0</td>\n",
       "      <td>1</td>\n",
       "      <td>4</td>\n",
       "      <td>0</td>\n",
       "      <td>0</td>\n",
       "      <td>0</td>\n",
       "      <td>1</td>\n",
       "      <td>3.012589</td>\n",
       "      <td>0.000000</td>\n",
       "      <td>0.000000</td>\n",
       "      <td>2.645751</td>\n",
       "    </tr>\n",
       "    <tr>\n",
       "      <th>2</th>\n",
       "      <td>0</td>\n",
       "      <td>1</td>\n",
       "      <td>0</td>\n",
       "      <td>0</td>\n",
       "      <td>1</td>\n",
       "      <td>9</td>\n",
       "      <td>5</td>\n",
       "      <td>2</td>\n",
       "      <td>1</td>\n",
       "      <td>1</td>\n",
       "      <td>1</td>\n",
       "      <td>0</td>\n",
       "      <td>0</td>\n",
       "      <td>0</td>\n",
       "      <td>3.280159</td>\n",
       "      <td>2.714418</td>\n",
       "      <td>3.107233</td>\n",
       "      <td>2.828427</td>\n",
       "    </tr>\n",
       "    <tr>\n",
       "      <th>3</th>\n",
       "      <td>0</td>\n",
       "      <td>0</td>\n",
       "      <td>0</td>\n",
       "      <td>0</td>\n",
       "      <td>0</td>\n",
       "      <td>11</td>\n",
       "      <td>5</td>\n",
       "      <td>0</td>\n",
       "      <td>0</td>\n",
       "      <td>2</td>\n",
       "      <td>0</td>\n",
       "      <td>0</td>\n",
       "      <td>1</td>\n",
       "      <td>0</td>\n",
       "      <td>3.186766</td>\n",
       "      <td>0.000000</td>\n",
       "      <td>0.000000</td>\n",
       "      <td>2.449490</td>\n",
       "    </tr>\n",
       "    <tr>\n",
       "      <th>4</th>\n",
       "      <td>0</td>\n",
       "      <td>0</td>\n",
       "      <td>0</td>\n",
       "      <td>1</td>\n",
       "      <td>0</td>\n",
       "      <td>4</td>\n",
       "      <td>5</td>\n",
       "      <td>0</td>\n",
       "      <td>1</td>\n",
       "      <td>4</td>\n",
       "      <td>0</td>\n",
       "      <td>0</td>\n",
       "      <td>0</td>\n",
       "      <td>0</td>\n",
       "      <td>3.165897</td>\n",
       "      <td>3.036589</td>\n",
       "      <td>0.000000</td>\n",
       "      <td>2.828427</td>\n",
       "    </tr>\n",
       "  </tbody>\n",
       "</table>\n",
       "</div>"
      ],
      "text/plain": [
       "   HeartDisease  Smoking  AlcoholDrinking  DiffWalking  Sex  AgeCategory  \\\n",
       "0             0        1                0            0    0            7   \n",
       "1             0        0                0            0    0           12   \n",
       "2             0        1                0            0    1            9   \n",
       "3             0        0                0            0    0           11   \n",
       "4             0        0                0            1    0            4   \n",
       "\n",
       "   Race  Diabetic  PhysicalActivity  GenHealth  Asthma  KidneyDisease  \\\n",
       "0     5         2                 1          4       1              0   \n",
       "1     5         0                 1          4       0              0   \n",
       "2     5         2                 1          1       1              0   \n",
       "3     5         0                 0          2       0              0   \n",
       "4     5         0                 1          4       0              0   \n",
       "\n",
       "   SkinCancer  Stroke       BMI  PhysicalHealth  MentalHealth  SleepTime  \n",
       "0           1       0  2.809403        1.442250      3.107233   2.236068  \n",
       "1           0       1  3.012589        0.000000      0.000000   2.645751  \n",
       "2           0       0  3.280159        2.714418      3.107233   2.828427  \n",
       "3           1       0  3.186766        0.000000      0.000000   2.449490  \n",
       "4           0       0  3.165897        3.036589      0.000000   2.828427  "
      ]
     },
     "execution_count": 117,
     "metadata": {},
     "output_type": "execute_result"
    }
   ],
   "source": [
    "data_transform.head()"
   ]
  },
  {
   "cell_type": "markdown",
   "id": "2f01e0d5",
   "metadata": {},
   "source": [
    "# SPLIT"
   ]
  },
  {
   "cell_type": "code",
   "execution_count": 118,
   "id": "88cb4633",
   "metadata": {},
   "outputs": [],
   "source": [
    "train_transform,test_transform,y_train,y_test=separation_of_train_test(data_transform,\"Stroke\")"
   ]
  },
  {
   "cell_type": "code",
   "execution_count": 122,
   "id": "e6e9d63e",
   "metadata": {},
   "outputs": [
    {
     "data": {
      "text/html": [
       "<div>\n",
       "<style scoped>\n",
       "    .dataframe tbody tr th:only-of-type {\n",
       "        vertical-align: middle;\n",
       "    }\n",
       "\n",
       "    .dataframe tbody tr th {\n",
       "        vertical-align: top;\n",
       "    }\n",
       "\n",
       "    .dataframe thead th {\n",
       "        text-align: right;\n",
       "    }\n",
       "</style>\n",
       "<table border=\"1\" class=\"dataframe\">\n",
       "  <thead>\n",
       "    <tr style=\"text-align: right;\">\n",
       "      <th></th>\n",
       "      <th>HeartDisease</th>\n",
       "      <th>Smoking</th>\n",
       "      <th>AlcoholDrinking</th>\n",
       "      <th>DiffWalking</th>\n",
       "      <th>Sex</th>\n",
       "      <th>AgeCategory</th>\n",
       "      <th>Race</th>\n",
       "      <th>Diabetic</th>\n",
       "      <th>PhysicalActivity</th>\n",
       "      <th>GenHealth</th>\n",
       "      <th>Asthma</th>\n",
       "      <th>KidneyDisease</th>\n",
       "      <th>SkinCancer</th>\n",
       "      <th>BMI</th>\n",
       "      <th>PhysicalHealth</th>\n",
       "      <th>MentalHealth</th>\n",
       "      <th>SleepTime</th>\n",
       "    </tr>\n",
       "  </thead>\n",
       "  <tbody>\n",
       "    <tr>\n",
       "      <th>116367</th>\n",
       "      <td>0</td>\n",
       "      <td>0</td>\n",
       "      <td>0</td>\n",
       "      <td>0</td>\n",
       "      <td>1</td>\n",
       "      <td>6</td>\n",
       "      <td>2</td>\n",
       "      <td>0</td>\n",
       "      <td>1</td>\n",
       "      <td>4</td>\n",
       "      <td>0</td>\n",
       "      <td>0</td>\n",
       "      <td>0</td>\n",
       "      <td>3.305420</td>\n",
       "      <td>0.0</td>\n",
       "      <td>1.709976</td>\n",
       "      <td>2.449490</td>\n",
       "    </tr>\n",
       "    <tr>\n",
       "      <th>64747</th>\n",
       "      <td>0</td>\n",
       "      <td>1</td>\n",
       "      <td>0</td>\n",
       "      <td>1</td>\n",
       "      <td>0</td>\n",
       "      <td>12</td>\n",
       "      <td>5</td>\n",
       "      <td>0</td>\n",
       "      <td>1</td>\n",
       "      <td>2</td>\n",
       "      <td>0</td>\n",
       "      <td>0</td>\n",
       "      <td>0</td>\n",
       "      <td>3.110399</td>\n",
       "      <td>0.0</td>\n",
       "      <td>1.709976</td>\n",
       "      <td>2.449490</td>\n",
       "    </tr>\n",
       "    <tr>\n",
       "      <th>232006</th>\n",
       "      <td>0</td>\n",
       "      <td>0</td>\n",
       "      <td>0</td>\n",
       "      <td>0</td>\n",
       "      <td>1</td>\n",
       "      <td>7</td>\n",
       "      <td>5</td>\n",
       "      <td>0</td>\n",
       "      <td>1</td>\n",
       "      <td>2</td>\n",
       "      <td>0</td>\n",
       "      <td>0</td>\n",
       "      <td>0</td>\n",
       "      <td>3.510650</td>\n",
       "      <td>0.0</td>\n",
       "      <td>1.000000</td>\n",
       "      <td>2.645751</td>\n",
       "    </tr>\n",
       "    <tr>\n",
       "      <th>52915</th>\n",
       "      <td>0</td>\n",
       "      <td>1</td>\n",
       "      <td>0</td>\n",
       "      <td>0</td>\n",
       "      <td>0</td>\n",
       "      <td>10</td>\n",
       "      <td>5</td>\n",
       "      <td>0</td>\n",
       "      <td>1</td>\n",
       "      <td>4</td>\n",
       "      <td>0</td>\n",
       "      <td>0</td>\n",
       "      <td>0</td>\n",
       "      <td>3.214466</td>\n",
       "      <td>0.0</td>\n",
       "      <td>0.000000</td>\n",
       "      <td>2.828427</td>\n",
       "    </tr>\n",
       "    <tr>\n",
       "      <th>145732</th>\n",
       "      <td>0</td>\n",
       "      <td>0</td>\n",
       "      <td>0</td>\n",
       "      <td>0</td>\n",
       "      <td>1</td>\n",
       "      <td>3</td>\n",
       "      <td>5</td>\n",
       "      <td>0</td>\n",
       "      <td>1</td>\n",
       "      <td>2</td>\n",
       "      <td>0</td>\n",
       "      <td>0</td>\n",
       "      <td>0</td>\n",
       "      <td>3.798406</td>\n",
       "      <td>0.0</td>\n",
       "      <td>2.466212</td>\n",
       "      <td>2.449490</td>\n",
       "    </tr>\n",
       "  </tbody>\n",
       "</table>\n",
       "</div>"
      ],
      "text/plain": [
       "        HeartDisease  Smoking  AlcoholDrinking  DiffWalking  Sex  AgeCategory  \\\n",
       "116367             0        0                0            0    1            6   \n",
       "64747              0        1                0            1    0           12   \n",
       "232006             0        0                0            0    1            7   \n",
       "52915              0        1                0            0    0           10   \n",
       "145732             0        0                0            0    1            3   \n",
       "\n",
       "        Race  Diabetic  PhysicalActivity  GenHealth  Asthma  KidneyDisease  \\\n",
       "116367     2         0                 1          4       0              0   \n",
       "64747      5         0                 1          2       0              0   \n",
       "232006     5         0                 1          2       0              0   \n",
       "52915      5         0                 1          4       0              0   \n",
       "145732     5         0                 1          2       0              0   \n",
       "\n",
       "        SkinCancer       BMI  PhysicalHealth  MentalHealth  SleepTime  \n",
       "116367           0  3.305420             0.0      1.709976   2.449490  \n",
       "64747            0  3.110399             0.0      1.709976   2.449490  \n",
       "232006           0  3.510650             0.0      1.000000   2.645751  \n",
       "52915            0  3.214466             0.0      0.000000   2.828427  \n",
       "145732           0  3.798406             0.0      2.466212   2.449490  "
      ]
     },
     "execution_count": 122,
     "metadata": {},
     "output_type": "execute_result"
    }
   ],
   "source": [
    "train_transform.head()"
   ]
  },
  {
   "cell_type": "markdown",
   "id": "5fdb916a",
   "metadata": {},
   "source": [
    "# Standardization"
   ]
  },
  {
   "cell_type": "code",
   "execution_count": 127,
   "id": "28132f02",
   "metadata": {},
   "outputs": [],
   "source": [
    "train_trans_standardized=train_transform[[\"BMI\",\"PhysicalHealth\",\"MentalHealth\",\"SleepTime\"]]\n",
    "test_trans_standardized=test_transform[[\"BMI\",\"PhysicalHealth\",\"MentalHealth\",\"SleepTime\"]]"
   ]
  },
  {
   "cell_type": "code",
   "execution_count": 128,
   "id": "15f6d02c",
   "metadata": {},
   "outputs": [],
   "source": [
    "train_trans_standardized,scaler_trans=to_standardized(train_trans_standardized)\n",
    "test_trans_standardized=scaler_trans.transform(test_trans_standardized)\n",
    "test_trans_standardized=pd.DataFrame(test_trans_standardized,columns=train_trans_standardized.columns)"
   ]
  },
  {
   "cell_type": "code",
   "execution_count": 131,
   "id": "37b09cea",
   "metadata": {},
   "outputs": [],
   "source": [
    "train_trans_standardized=to_concatenate(train_transform,train_trans_standardized,[\"HeartDisease\",\"Smoking\",\"AlcoholDrinking\",\"DiffWalking\",\"Sex\",\"AgeCategory\",\"Race\",\"Diabetic\",\"PhysicalActivity\",\"GenHealth\",\"Asthma\",\"KidneyDisease\",\"SkinCancer\"])\n",
    "test_trans_standardized=to_concatenate(test_transform,test_trans_standardized,[\"HeartDisease\",\"Smoking\",\"AlcoholDrinking\",\"DiffWalking\",\"Sex\",\"AgeCategory\",\"Race\",\"Diabetic\",\"PhysicalActivity\",\"GenHealth\",\"Asthma\",\"KidneyDisease\",\"SkinCancer\"])"
   ]
  },
  {
   "cell_type": "code",
   "execution_count": 132,
   "id": "49710c59",
   "metadata": {},
   "outputs": [
    {
     "data": {
      "text/html": [
       "<div>\n",
       "<style scoped>\n",
       "    .dataframe tbody tr th:only-of-type {\n",
       "        vertical-align: middle;\n",
       "    }\n",
       "\n",
       "    .dataframe tbody tr th {\n",
       "        vertical-align: top;\n",
       "    }\n",
       "\n",
       "    .dataframe thead th {\n",
       "        text-align: right;\n",
       "    }\n",
       "</style>\n",
       "<table border=\"1\" class=\"dataframe\">\n",
       "  <thead>\n",
       "    <tr style=\"text-align: right;\">\n",
       "      <th></th>\n",
       "      <th>HeartDisease</th>\n",
       "      <th>Smoking</th>\n",
       "      <th>AlcoholDrinking</th>\n",
       "      <th>DiffWalking</th>\n",
       "      <th>Sex</th>\n",
       "      <th>AgeCategory</th>\n",
       "      <th>Race</th>\n",
       "      <th>Diabetic</th>\n",
       "      <th>PhysicalActivity</th>\n",
       "      <th>GenHealth</th>\n",
       "      <th>Asthma</th>\n",
       "      <th>KidneyDisease</th>\n",
       "      <th>SkinCancer</th>\n",
       "      <th>BMI</th>\n",
       "      <th>PhysicalHealth</th>\n",
       "      <th>MentalHealth</th>\n",
       "      <th>SleepTime</th>\n",
       "    </tr>\n",
       "  </thead>\n",
       "  <tbody>\n",
       "    <tr>\n",
       "      <th>0</th>\n",
       "      <td>0</td>\n",
       "      <td>0</td>\n",
       "      <td>0</td>\n",
       "      <td>0</td>\n",
       "      <td>1</td>\n",
       "      <td>6</td>\n",
       "      <td>2</td>\n",
       "      <td>0</td>\n",
       "      <td>1</td>\n",
       "      <td>4</td>\n",
       "      <td>0</td>\n",
       "      <td>0</td>\n",
       "      <td>0</td>\n",
       "      <td>0.396398</td>\n",
       "      <td>0.0</td>\n",
       "      <td>0.550321</td>\n",
       "      <td>0.371761</td>\n",
       "    </tr>\n",
       "    <tr>\n",
       "      <th>1</th>\n",
       "      <td>0</td>\n",
       "      <td>1</td>\n",
       "      <td>0</td>\n",
       "      <td>1</td>\n",
       "      <td>0</td>\n",
       "      <td>12</td>\n",
       "      <td>5</td>\n",
       "      <td>0</td>\n",
       "      <td>1</td>\n",
       "      <td>2</td>\n",
       "      <td>0</td>\n",
       "      <td>0</td>\n",
       "      <td>0</td>\n",
       "      <td>0.301990</td>\n",
       "      <td>0.0</td>\n",
       "      <td>0.550321</td>\n",
       "      <td>0.371761</td>\n",
       "    </tr>\n",
       "    <tr>\n",
       "      <th>2</th>\n",
       "      <td>0</td>\n",
       "      <td>0</td>\n",
       "      <td>0</td>\n",
       "      <td>0</td>\n",
       "      <td>1</td>\n",
       "      <td>7</td>\n",
       "      <td>5</td>\n",
       "      <td>0</td>\n",
       "      <td>1</td>\n",
       "      <td>2</td>\n",
       "      <td>0</td>\n",
       "      <td>0</td>\n",
       "      <td>0</td>\n",
       "      <td>0.495747</td>\n",
       "      <td>0.0</td>\n",
       "      <td>0.321830</td>\n",
       "      <td>0.422098</td>\n",
       "    </tr>\n",
       "    <tr>\n",
       "      <th>3</th>\n",
       "      <td>0</td>\n",
       "      <td>1</td>\n",
       "      <td>0</td>\n",
       "      <td>0</td>\n",
       "      <td>0</td>\n",
       "      <td>10</td>\n",
       "      <td>5</td>\n",
       "      <td>0</td>\n",
       "      <td>1</td>\n",
       "      <td>4</td>\n",
       "      <td>0</td>\n",
       "      <td>0</td>\n",
       "      <td>0</td>\n",
       "      <td>0.352367</td>\n",
       "      <td>0.0</td>\n",
       "      <td>0.000000</td>\n",
       "      <td>0.468950</td>\n",
       "    </tr>\n",
       "    <tr>\n",
       "      <th>4</th>\n",
       "      <td>0</td>\n",
       "      <td>0</td>\n",
       "      <td>0</td>\n",
       "      <td>0</td>\n",
       "      <td>1</td>\n",
       "      <td>3</td>\n",
       "      <td>5</td>\n",
       "      <td>0</td>\n",
       "      <td>1</td>\n",
       "      <td>2</td>\n",
       "      <td>0</td>\n",
       "      <td>0</td>\n",
       "      <td>0</td>\n",
       "      <td>0.635048</td>\n",
       "      <td>0.0</td>\n",
       "      <td>0.793701</td>\n",
       "      <td>0.371761</td>\n",
       "    </tr>\n",
       "    <tr>\n",
       "      <th>...</th>\n",
       "      <td>...</td>\n",
       "      <td>...</td>\n",
       "      <td>...</td>\n",
       "      <td>...</td>\n",
       "      <td>...</td>\n",
       "      <td>...</td>\n",
       "      <td>...</td>\n",
       "      <td>...</td>\n",
       "      <td>...</td>\n",
       "      <td>...</td>\n",
       "      <td>...</td>\n",
       "      <td>...</td>\n",
       "      <td>...</td>\n",
       "      <td>...</td>\n",
       "      <td>...</td>\n",
       "      <td>...</td>\n",
       "      <td>...</td>\n",
       "    </tr>\n",
       "    <tr>\n",
       "      <th>223851</th>\n",
       "      <td>0</td>\n",
       "      <td>0</td>\n",
       "      <td>0</td>\n",
       "      <td>0</td>\n",
       "      <td>0</td>\n",
       "      <td>12</td>\n",
       "      <td>5</td>\n",
       "      <td>0</td>\n",
       "      <td>0</td>\n",
       "      <td>0</td>\n",
       "      <td>0</td>\n",
       "      <td>0</td>\n",
       "      <td>1</td>\n",
       "      <td>0.453455</td>\n",
       "      <td>0.0</td>\n",
       "      <td>0.000000</td>\n",
       "      <td>0.468950</td>\n",
       "    </tr>\n",
       "    <tr>\n",
       "      <th>223852</th>\n",
       "      <td>0</td>\n",
       "      <td>0</td>\n",
       "      <td>0</td>\n",
       "      <td>0</td>\n",
       "      <td>0</td>\n",
       "      <td>6</td>\n",
       "      <td>1</td>\n",
       "      <td>0</td>\n",
       "      <td>1</td>\n",
       "      <td>2</td>\n",
       "      <td>0</td>\n",
       "      <td>0</td>\n",
       "      <td>0</td>\n",
       "      <td>0.338958</td>\n",
       "      <td>0.0</td>\n",
       "      <td>0.000000</td>\n",
       "      <td>0.422098</td>\n",
       "    </tr>\n",
       "    <tr>\n",
       "      <th>223853</th>\n",
       "      <td>0</td>\n",
       "      <td>0</td>\n",
       "      <td>0</td>\n",
       "      <td>0</td>\n",
       "      <td>1</td>\n",
       "      <td>1</td>\n",
       "      <td>5</td>\n",
       "      <td>0</td>\n",
       "      <td>1</td>\n",
       "      <td>0</td>\n",
       "      <td>1</td>\n",
       "      <td>0</td>\n",
       "      <td>0</td>\n",
       "      <td>0.393905</td>\n",
       "      <td>0.0</td>\n",
       "      <td>0.000000</td>\n",
       "      <td>0.317023</td>\n",
       "    </tr>\n",
       "    <tr>\n",
       "      <th>223854</th>\n",
       "      <td>0</td>\n",
       "      <td>0</td>\n",
       "      <td>0</td>\n",
       "      <td>0</td>\n",
       "      <td>0</td>\n",
       "      <td>0</td>\n",
       "      <td>1</td>\n",
       "      <td>0</td>\n",
       "      <td>1</td>\n",
       "      <td>4</td>\n",
       "      <td>0</td>\n",
       "      <td>0</td>\n",
       "      <td>0</td>\n",
       "      <td>0.399936</td>\n",
       "      <td>0.0</td>\n",
       "      <td>0.615638</td>\n",
       "      <td>0.468950</td>\n",
       "    </tr>\n",
       "    <tr>\n",
       "      <th>223855</th>\n",
       "      <td>0</td>\n",
       "      <td>1</td>\n",
       "      <td>0</td>\n",
       "      <td>0</td>\n",
       "      <td>0</td>\n",
       "      <td>10</td>\n",
       "      <td>5</td>\n",
       "      <td>0</td>\n",
       "      <td>1</td>\n",
       "      <td>2</td>\n",
       "      <td>0</td>\n",
       "      <td>0</td>\n",
       "      <td>0</td>\n",
       "      <td>0.297436</td>\n",
       "      <td>0.0</td>\n",
       "      <td>0.000000</td>\n",
       "      <td>0.422098</td>\n",
       "    </tr>\n",
       "  </tbody>\n",
       "</table>\n",
       "<p>223856 rows × 17 columns</p>\n",
       "</div>"
      ],
      "text/plain": [
       "        HeartDisease  Smoking  AlcoholDrinking  DiffWalking  Sex  AgeCategory  \\\n",
       "0                  0        0                0            0    1            6   \n",
       "1                  0        1                0            1    0           12   \n",
       "2                  0        0                0            0    1            7   \n",
       "3                  0        1                0            0    0           10   \n",
       "4                  0        0                0            0    1            3   \n",
       "...              ...      ...              ...          ...  ...          ...   \n",
       "223851             0        0                0            0    0           12   \n",
       "223852             0        0                0            0    0            6   \n",
       "223853             0        0                0            0    1            1   \n",
       "223854             0        0                0            0    0            0   \n",
       "223855             0        1                0            0    0           10   \n",
       "\n",
       "        Race  Diabetic  PhysicalActivity  GenHealth  Asthma  KidneyDisease  \\\n",
       "0          2         0                 1          4       0              0   \n",
       "1          5         0                 1          2       0              0   \n",
       "2          5         0                 1          2       0              0   \n",
       "3          5         0                 1          4       0              0   \n",
       "4          5         0                 1          2       0              0   \n",
       "...      ...       ...               ...        ...     ...            ...   \n",
       "223851     5         0                 0          0       0              0   \n",
       "223852     1         0                 1          2       0              0   \n",
       "223853     5         0                 1          0       1              0   \n",
       "223854     1         0                 1          4       0              0   \n",
       "223855     5         0                 1          2       0              0   \n",
       "\n",
       "        SkinCancer       BMI  PhysicalHealth  MentalHealth  SleepTime  \n",
       "0                0  0.396398             0.0      0.550321   0.371761  \n",
       "1                0  0.301990             0.0      0.550321   0.371761  \n",
       "2                0  0.495747             0.0      0.321830   0.422098  \n",
       "3                0  0.352367             0.0      0.000000   0.468950  \n",
       "4                0  0.635048             0.0      0.793701   0.371761  \n",
       "...            ...       ...             ...           ...        ...  \n",
       "223851           1  0.453455             0.0      0.000000   0.468950  \n",
       "223852           0  0.338958             0.0      0.000000   0.422098  \n",
       "223853           0  0.393905             0.0      0.000000   0.317023  \n",
       "223854           0  0.399936             0.0      0.615638   0.468950  \n",
       "223855           0  0.297436             0.0      0.000000   0.422098  \n",
       "\n",
       "[223856 rows x 17 columns]"
      ]
     },
     "execution_count": 132,
     "metadata": {},
     "output_type": "execute_result"
    }
   ],
   "source": [
    "train_trans_standardized"
   ]
  },
  {
   "cell_type": "code",
   "execution_count": 133,
   "id": "f5e23c2a",
   "metadata": {},
   "outputs": [
    {
     "data": {
      "text/html": [
       "<div>\n",
       "<style scoped>\n",
       "    .dataframe tbody tr th:only-of-type {\n",
       "        vertical-align: middle;\n",
       "    }\n",
       "\n",
       "    .dataframe tbody tr th {\n",
       "        vertical-align: top;\n",
       "    }\n",
       "\n",
       "    .dataframe thead th {\n",
       "        text-align: right;\n",
       "    }\n",
       "</style>\n",
       "<table border=\"1\" class=\"dataframe\">\n",
       "  <thead>\n",
       "    <tr style=\"text-align: right;\">\n",
       "      <th></th>\n",
       "      <th>HeartDisease</th>\n",
       "      <th>Smoking</th>\n",
       "      <th>AlcoholDrinking</th>\n",
       "      <th>DiffWalking</th>\n",
       "      <th>Sex</th>\n",
       "      <th>AgeCategory</th>\n",
       "      <th>Race</th>\n",
       "      <th>Diabetic</th>\n",
       "      <th>PhysicalActivity</th>\n",
       "      <th>GenHealth</th>\n",
       "      <th>Asthma</th>\n",
       "      <th>KidneyDisease</th>\n",
       "      <th>SkinCancer</th>\n",
       "      <th>BMI</th>\n",
       "      <th>PhysicalHealth</th>\n",
       "      <th>MentalHealth</th>\n",
       "      <th>SleepTime</th>\n",
       "    </tr>\n",
       "  </thead>\n",
       "  <tbody>\n",
       "    <tr>\n",
       "      <th>0</th>\n",
       "      <td>0</td>\n",
       "      <td>1</td>\n",
       "      <td>0</td>\n",
       "      <td>0</td>\n",
       "      <td>0</td>\n",
       "      <td>8</td>\n",
       "      <td>5</td>\n",
       "      <td>0</td>\n",
       "      <td>1</td>\n",
       "      <td>2</td>\n",
       "      <td>0</td>\n",
       "      <td>0</td>\n",
       "      <td>0</td>\n",
       "      <td>0.255354</td>\n",
       "      <td>0.00000</td>\n",
       "      <td>0.405480</td>\n",
       "      <td>0.468950</td>\n",
       "    </tr>\n",
       "    <tr>\n",
       "      <th>1</th>\n",
       "      <td>0</td>\n",
       "      <td>0</td>\n",
       "      <td>0</td>\n",
       "      <td>0</td>\n",
       "      <td>0</td>\n",
       "      <td>3</td>\n",
       "      <td>5</td>\n",
       "      <td>0</td>\n",
       "      <td>1</td>\n",
       "      <td>0</td>\n",
       "      <td>0</td>\n",
       "      <td>0</td>\n",
       "      <td>0</td>\n",
       "      <td>0.354889</td>\n",
       "      <td>0.00000</td>\n",
       "      <td>0.000000</td>\n",
       "      <td>0.422098</td>\n",
       "    </tr>\n",
       "    <tr>\n",
       "      <th>2</th>\n",
       "      <td>0</td>\n",
       "      <td>0</td>\n",
       "      <td>0</td>\n",
       "      <td>0</td>\n",
       "      <td>1</td>\n",
       "      <td>0</td>\n",
       "      <td>3</td>\n",
       "      <td>0</td>\n",
       "      <td>1</td>\n",
       "      <td>4</td>\n",
       "      <td>0</td>\n",
       "      <td>0</td>\n",
       "      <td>0</td>\n",
       "      <td>0.307995</td>\n",
       "      <td>0.00000</td>\n",
       "      <td>0.887904</td>\n",
       "      <td>0.371761</td>\n",
       "    </tr>\n",
       "    <tr>\n",
       "      <th>3</th>\n",
       "      <td>0</td>\n",
       "      <td>1</td>\n",
       "      <td>0</td>\n",
       "      <td>0</td>\n",
       "      <td>1</td>\n",
       "      <td>9</td>\n",
       "      <td>5</td>\n",
       "      <td>0</td>\n",
       "      <td>0</td>\n",
       "      <td>4</td>\n",
       "      <td>0</td>\n",
       "      <td>0</td>\n",
       "      <td>0</td>\n",
       "      <td>0.455345</td>\n",
       "      <td>0.00000</td>\n",
       "      <td>0.000000</td>\n",
       "      <td>0.422098</td>\n",
       "    </tr>\n",
       "    <tr>\n",
       "      <th>4</th>\n",
       "      <td>0</td>\n",
       "      <td>0</td>\n",
       "      <td>0</td>\n",
       "      <td>0</td>\n",
       "      <td>0</td>\n",
       "      <td>7</td>\n",
       "      <td>5</td>\n",
       "      <td>0</td>\n",
       "      <td>1</td>\n",
       "      <td>4</td>\n",
       "      <td>0</td>\n",
       "      <td>0</td>\n",
       "      <td>0</td>\n",
       "      <td>0.396398</td>\n",
       "      <td>0.00000</td>\n",
       "      <td>0.000000</td>\n",
       "      <td>0.371761</td>\n",
       "    </tr>\n",
       "    <tr>\n",
       "      <th>...</th>\n",
       "      <td>...</td>\n",
       "      <td>...</td>\n",
       "      <td>...</td>\n",
       "      <td>...</td>\n",
       "      <td>...</td>\n",
       "      <td>...</td>\n",
       "      <td>...</td>\n",
       "      <td>...</td>\n",
       "      <td>...</td>\n",
       "      <td>...</td>\n",
       "      <td>...</td>\n",
       "      <td>...</td>\n",
       "      <td>...</td>\n",
       "      <td>...</td>\n",
       "      <td>...</td>\n",
       "      <td>...</td>\n",
       "      <td>...</td>\n",
       "    </tr>\n",
       "    <tr>\n",
       "      <th>95934</th>\n",
       "      <td>0</td>\n",
       "      <td>1</td>\n",
       "      <td>0</td>\n",
       "      <td>0</td>\n",
       "      <td>1</td>\n",
       "      <td>5</td>\n",
       "      <td>5</td>\n",
       "      <td>0</td>\n",
       "      <td>1</td>\n",
       "      <td>2</td>\n",
       "      <td>1</td>\n",
       "      <td>0</td>\n",
       "      <td>0</td>\n",
       "      <td>0.398347</td>\n",
       "      <td>0.00000</td>\n",
       "      <td>0.000000</td>\n",
       "      <td>0.422098</td>\n",
       "    </tr>\n",
       "    <tr>\n",
       "      <th>95935</th>\n",
       "      <td>0</td>\n",
       "      <td>1</td>\n",
       "      <td>1</td>\n",
       "      <td>0</td>\n",
       "      <td>0</td>\n",
       "      <td>12</td>\n",
       "      <td>5</td>\n",
       "      <td>0</td>\n",
       "      <td>1</td>\n",
       "      <td>4</td>\n",
       "      <td>0</td>\n",
       "      <td>0</td>\n",
       "      <td>0</td>\n",
       "      <td>0.259613</td>\n",
       "      <td>0.64366</td>\n",
       "      <td>0.693361</td>\n",
       "      <td>0.422098</td>\n",
       "    </tr>\n",
       "    <tr>\n",
       "      <th>95936</th>\n",
       "      <td>0</td>\n",
       "      <td>1</td>\n",
       "      <td>0</td>\n",
       "      <td>1</td>\n",
       "      <td>0</td>\n",
       "      <td>3</td>\n",
       "      <td>5</td>\n",
       "      <td>0</td>\n",
       "      <td>0</td>\n",
       "      <td>1</td>\n",
       "      <td>0</td>\n",
       "      <td>0</td>\n",
       "      <td>0</td>\n",
       "      <td>0.245026</td>\n",
       "      <td>1.00000</td>\n",
       "      <td>0.000000</td>\n",
       "      <td>0.256477</td>\n",
       "    </tr>\n",
       "    <tr>\n",
       "      <th>95937</th>\n",
       "      <td>0</td>\n",
       "      <td>0</td>\n",
       "      <td>0</td>\n",
       "      <td>0</td>\n",
       "      <td>1</td>\n",
       "      <td>3</td>\n",
       "      <td>5</td>\n",
       "      <td>0</td>\n",
       "      <td>1</td>\n",
       "      <td>0</td>\n",
       "      <td>0</td>\n",
       "      <td>0</td>\n",
       "      <td>0</td>\n",
       "      <td>0.356435</td>\n",
       "      <td>0.00000</td>\n",
       "      <td>0.000000</td>\n",
       "      <td>0.371761</td>\n",
       "    </tr>\n",
       "    <tr>\n",
       "      <th>95938</th>\n",
       "      <td>0</td>\n",
       "      <td>1</td>\n",
       "      <td>0</td>\n",
       "      <td>0</td>\n",
       "      <td>0</td>\n",
       "      <td>8</td>\n",
       "      <td>2</td>\n",
       "      <td>2</td>\n",
       "      <td>1</td>\n",
       "      <td>4</td>\n",
       "      <td>0</td>\n",
       "      <td>0</td>\n",
       "      <td>0</td>\n",
       "      <td>0.399936</td>\n",
       "      <td>0.00000</td>\n",
       "      <td>0.000000</td>\n",
       "      <td>0.422098</td>\n",
       "    </tr>\n",
       "  </tbody>\n",
       "</table>\n",
       "<p>95939 rows × 17 columns</p>\n",
       "</div>"
      ],
      "text/plain": [
       "       HeartDisease  Smoking  AlcoholDrinking  DiffWalking  Sex  AgeCategory  \\\n",
       "0                 0        1                0            0    0            8   \n",
       "1                 0        0                0            0    0            3   \n",
       "2                 0        0                0            0    1            0   \n",
       "3                 0        1                0            0    1            9   \n",
       "4                 0        0                0            0    0            7   \n",
       "...             ...      ...              ...          ...  ...          ...   \n",
       "95934             0        1                0            0    1            5   \n",
       "95935             0        1                1            0    0           12   \n",
       "95936             0        1                0            1    0            3   \n",
       "95937             0        0                0            0    1            3   \n",
       "95938             0        1                0            0    0            8   \n",
       "\n",
       "       Race  Diabetic  PhysicalActivity  GenHealth  Asthma  KidneyDisease  \\\n",
       "0         5         0                 1          2       0              0   \n",
       "1         5         0                 1          0       0              0   \n",
       "2         3         0                 1          4       0              0   \n",
       "3         5         0                 0          4       0              0   \n",
       "4         5         0                 1          4       0              0   \n",
       "...     ...       ...               ...        ...     ...            ...   \n",
       "95934     5         0                 1          2       1              0   \n",
       "95935     5         0                 1          4       0              0   \n",
       "95936     5         0                 0          1       0              0   \n",
       "95937     5         0                 1          0       0              0   \n",
       "95938     2         2                 1          4       0              0   \n",
       "\n",
       "       SkinCancer       BMI  PhysicalHealth  MentalHealth  SleepTime  \n",
       "0               0  0.255354         0.00000      0.405480   0.468950  \n",
       "1               0  0.354889         0.00000      0.000000   0.422098  \n",
       "2               0  0.307995         0.00000      0.887904   0.371761  \n",
       "3               0  0.455345         0.00000      0.000000   0.422098  \n",
       "4               0  0.396398         0.00000      0.000000   0.371761  \n",
       "...           ...       ...             ...           ...        ...  \n",
       "95934           0  0.398347         0.00000      0.000000   0.422098  \n",
       "95935           0  0.259613         0.64366      0.693361   0.422098  \n",
       "95936           0  0.245026         1.00000      0.000000   0.256477  \n",
       "95937           0  0.356435         0.00000      0.000000   0.371761  \n",
       "95938           0  0.399936         0.00000      0.000000   0.422098  \n",
       "\n",
       "[95939 rows x 17 columns]"
      ]
     },
     "execution_count": 133,
     "metadata": {},
     "output_type": "execute_result"
    }
   ],
   "source": [
    "test_trans_standardized"
   ]
  },
  {
   "cell_type": "markdown",
   "id": "28cb33d1",
   "metadata": {},
   "source": [
    "# Feature selection"
   ]
  },
  {
   "cell_type": "code",
   "execution_count": 134,
   "id": "8b931a4e",
   "metadata": {},
   "outputs": [
    {
     "data": {
      "image/png": "[encoded data removed]",
      "text/plain": [
       "<Figure size 432x288 with 1 Axes>"
      ]
     },
     "metadata": {
      "needs_background": "light"
     },
     "output_type": "display_data"
    }
   ],
   "source": [
    "x_train_trans,x_test_trans=features_selection(train_trans_standardized,test_trans_standardized,y_train,seuil=0.05)"
   ]
  },
  {
   "cell_type": "code",
   "execution_count": 135,
   "id": "4200aa41",
   "metadata": {},
   "outputs": [
    {
     "data": {
      "text/html": [
       "<div>\n",
       "<style scoped>\n",
       "    .dataframe tbody tr th:only-of-type {\n",
       "        vertical-align: middle;\n",
       "    }\n",
       "\n",
       "    .dataframe tbody tr th {\n",
       "        vertical-align: top;\n",
       "    }\n",
       "\n",
       "    .dataframe thead th {\n",
       "        text-align: right;\n",
       "    }\n",
       "</style>\n",
       "<table border=\"1\" class=\"dataframe\">\n",
       "  <thead>\n",
       "    <tr style=\"text-align: right;\">\n",
       "      <th></th>\n",
       "      <th>BMI</th>\n",
       "      <th>SleepTime</th>\n",
       "      <th>AgeCategory</th>\n",
       "      <th>PhysicalHealth</th>\n",
       "      <th>MentalHealth</th>\n",
       "      <th>GenHealth</th>\n",
       "    </tr>\n",
       "  </thead>\n",
       "  <tbody>\n",
       "    <tr>\n",
       "      <th>0</th>\n",
       "      <td>0.396398</td>\n",
       "      <td>0.371761</td>\n",
       "      <td>6</td>\n",
       "      <td>0.0</td>\n",
       "      <td>0.550321</td>\n",
       "      <td>4</td>\n",
       "    </tr>\n",
       "    <tr>\n",
       "      <th>1</th>\n",
       "      <td>0.301990</td>\n",
       "      <td>0.371761</td>\n",
       "      <td>12</td>\n",
       "      <td>0.0</td>\n",
       "      <td>0.550321</td>\n",
       "      <td>2</td>\n",
       "    </tr>\n",
       "    <tr>\n",
       "      <th>2</th>\n",
       "      <td>0.495747</td>\n",
       "      <td>0.422098</td>\n",
       "      <td>7</td>\n",
       "      <td>0.0</td>\n",
       "      <td>0.321830</td>\n",
       "      <td>2</td>\n",
       "    </tr>\n",
       "    <tr>\n",
       "      <th>3</th>\n",
       "      <td>0.352367</td>\n",
       "      <td>0.468950</td>\n",
       "      <td>10</td>\n",
       "      <td>0.0</td>\n",
       "      <td>0.000000</td>\n",
       "      <td>4</td>\n",
       "    </tr>\n",
       "    <tr>\n",
       "      <th>4</th>\n",
       "      <td>0.635048</td>\n",
       "      <td>0.371761</td>\n",
       "      <td>3</td>\n",
       "      <td>0.0</td>\n",
       "      <td>0.793701</td>\n",
       "      <td>2</td>\n",
       "    </tr>\n",
       "    <tr>\n",
       "      <th>...</th>\n",
       "      <td>...</td>\n",
       "      <td>...</td>\n",
       "      <td>...</td>\n",
       "      <td>...</td>\n",
       "      <td>...</td>\n",
       "      <td>...</td>\n",
       "    </tr>\n",
       "    <tr>\n",
       "      <th>223851</th>\n",
       "      <td>0.453455</td>\n",
       "      <td>0.468950</td>\n",
       "      <td>12</td>\n",
       "      <td>0.0</td>\n",
       "      <td>0.000000</td>\n",
       "      <td>0</td>\n",
       "    </tr>\n",
       "    <tr>\n",
       "      <th>223852</th>\n",
       "      <td>0.338958</td>\n",
       "      <td>0.422098</td>\n",
       "      <td>6</td>\n",
       "      <td>0.0</td>\n",
       "      <td>0.000000</td>\n",
       "      <td>2</td>\n",
       "    </tr>\n",
       "    <tr>\n",
       "      <th>223853</th>\n",
       "      <td>0.393905</td>\n",
       "      <td>0.317023</td>\n",
       "      <td>1</td>\n",
       "      <td>0.0</td>\n",
       "      <td>0.000000</td>\n",
       "      <td>0</td>\n",
       "    </tr>\n",
       "    <tr>\n",
       "      <th>223854</th>\n",
       "      <td>0.399936</td>\n",
       "      <td>0.468950</td>\n",
       "      <td>0</td>\n",
       "      <td>0.0</td>\n",
       "      <td>0.615638</td>\n",
       "      <td>4</td>\n",
       "    </tr>\n",
       "    <tr>\n",
       "      <th>223855</th>\n",
       "      <td>0.297436</td>\n",
       "      <td>0.422098</td>\n",
       "      <td>10</td>\n",
       "      <td>0.0</td>\n",
       "      <td>0.000000</td>\n",
       "      <td>2</td>\n",
       "    </tr>\n",
       "  </tbody>\n",
       "</table>\n",
       "<p>223856 rows × 6 columns</p>\n",
       "</div>"
      ],
      "text/plain": [
       "             BMI  SleepTime  AgeCategory  PhysicalHealth  MentalHealth  \\\n",
       "0       0.396398   0.371761            6             0.0      0.550321   \n",
       "1       0.301990   0.371761           12             0.0      0.550321   \n",
       "2       0.495747   0.422098            7             0.0      0.321830   \n",
       "3       0.352367   0.468950           10             0.0      0.000000   \n",
       "4       0.635048   0.371761            3             0.0      0.793701   \n",
       "...          ...        ...          ...             ...           ...   \n",
       "223851  0.453455   0.468950           12             0.0      0.000000   \n",
       "223852  0.338958   0.422098            6             0.0      0.000000   \n",
       "223853  0.393905   0.317023            1             0.0      0.000000   \n",
       "223854  0.399936   0.468950            0             0.0      0.615638   \n",
       "223855  0.297436   0.422098           10             0.0      0.000000   \n",
       "\n",
       "        GenHealth  \n",
       "0               4  \n",
       "1               2  \n",
       "2               2  \n",
       "3               4  \n",
       "4               2  \n",
       "...           ...  \n",
       "223851          0  \n",
       "223852          2  \n",
       "223853          0  \n",
       "223854          4  \n",
       "223855          2  \n",
       "\n",
       "[223856 rows x 6 columns]"
      ]
     },
     "execution_count": 135,
     "metadata": {},
     "output_type": "execute_result"
    }
   ],
   "source": [
    "x_train_trans"
   ]
  },
  {
   "cell_type": "markdown",
   "id": "532c1a28",
   "metadata": {},
   "source": [
    "# Modelisation"
   ]
  },
  {
   "cell_type": "code",
   "execution_count": null,
   "id": "019a4eba",
   "metadata": {},
   "outputs": [],
   "source": [
    "third_model=compute_model(\"rdf\",x_train_trans,y_train)\n"
   ]
  },
  {
   "cell_type": "code",
   "execution_count": 137,
   "id": "7b448039",
   "metadata": {},
   "outputs": [
    {
     "name": "stdout",
     "output_type": "stream",
     "text": [
      "              precision    recall  f1-score   support\n",
      "\n",
      "           0       0.99      0.54      0.70     92318\n",
      "           1       0.07      0.83      0.12      3621\n",
      "\n",
      "    accuracy                           0.55     95939\n",
      "   macro avg       0.53      0.69      0.41     95939\n",
      "weighted avg       0.95      0.55      0.67     95939\n",
      "\n"
     ]
    }
   ],
   "source": [
    "sum_up=evaluation_of_model(third_model,x_test_trans,y_test,\"RandomForest_28_08_sleep\",model_resume)"
   ]
  },
  {
   "cell_type": "code",
   "execution_count": 138,
   "id": "7ad3982d",
   "metadata": {},
   "outputs": [],
   "source": [
    "x_test_trans_resampled,y_test_trans_resampled,resampler_trans=resampling_data(x_test_trans,y_test,\"SMOTE\")"
   ]
  },
  {
   "cell_type": "code",
   "execution_count": 140,
   "id": "d969ef4f",
   "metadata": {},
   "outputs": [
    {
     "name": "stdout",
     "output_type": "stream",
     "text": [
      "              precision    recall  f1-score   support\n",
      "\n",
      "           0       0.76      0.54      0.63     92318\n",
      "           1       0.64      0.83      0.73     92318\n",
      "\n",
      "    accuracy                           0.69    184636\n",
      "   macro avg       0.70      0.69      0.68    184636\n",
      "weighted avg       0.70      0.69      0.68    184636\n",
      "\n"
     ]
    }
   ],
   "source": [
    "sum_up=evaluation_of_model(third_model,x_test_trans_resampled,y_test_trans_resampled,\"RandomForest_28_08_sleep\",model_resume)"
   ]
  },
  {
   "cell_type": "markdown",
   "id": "4de90084",
   "metadata": {},
   "source": [
    "# Feature selection with seuil=0.07"
   ]
  },
  {
   "cell_type": "code",
   "execution_count": 141,
   "id": "08274897",
   "metadata": {},
   "outputs": [
    {
     "data": {
      "image/png": "[encoded data removed]",
      "text/plain": [
       "<Figure size 432x288 with 1 Axes>"
      ]
     },
     "metadata": {
      "needs_background": "light"
     },
     "output_type": "display_data"
    }
   ],
   "source": [
    "x_train_trans,x_test_trans=features_selection(train_trans_standardized,test_trans_standardized,y_train,seuil=0.07)"
   ]
  },
  {
   "cell_type": "code",
   "execution_count": 142,
   "id": "1b152cf0",
   "metadata": {},
   "outputs": [
    {
     "name": "stdout",
     "output_type": "stream",
     "text": [
      "Do you want to enter the params. Y/Nn\n"
     ]
    }
   ],
   "source": [
    "fourth_model=compute_model(\"rdf\",x_train_trans,y_train)\n"
   ]
  },
  {
   "cell_type": "code",
   "execution_count": 144,
   "id": "c287ec14",
   "metadata": {},
   "outputs": [
    {
     "name": "stdout",
     "output_type": "stream",
     "text": [
      "              precision    recall  f1-score   support\n",
      "\n",
      "           0       0.99      0.45      0.62     92318\n",
      "           1       0.06      0.87      0.11      3621\n",
      "\n",
      "    accuracy                           0.47     95939\n",
      "   macro avg       0.52      0.66      0.36     95939\n",
      "weighted avg       0.95      0.47      0.60     95939\n",
      "\n"
     ]
    }
   ],
   "source": [
    "sum_up=evaluation_of_model(fourth_model,x_test_trans,y_test,\"RandomForest_28_08_sleep\",model_resume)"
   ]
  },
  {
   "cell_type": "code",
   "execution_count": 147,
   "id": "ec7d2c25",
   "metadata": {},
   "outputs": [],
   "source": [
    "x_test_trans_resampled,y_test_trans_resampled,resampler_trans=resampling_data(x_test_trans,y_test,\"SMOTE\")"
   ]
  },
  {
   "cell_type": "code",
   "execution_count": 149,
   "id": "c4db59c9",
   "metadata": {},
   "outputs": [
    {
     "name": "stdout",
     "output_type": "stream",
     "text": [
      "              precision    recall  f1-score   support\n",
      "\n",
      "           0       0.78      0.45      0.57     92318\n",
      "           1       0.61      0.87      0.72     92318\n",
      "\n",
      "    accuracy                           0.66    184636\n",
      "   macro avg       0.70      0.66      0.65    184636\n",
      "weighted avg       0.70      0.66      0.65    184636\n",
      "\n"
     ]
    }
   ],
   "source": [
    "sum_up=evaluation_of_model(fourth_model,x_test_trans_resampled,y_test_trans_resampled,\"RandomForest_28_08_sleep\",model_resume)"
   ]
  },
  {
   "cell_type": "markdown",
   "id": "b473fe92",
   "metadata": {},
   "source": [
    "Conclusion : Whether the data is transformed or not, the results are the same"
   ]
  },
  {
   "cell_type": "code",
   "execution_count": null,
   "id": "93c2fafa",
   "metadata": {},
   "outputs": [],
   "source": []
  }
 ],
 "metadata": {
  "kernelspec": {
   "display_name": "Python 3",
   "language": "python",
   "name": "python3"
  },
  "language_info": {
   "codemirror_mode": {
    "name": "ipython",
    "version": 3
   },
   "file_extension": ".py",
   "mimetype": "text/x-python",
   "name": "python",
   "nbconvert_exporter": "python",
   "pygments_lexer": "ipython3",
   "version": "3.8.3"
  }
 },
 "nbformat": 4,
 "nbformat_minor": 5
}
