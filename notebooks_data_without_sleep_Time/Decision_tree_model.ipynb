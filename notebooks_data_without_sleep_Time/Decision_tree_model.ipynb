{
 "cells": [
  {
   "cell_type": "code",
   "execution_count": 2,
   "id": "146db29b",
   "metadata": {},
   "outputs": [],
   "source": [
    "import sys\n",
    "sys.path.append(r\"C:\\Users\\Ninette HOUKPONOU\\Repertoire_python\\Memoire\\module_memoire\")"
   ]
  },
  {
   "cell_type": "code",
   "execution_count": 3,
   "id": "232daf77",
   "metadata": {},
   "outputs": [
    {
     "name": "stderr",
     "output_type": "stream",
     "text": [
      "C:\\Users\\Ninette HOUKPONOU\\anaconda3\\lib\\site-packages\\pandas\\core\\computation\\expressions.py:20: UserWarning: Pandas requires version '2.7.3' or newer of 'numexpr' (version '2.7.1' currently installed).\n",
      "  from pandas.core.computation.check import NUMEXPR_INSTALLED\n"
     ]
    }
   ],
   "source": [
    "import pandas as pd\n",
    "from exploratory_analysis import *\n",
    "from dependency_plot import *\n",
    "from to_compute_model import *\n",
    "from to_concatenate import *\n",
    "from to_display_data import *\n",
    "from to_resample import *\n",
    "from preprocessing import *\n",
    "from evaluation import *\n",
    "from joblib import dump,load\n",
    "from sklearn.tree import DecisionTreeClassifier"
   ]
  },
  {
   "cell_type": "code",
   "execution_count": 4,
   "id": "e5c9bddc",
   "metadata": {},
   "outputs": [],
   "source": [
    "model_resume=import_data(r\"C:\\Users\\Ninette HOUKPONOU\\Repertoire_python\\Memoire\\new_data\\model_resume.csv\")"
   ]
  },
  {
   "cell_type": "code",
   "execution_count": 5,
   "id": "efd28b4d",
   "metadata": {},
   "outputs": [],
   "source": [
    "data=import_data(r\"C:\\Users\\Ninette HOUKPONOU\\Repertoire_python\\Memoire\\new_data\\full_data.csv\")"
   ]
  },
  {
   "cell_type": "code",
   "execution_count": 6,
   "id": "e9b11178",
   "metadata": {},
   "outputs": [],
   "source": [
    "df=data.copy()"
   ]
  },
  {
   "cell_type": "markdown",
   "id": "41758709",
   "metadata": {},
   "source": [
    "# Var encoding"
   ]
  },
  {
   "cell_type": "code",
   "execution_count": 10,
   "id": "72ebdbe0",
   "metadata": {},
   "outputs": [],
   "source": [
    "for col in df.select_dtypes(\"object\"):\n",
    "    df=to_encoded(df,col)"
   ]
  },
  {
   "cell_type": "code",
   "execution_count": 11,
   "id": "e0c6574d",
   "metadata": {},
   "outputs": [
    {
     "data": {
      "text/html": [
       "<div>\n",
       "<style scoped>\n",
       "    .dataframe tbody tr th:only-of-type {\n",
       "        vertical-align: middle;\n",
       "    }\n",
       "\n",
       "    .dataframe tbody tr th {\n",
       "        vertical-align: top;\n",
       "    }\n",
       "\n",
       "    .dataframe thead th {\n",
       "        text-align: right;\n",
       "    }\n",
       "</style>\n",
       "<table border=\"1\" class=\"dataframe\">\n",
       "  <thead>\n",
       "    <tr style=\"text-align: right;\">\n",
       "      <th></th>\n",
       "      <th>gender</th>\n",
       "      <th>age</th>\n",
       "      <th>hypertension</th>\n",
       "      <th>heart_disease</th>\n",
       "      <th>ever_married</th>\n",
       "      <th>work_type</th>\n",
       "      <th>Residence_type</th>\n",
       "      <th>avg_glucose_level</th>\n",
       "      <th>bmi</th>\n",
       "      <th>smoking_status</th>\n",
       "      <th>stroke</th>\n",
       "    </tr>\n",
       "  </thead>\n",
       "  <tbody>\n",
       "    <tr>\n",
       "      <th>0</th>\n",
       "      <td>1</td>\n",
       "      <td>67.0</td>\n",
       "      <td>0</td>\n",
       "      <td>1</td>\n",
       "      <td>1</td>\n",
       "      <td>1</td>\n",
       "      <td>1</td>\n",
       "      <td>228.69</td>\n",
       "      <td>36.6</td>\n",
       "      <td>1</td>\n",
       "      <td>1</td>\n",
       "    </tr>\n",
       "    <tr>\n",
       "      <th>1</th>\n",
       "      <td>1</td>\n",
       "      <td>80.0</td>\n",
       "      <td>0</td>\n",
       "      <td>1</td>\n",
       "      <td>1</td>\n",
       "      <td>1</td>\n",
       "      <td>0</td>\n",
       "      <td>105.92</td>\n",
       "      <td>32.5</td>\n",
       "      <td>2</td>\n",
       "      <td>1</td>\n",
       "    </tr>\n",
       "    <tr>\n",
       "      <th>2</th>\n",
       "      <td>0</td>\n",
       "      <td>49.0</td>\n",
       "      <td>0</td>\n",
       "      <td>0</td>\n",
       "      <td>1</td>\n",
       "      <td>1</td>\n",
       "      <td>1</td>\n",
       "      <td>171.23</td>\n",
       "      <td>34.4</td>\n",
       "      <td>3</td>\n",
       "      <td>1</td>\n",
       "    </tr>\n",
       "    <tr>\n",
       "      <th>3</th>\n",
       "      <td>0</td>\n",
       "      <td>79.0</td>\n",
       "      <td>1</td>\n",
       "      <td>0</td>\n",
       "      <td>1</td>\n",
       "      <td>2</td>\n",
       "      <td>0</td>\n",
       "      <td>174.12</td>\n",
       "      <td>24.0</td>\n",
       "      <td>2</td>\n",
       "      <td>1</td>\n",
       "    </tr>\n",
       "    <tr>\n",
       "      <th>4</th>\n",
       "      <td>1</td>\n",
       "      <td>81.0</td>\n",
       "      <td>0</td>\n",
       "      <td>0</td>\n",
       "      <td>1</td>\n",
       "      <td>1</td>\n",
       "      <td>1</td>\n",
       "      <td>186.21</td>\n",
       "      <td>29.0</td>\n",
       "      <td>1</td>\n",
       "      <td>1</td>\n",
       "    </tr>\n",
       "  </tbody>\n",
       "</table>\n",
       "</div>"
      ],
      "text/plain": [
       "   gender   age  hypertension  heart_disease  ever_married  work_type  \\\n",
       "0       1  67.0             0              1             1          1   \n",
       "1       1  80.0             0              1             1          1   \n",
       "2       0  49.0             0              0             1          1   \n",
       "3       0  79.0             1              0             1          2   \n",
       "4       1  81.0             0              0             1          1   \n",
       "\n",
       "   Residence_type  avg_glucose_level   bmi  smoking_status  stroke  \n",
       "0               1             228.69  36.6               1       1  \n",
       "1               0             105.92  32.5               2       1  \n",
       "2               1             171.23  34.4               3       1  \n",
       "3               0             174.12  24.0               2       1  \n",
       "4               1             186.21  29.0               1       1  "
      ]
     },
     "execution_count": 11,
     "metadata": {},
     "output_type": "execute_result"
    }
   ],
   "source": [
    "df.head()"
   ]
  },
  {
   "cell_type": "markdown",
   "id": "6584c290",
   "metadata": {},
   "source": [
    "# SPLIT"
   ]
  },
  {
   "cell_type": "code",
   "execution_count": 12,
   "id": "b989286a",
   "metadata": {},
   "outputs": [],
   "source": [
    "x_train,x_test, y_train, y_test=separation_of_train_test(df,\"stroke\",size_=0.3)"
   ]
  },
  {
   "cell_type": "markdown",
   "id": "17c4aeec",
   "metadata": {},
   "source": [
    "# Standardization"
   ]
  },
  {
   "cell_type": "code",
   "execution_count": 13,
   "id": "207f31b2",
   "metadata": {},
   "outputs": [],
   "source": [
    "standar_train=x_train[[\"age\",\"avg_glucose_level\",\"bmi\"]]\n",
    "standar_test=x_test[[\"age\",\"avg_glucose_level\",\"bmi\"]]\n",
    "standar_train,scaler=to_standardized(standar_train)\n",
    "standar_test=scaler.transform(standar_test)\n",
    "standar_test=pd.DataFrame(standar_test,columns=standar_train.columns)"
   ]
  },
  {
   "cell_type": "code",
   "execution_count": 14,
   "id": "0df8d8fa",
   "metadata": {},
   "outputs": [],
   "source": [
    "x_train=to_concatenate(x_train,standar_train)\n",
    "x_test=to_concatenate(x_test,standar_test)"
   ]
  },
  {
   "cell_type": "markdown",
   "id": "f9545dae",
   "metadata": {},
   "source": [
    "# Features selection"
   ]
  },
  {
   "cell_type": "code",
   "execution_count": 15,
   "id": "4f3fd6d4",
   "metadata": {},
   "outputs": [
    {
     "data": {
      "text/html": [
       "<div>\n",
       "<style scoped>\n",
       "    .dataframe tbody tr th:only-of-type {\n",
       "        vertical-align: middle;\n",
       "    }\n",
       "\n",
       "    .dataframe tbody tr th {\n",
       "        vertical-align: top;\n",
       "    }\n",
       "\n",
       "    .dataframe thead th {\n",
       "        text-align: right;\n",
       "    }\n",
       "</style>\n",
       "<table border=\"1\" class=\"dataframe\">\n",
       "  <thead>\n",
       "    <tr style=\"text-align: right;\">\n",
       "      <th></th>\n",
       "      <th>gender</th>\n",
       "      <th>hypertension</th>\n",
       "      <th>heart_disease</th>\n",
       "      <th>ever_married</th>\n",
       "      <th>work_type</th>\n",
       "      <th>Residence_type</th>\n",
       "      <th>smoking_status</th>\n",
       "      <th>age</th>\n",
       "      <th>avg_glucose_level</th>\n",
       "      <th>bmi</th>\n",
       "    </tr>\n",
       "  </thead>\n",
       "  <tbody>\n",
       "    <tr>\n",
       "      <th>0</th>\n",
       "      <td>0</td>\n",
       "      <td>0</td>\n",
       "      <td>0</td>\n",
       "      <td>1</td>\n",
       "      <td>1</td>\n",
       "      <td>1</td>\n",
       "      <td>0</td>\n",
       "      <td>0.353027</td>\n",
       "      <td>0.122649</td>\n",
       "      <td>0.255747</td>\n",
       "    </tr>\n",
       "    <tr>\n",
       "      <th>1</th>\n",
       "      <td>1</td>\n",
       "      <td>0</td>\n",
       "      <td>0</td>\n",
       "      <td>0</td>\n",
       "      <td>3</td>\n",
       "      <td>1</td>\n",
       "      <td>0</td>\n",
       "      <td>0.157715</td>\n",
       "      <td>0.128198</td>\n",
       "      <td>0.293103</td>\n",
       "    </tr>\n",
       "    <tr>\n",
       "      <th>2</th>\n",
       "      <td>0</td>\n",
       "      <td>0</td>\n",
       "      <td>0</td>\n",
       "      <td>1</td>\n",
       "      <td>0</td>\n",
       "      <td>1</td>\n",
       "      <td>0</td>\n",
       "      <td>0.682617</td>\n",
       "      <td>0.145551</td>\n",
       "      <td>0.528736</td>\n",
       "    </tr>\n",
       "    <tr>\n",
       "      <th>3</th>\n",
       "      <td>1</td>\n",
       "      <td>0</td>\n",
       "      <td>0</td>\n",
       "      <td>1</td>\n",
       "      <td>2</td>\n",
       "      <td>0</td>\n",
       "      <td>3</td>\n",
       "      <td>0.365234</td>\n",
       "      <td>0.187594</td>\n",
       "      <td>0.522989</td>\n",
       "    </tr>\n",
       "    <tr>\n",
       "      <th>4</th>\n",
       "      <td>0</td>\n",
       "      <td>0</td>\n",
       "      <td>0</td>\n",
       "      <td>1</td>\n",
       "      <td>1</td>\n",
       "      <td>1</td>\n",
       "      <td>1</td>\n",
       "      <td>0.853516</td>\n",
       "      <td>0.166337</td>\n",
       "      <td>0.425287</td>\n",
       "    </tr>\n",
       "  </tbody>\n",
       "</table>\n",
       "</div>"
      ],
      "text/plain": [
       "   gender  hypertension  heart_disease  ever_married  work_type  \\\n",
       "0       0             0              0             1          1   \n",
       "1       1             0              0             0          3   \n",
       "2       0             0              0             1          0   \n",
       "3       1             0              0             1          2   \n",
       "4       0             0              0             1          1   \n",
       "\n",
       "   Residence_type  smoking_status       age  avg_glucose_level       bmi  \n",
       "0               1               0  0.353027           0.122649  0.255747  \n",
       "1               1               0  0.157715           0.128198  0.293103  \n",
       "2               1               0  0.682617           0.145551  0.528736  \n",
       "3               0               3  0.365234           0.187594  0.522989  \n",
       "4               1               1  0.853516           0.166337  0.425287  "
      ]
     },
     "execution_count": 15,
     "metadata": {},
     "output_type": "execute_result"
    }
   ],
   "source": [
    "x_train.head()"
   ]
  },
  {
   "cell_type": "code",
   "execution_count": null,
   "id": "a2b386e8",
   "metadata": {},
   "outputs": [],
   "source": [
    "x_train,x_test=features_selection(x_train,x_test,y_train,seuil=0.05)"
   ]
  },
  {
   "cell_type": "code",
   "execution_count": 15,
   "id": "2270bf75",
   "metadata": {},
   "outputs": [
    {
     "data": {
      "text/html": [
       "<div>\n",
       "<style scoped>\n",
       "    .dataframe tbody tr th:only-of-type {\n",
       "        vertical-align: middle;\n",
       "    }\n",
       "\n",
       "    .dataframe tbody tr th {\n",
       "        vertical-align: top;\n",
       "    }\n",
       "\n",
       "    .dataframe thead th {\n",
       "        text-align: right;\n",
       "    }\n",
       "</style>\n",
       "<table border=\"1\" class=\"dataframe\">\n",
       "  <thead>\n",
       "    <tr style=\"text-align: right;\">\n",
       "      <th></th>\n",
       "      <th>avg_glucose_level</th>\n",
       "      <th>bmi</th>\n",
       "      <th>age</th>\n",
       "      <th>smoking_status</th>\n",
       "    </tr>\n",
       "  </thead>\n",
       "  <tbody>\n",
       "    <tr>\n",
       "      <th>0</th>\n",
       "      <td>0.122649</td>\n",
       "      <td>0.255747</td>\n",
       "      <td>0.353027</td>\n",
       "      <td>0</td>\n",
       "    </tr>\n",
       "    <tr>\n",
       "      <th>1</th>\n",
       "      <td>0.128198</td>\n",
       "      <td>0.293103</td>\n",
       "      <td>0.157715</td>\n",
       "      <td>0</td>\n",
       "    </tr>\n",
       "    <tr>\n",
       "      <th>2</th>\n",
       "      <td>0.145551</td>\n",
       "      <td>0.528736</td>\n",
       "      <td>0.682617</td>\n",
       "      <td>0</td>\n",
       "    </tr>\n",
       "    <tr>\n",
       "      <th>3</th>\n",
       "      <td>0.187594</td>\n",
       "      <td>0.522989</td>\n",
       "      <td>0.365234</td>\n",
       "      <td>3</td>\n",
       "    </tr>\n",
       "    <tr>\n",
       "      <th>4</th>\n",
       "      <td>0.166337</td>\n",
       "      <td>0.425287</td>\n",
       "      <td>0.853516</td>\n",
       "      <td>1</td>\n",
       "    </tr>\n",
       "  </tbody>\n",
       "</table>\n",
       "</div>"
      ],
      "text/plain": [
       "   avg_glucose_level       bmi       age  smoking_status\n",
       "0           0.122649  0.255747  0.353027               0\n",
       "1           0.128198  0.293103  0.157715               0\n",
       "2           0.145551  0.528736  0.682617               0\n",
       "3           0.187594  0.522989  0.365234               3\n",
       "4           0.166337  0.425287  0.853516               1"
      ]
     },
     "execution_count": 15,
     "metadata": {},
     "output_type": "execute_result"
    }
   ],
   "source": [
    "x_train.head()"
   ]
  },
  {
   "cell_type": "markdown",
   "id": "4a32c79b",
   "metadata": {},
   "source": [
    "# Model"
   ]
  },
  {
   "cell_type": "code",
   "execution_count": 19,
   "id": "5393fd0d",
   "metadata": {},
   "outputs": [
    {
     "name": "stdout",
     "output_type": "stream",
     "text": [
      "              precision    recall  f1-score   support\n",
      "\n",
      "           0       0.95      0.96      0.96      1421\n",
      "           1       0.11      0.09      0.10        74\n",
      "\n",
      "    accuracy                           0.92      1495\n",
      "   macro avg       0.53      0.53      0.53      1495\n",
      "weighted avg       0.91      0.92      0.91      1495\n",
      "\n"
     ]
    }
   ],
   "source": [
    "model=DecisionTreeClassifier(random_state=1234)\n",
    "model.fit(x_train,y_train)\n",
    "sum_up=evaluation_of_model(model,x_test,y_test,\"Decision_tree_8_8\",model_resume)"
   ]
  },
  {
   "cell_type": "code",
   "execution_count": 20,
   "id": "e314237c",
   "metadata": {},
   "outputs": [
    {
     "name": "stdout",
     "output_type": "stream",
     "text": [
      "              precision    recall  f1-score   support\n",
      "\n",
      "           0       0.95      0.96      0.96      1421\n",
      "           1       0.12      0.11      0.11        74\n",
      "\n",
      "    accuracy                           0.92      1495\n",
      "   macro avg       0.53      0.53      0.53      1495\n",
      "weighted avg       0.91      0.92      0.91      1495\n",
      "\n"
     ]
    }
   ],
   "source": [
    "seed=1234\n",
    "class_weight=y_train[y_train==0].size/y_train[y_train==1].size\n",
    "\n",
    "model=DecisionTreeClassifier(max_depth=50,min_samples_split=3,class_weight={0:1,1:class_weight}, random_state=1234)\n",
    "model.fit(x_train,y_train)\n",
    "sum_up=evaluation_of_model(model,x_test,y_test,\"Decision_tree_2228_8\",model_resume)"
   ]
  },
  {
   "cell_type": "code",
   "execution_count": 23,
   "id": "d2d948bf",
   "metadata": {},
   "outputs": [
    {
     "data": {
      "text/plain": [
       "['Decision_tree_8_8.pkl']"
      ]
     },
     "execution_count": 23,
     "metadata": {},
     "output_type": "execute_result"
    }
   ],
   "source": [
    "dump(value=model,filename=\"Decision_tree_8_8.pkl\")"
   ]
  },
  {
   "cell_type": "markdown",
   "id": "701b7e8c",
   "metadata": {},
   "source": [
    "# Test with smote"
   ]
  },
  {
   "cell_type": "code",
   "execution_count": 8,
   "id": "0aac7729",
   "metadata": {},
   "outputs": [],
   "source": [
    "loaded_dct=load(filename=r\"C:\\Users\\Ninette HOUKPONOU\\Repertoire_python\\Memoire\\module_memoire\\Decision_tree_8_8.pkl\")"
   ]
  },
  {
   "cell_type": "code",
   "execution_count": 9,
   "id": "5f85da52",
   "metadata": {},
   "outputs": [
    {
     "ename": "NameError",
     "evalue": "name 'x_test' is not defined",
     "output_type": "error",
     "traceback": [
      "\u001b[1;31m---------------------------------------------------------------------------\u001b[0m",
      "\u001b[1;31mNameError\u001b[0m                                 Traceback (most recent call last)",
      "\u001b[1;32m<ipython-input-9-efb2113c9305>\u001b[0m in \u001b[0;36m<module>\u001b[1;34m\u001b[0m\n\u001b[1;32m----> 1\u001b[1;33m \u001b[0mx_test_resampled\u001b[0m\u001b[1;33m,\u001b[0m\u001b[0my_test_resampled\u001b[0m\u001b[1;33m,\u001b[0m\u001b[0mresampler\u001b[0m\u001b[1;33m=\u001b[0m\u001b[0mresampling_data\u001b[0m\u001b[1;33m(\u001b[0m\u001b[0mx_test\u001b[0m\u001b[1;33m,\u001b[0m\u001b[0my_test\u001b[0m\u001b[1;33m,\u001b[0m\u001b[1;34m\"SMOTE\"\u001b[0m\u001b[1;33m)\u001b[0m\u001b[1;33m\u001b[0m\u001b[1;33m\u001b[0m\u001b[0m\n\u001b[0m",
      "\u001b[1;31mNameError\u001b[0m: name 'x_test' is not defined"
     ]
    }
   ],
   "source": [
    "x_test_resampled,y_test_resampled,resampler=resampling_data(x_test,y_test,\"SMOTE\")"
   ]
  },
  {
   "cell_type": "code",
   "execution_count": 27,
   "id": "a27f0776",
   "metadata": {},
   "outputs": [
    {
     "name": "stdout",
     "output_type": "stream",
     "text": [
      "              precision    recall  f1-score   support\n",
      "\n",
      "           0       0.52      0.96      0.67      1421\n",
      "           1       0.73      0.11      0.18      1421\n",
      "\n",
      "    accuracy                           0.53      2842\n",
      "   macro avg       0.62      0.53      0.43      2842\n",
      "weighted avg       0.62      0.53      0.43      2842\n",
      "\n"
     ]
    }
   ],
   "source": [
    "sum_up=evaluation_of_model(loaded_dct,x_test_resampled,y_test_resampled,\"Decision_tree_8_8.pkl\",model_resume)"
   ]
  },
  {
   "cell_type": "code",
   "execution_count": null,
   "id": "c1366866",
   "metadata": {},
   "outputs": [],
   "source": [
    "from sklearn.metrics import roc_auc_score\n",
    "roc_auc_score(y_test_resampled,y_pred_sampled)"
   ]
  },
  {
   "cell_type": "markdown",
   "id": "9d7b2a0e",
   "metadata": {},
   "source": [
    "# Dependency Plot"
   ]
  },
  {
   "cell_type": "code",
   "execution_count": 21,
   "id": "e39e90b6",
   "metadata": {},
   "outputs": [],
   "source": [
    "features=['avg_glucose_level', 'bmi', 'age', 'smoking_status',('avg_glucose_level', 'bmi' )]"
   ]
  },
  {
   "cell_type": "code",
   "execution_count": 22,
   "id": "d5ebfebc",
   "metadata": {},
   "outputs": [
    {
     "data": {
      "text/plain": [
       "['avg_glucose_level',\n",
       " 'bmi',\n",
       " 'age',\n",
       " 'smoking_status',\n",
       " ('avg_glucose_level', 'bmi')]"
      ]
     },
     "execution_count": 22,
     "metadata": {},
     "output_type": "execute_result"
    }
   ],
   "source": [
    "features"
   ]
  },
  {
   "cell_type": "code",
   "execution_count": null,
   "id": "e8640100",
   "metadata": {},
   "outputs": [],
   "source": [
    "plot_dependencing(loaded_rdf,x_train,\"random_forest\",features)"
   ]
  },
  {
   "cell_type": "code",
   "execution_count": null,
   "id": "bd4da7ba",
   "metadata": {},
   "outputs": [],
   "source": []
  },
  {
   "cell_type": "code",
   "execution_count": 28,
   "id": "58f4136f",
   "metadata": {},
   "outputs": [
    {
     "data": {
      "text/html": [
       "<div>\n",
       "<style scoped>\n",
       "    .dataframe tbody tr th:only-of-type {\n",
       "        vertical-align: middle;\n",
       "    }\n",
       "\n",
       "    .dataframe tbody tr th {\n",
       "        vertical-align: top;\n",
       "    }\n",
       "\n",
       "    .dataframe thead th {\n",
       "        text-align: right;\n",
       "    }\n",
       "</style>\n",
       "<table border=\"1\" class=\"dataframe\">\n",
       "  <thead>\n",
       "    <tr style=\"text-align: right;\">\n",
       "      <th></th>\n",
       "      <th>gender</th>\n",
       "      <th>age</th>\n",
       "      <th>hypertension</th>\n",
       "      <th>heart_disease</th>\n",
       "      <th>ever_married</th>\n",
       "      <th>work_type</th>\n",
       "      <th>Residence_type</th>\n",
       "      <th>avg_glucose_level</th>\n",
       "      <th>bmi</th>\n",
       "      <th>smoking_status</th>\n",
       "      <th>stroke</th>\n",
       "    </tr>\n",
       "  </thead>\n",
       "  <tbody>\n",
       "    <tr>\n",
       "      <th>0</th>\n",
       "      <td>1</td>\n",
       "      <td>67.0</td>\n",
       "      <td>0</td>\n",
       "      <td>1</td>\n",
       "      <td>1</td>\n",
       "      <td>1</td>\n",
       "      <td>1</td>\n",
       "      <td>228.69</td>\n",
       "      <td>36.6</td>\n",
       "      <td>1</td>\n",
       "      <td>1</td>\n",
       "    </tr>\n",
       "    <tr>\n",
       "      <th>1</th>\n",
       "      <td>1</td>\n",
       "      <td>80.0</td>\n",
       "      <td>0</td>\n",
       "      <td>1</td>\n",
       "      <td>1</td>\n",
       "      <td>1</td>\n",
       "      <td>0</td>\n",
       "      <td>105.92</td>\n",
       "      <td>32.5</td>\n",
       "      <td>2</td>\n",
       "      <td>1</td>\n",
       "    </tr>\n",
       "    <tr>\n",
       "      <th>2</th>\n",
       "      <td>0</td>\n",
       "      <td>49.0</td>\n",
       "      <td>0</td>\n",
       "      <td>0</td>\n",
       "      <td>1</td>\n",
       "      <td>1</td>\n",
       "      <td>1</td>\n",
       "      <td>171.23</td>\n",
       "      <td>34.4</td>\n",
       "      <td>3</td>\n",
       "      <td>1</td>\n",
       "    </tr>\n",
       "    <tr>\n",
       "      <th>3</th>\n",
       "      <td>0</td>\n",
       "      <td>79.0</td>\n",
       "      <td>1</td>\n",
       "      <td>0</td>\n",
       "      <td>1</td>\n",
       "      <td>2</td>\n",
       "      <td>0</td>\n",
       "      <td>174.12</td>\n",
       "      <td>24.0</td>\n",
       "      <td>2</td>\n",
       "      <td>1</td>\n",
       "    </tr>\n",
       "    <tr>\n",
       "      <th>4</th>\n",
       "      <td>1</td>\n",
       "      <td>81.0</td>\n",
       "      <td>0</td>\n",
       "      <td>0</td>\n",
       "      <td>1</td>\n",
       "      <td>1</td>\n",
       "      <td>1</td>\n",
       "      <td>186.21</td>\n",
       "      <td>29.0</td>\n",
       "      <td>1</td>\n",
       "      <td>1</td>\n",
       "    </tr>\n",
       "  </tbody>\n",
       "</table>\n",
       "</div>"
      ],
      "text/plain": [
       "   gender   age  hypertension  heart_disease  ever_married  work_type  \\\n",
       "0       1  67.0             0              1             1          1   \n",
       "1       1  80.0             0              1             1          1   \n",
       "2       0  49.0             0              0             1          1   \n",
       "3       0  79.0             1              0             1          2   \n",
       "4       1  81.0             0              0             1          1   \n",
       "\n",
       "   Residence_type  avg_glucose_level   bmi  smoking_status  stroke  \n",
       "0               1             228.69  36.6               1       1  \n",
       "1               0             105.92  32.5               2       1  \n",
       "2               1             171.23  34.4               3       1  \n",
       "3               0             174.12  24.0               2       1  \n",
       "4               1             186.21  29.0               1       1  "
      ]
     },
     "execution_count": 28,
     "metadata": {},
     "output_type": "execute_result"
    }
   ],
   "source": [
    "df.head()"
   ]
  },
  {
   "cell_type": "code",
   "execution_count": 29,
   "id": "3620dc93",
   "metadata": {},
   "outputs": [
    {
     "data": {
      "text/plain": [
       "0       1\n",
       "1       1\n",
       "2       1\n",
       "3       1\n",
       "4       1\n",
       "       ..\n",
       "4976    0\n",
       "4977    0\n",
       "4978    0\n",
       "4979    0\n",
       "4980    1\n",
       "Name: age, Length: 4981, dtype: int64"
      ]
     },
     "execution_count": 29,
     "metadata": {},
     "output_type": "execute_result"
    }
   ],
   "source": [
    "df.age.apply(lambda x:0 if x < 46 else 1)"
   ]
  },
  {
   "cell_type": "code",
   "execution_count": null,
   "id": "e010d855",
   "metadata": {},
   "outputs": [],
   "source": []
  }
 ],
 "metadata": {
  "kernelspec": {
   "display_name": "Python 3 (ipykernel)",
   "language": "python",
   "name": "python3"
  },
  "language_info": {
   "codemirror_mode": {
    "name": "ipython",
    "version": 3
   },
   "file_extension": ".py",
   "mimetype": "text/x-python",
   "name": "python",
   "nbconvert_exporter": "python",
   "pygments_lexer": "ipython3",
   "version": "3.11.7"
  }
 },
 "nbformat": 4,
 "nbformat_minor": 5
}
