{
 "cells": [
  {
   "cell_type": "code",
   "execution_count": 1,
   "id": "cee80b37",
   "metadata": {},
   "outputs": [],
   "source": [
    "import sys\n",
    "sys.path.append(r\"C:\\Users\\Ninette HOUKPONOU\\Repertoire_python\\Memoire\\module_memoire\")\n",
    "\n",
    "# Adds the directory path containing custom Python modules\n",
    "# This allows for easy import of modules or packages stored in this directory"
   ]
  },
  {
   "cell_type": "code",
   "execution_count": 2,
   "id": "83c8a02a",
   "metadata": {},
   "outputs": [
    {
     "name": "stderr",
     "output_type": "stream",
     "text": [
      "C:\\Users\\Ninette HOUKPONOU\\anaconda3\\lib\\site-packages\\pandas\\core\\computation\\expressions.py:20: UserWarning: Pandas requires version '2.7.3' or newer of 'numexpr' (version '2.7.1' currently installed).\n",
      "  from pandas.core.computation.check import NUMEXPR_INSTALLED\n"
     ]
    }
   ],
   "source": [
    "import pandas as pd\n",
    "from exploratory_analysis import *\n",
    "from dependency_plot import *\n",
    "from to_compute_model import *\n",
    "from to_concatenate import *\n",
    "from to_display_data import *\n",
    "from to_resample import *\n",
    "from preprocessing import *\n",
    "from evaluation import *\n",
    "from joblib import dump,load"
   ]
  },
  {
   "cell_type": "markdown",
   "id": "85209873",
   "metadata": {},
   "source": [
    "# Random with all data"
   ]
  },
  {
   "cell_type": "code",
   "execution_count": 3,
   "id": "de983e8f",
   "metadata": {},
   "outputs": [],
   "source": [
    "model_resume=import_data(r\"C:\\Users\\Ninette HOUKPONOU\\Repertoire_python\\Memoire\\new_data\\model_resume.csv\") # excel file to save all computations\n",
    "data=import_data(r\"C:\\Users\\Ninette HOUKPONOU\\Repertoire_python\\Memoire\\new_data\\full_data.csv\")"
   ]
  },
  {
   "cell_type": "code",
   "execution_count": 4,
   "id": "164f2e72",
   "metadata": {},
   "outputs": [],
   "source": [
    "df1=data.copy()"
   ]
  },
  {
   "cell_type": "code",
   "execution_count": 5,
   "id": "3982511c",
   "metadata": {},
   "outputs": [
    {
     "data": {
      "text/html": [
       "<div>\n",
       "<style scoped>\n",
       "    .dataframe tbody tr th:only-of-type {\n",
       "        vertical-align: middle;\n",
       "    }\n",
       "\n",
       "    .dataframe tbody tr th {\n",
       "        vertical-align: top;\n",
       "    }\n",
       "\n",
       "    .dataframe thead th {\n",
       "        text-align: right;\n",
       "    }\n",
       "</style>\n",
       "<table border=\"1\" class=\"dataframe\">\n",
       "  <thead>\n",
       "    <tr style=\"text-align: right;\">\n",
       "      <th></th>\n",
       "      <th>gender</th>\n",
       "      <th>age</th>\n",
       "      <th>hypertension</th>\n",
       "      <th>heart_disease</th>\n",
       "      <th>ever_married</th>\n",
       "      <th>work_type</th>\n",
       "      <th>Residence_type</th>\n",
       "      <th>avg_glucose_level</th>\n",
       "      <th>bmi</th>\n",
       "      <th>smoking_status</th>\n",
       "      <th>stroke</th>\n",
       "    </tr>\n",
       "  </thead>\n",
       "  <tbody>\n",
       "    <tr>\n",
       "      <th>0</th>\n",
       "      <td>Male</td>\n",
       "      <td>67.0</td>\n",
       "      <td>0</td>\n",
       "      <td>1</td>\n",
       "      <td>Yes</td>\n",
       "      <td>Private</td>\n",
       "      <td>Urban</td>\n",
       "      <td>228.69</td>\n",
       "      <td>36.6</td>\n",
       "      <td>formerly smoked</td>\n",
       "      <td>1</td>\n",
       "    </tr>\n",
       "    <tr>\n",
       "      <th>1</th>\n",
       "      <td>Male</td>\n",
       "      <td>80.0</td>\n",
       "      <td>0</td>\n",
       "      <td>1</td>\n",
       "      <td>Yes</td>\n",
       "      <td>Private</td>\n",
       "      <td>Rural</td>\n",
       "      <td>105.92</td>\n",
       "      <td>32.5</td>\n",
       "      <td>never smoked</td>\n",
       "      <td>1</td>\n",
       "    </tr>\n",
       "    <tr>\n",
       "      <th>2</th>\n",
       "      <td>Female</td>\n",
       "      <td>49.0</td>\n",
       "      <td>0</td>\n",
       "      <td>0</td>\n",
       "      <td>Yes</td>\n",
       "      <td>Private</td>\n",
       "      <td>Urban</td>\n",
       "      <td>171.23</td>\n",
       "      <td>34.4</td>\n",
       "      <td>smokes</td>\n",
       "      <td>1</td>\n",
       "    </tr>\n",
       "    <tr>\n",
       "      <th>3</th>\n",
       "      <td>Female</td>\n",
       "      <td>79.0</td>\n",
       "      <td>1</td>\n",
       "      <td>0</td>\n",
       "      <td>Yes</td>\n",
       "      <td>Self-employed</td>\n",
       "      <td>Rural</td>\n",
       "      <td>174.12</td>\n",
       "      <td>24.0</td>\n",
       "      <td>never smoked</td>\n",
       "      <td>1</td>\n",
       "    </tr>\n",
       "    <tr>\n",
       "      <th>4</th>\n",
       "      <td>Male</td>\n",
       "      <td>81.0</td>\n",
       "      <td>0</td>\n",
       "      <td>0</td>\n",
       "      <td>Yes</td>\n",
       "      <td>Private</td>\n",
       "      <td>Urban</td>\n",
       "      <td>186.21</td>\n",
       "      <td>29.0</td>\n",
       "      <td>formerly smoked</td>\n",
       "      <td>1</td>\n",
       "    </tr>\n",
       "  </tbody>\n",
       "</table>\n",
       "</div>"
      ],
      "text/plain": [
       "   gender   age  hypertension  heart_disease ever_married      work_type  \\\n",
       "0    Male  67.0             0              1          Yes        Private   \n",
       "1    Male  80.0             0              1          Yes        Private   \n",
       "2  Female  49.0             0              0          Yes        Private   \n",
       "3  Female  79.0             1              0          Yes  Self-employed   \n",
       "4    Male  81.0             0              0          Yes        Private   \n",
       "\n",
       "  Residence_type  avg_glucose_level   bmi   smoking_status  stroke  \n",
       "0          Urban             228.69  36.6  formerly smoked       1  \n",
       "1          Rural             105.92  32.5     never smoked       1  \n",
       "2          Urban             171.23  34.4           smokes       1  \n",
       "3          Rural             174.12  24.0     never smoked       1  \n",
       "4          Urban             186.21  29.0  formerly smoked       1  "
      ]
     },
     "execution_count": 5,
     "metadata": {},
     "output_type": "execute_result"
    }
   ],
   "source": [
    "df1.head()"
   ]
  },
  {
   "cell_type": "markdown",
   "id": "b59e0537",
   "metadata": {},
   "source": [
    "# SPLIT"
   ]
  },
  {
   "cell_type": "code",
   "execution_count": 6,
   "id": "5de27bb9",
   "metadata": {},
   "outputs": [],
   "source": [
    "x_all_train,x_all_test, y_all_train, y_all_test=separation_of_train_test(df1,\"stroke\",size_=0.3)"
   ]
  },
  {
   "cell_type": "markdown",
   "id": "89f5c35b",
   "metadata": {},
   "source": [
    "# Standardization"
   ]
  },
  {
   "cell_type": "code",
   "execution_count": 7,
   "id": "dacb2de2",
   "metadata": {},
   "outputs": [],
   "source": [
    "all_standar_train=x_all_train[[\"age\",\"avg_glucose_level\",\"bmi\"]]\n",
    "all_standar_test=x_all_test[[\"age\",\"avg_glucose_level\",\"bmi\"]]\n",
    "all_standar_train,scaler=to_standardized(all_standar_train)\n",
    "all_standar_test=scaler.transform(all_standar_test)\n",
    "all_standar_test=pd.DataFrame(all_standar_test,columns=all_standar_train.columns)"
   ]
  },
  {
   "cell_type": "code",
   "execution_count": 8,
   "id": "a6a428ea",
   "metadata": {},
   "outputs": [],
   "source": [
    "x_all_train=to_concatenate(x_all_train,all_standar_train)\n",
    "x_all_test=to_concatenate(x_all_test,all_standar_test)"
   ]
  },
  {
   "cell_type": "code",
   "execution_count": 9,
   "id": "2fb686ec",
   "metadata": {},
   "outputs": [
    {
     "data": {
      "text/html": [
       "<div>\n",
       "<style scoped>\n",
       "    .dataframe tbody tr th:only-of-type {\n",
       "        vertical-align: middle;\n",
       "    }\n",
       "\n",
       "    .dataframe tbody tr th {\n",
       "        vertical-align: top;\n",
       "    }\n",
       "\n",
       "    .dataframe thead th {\n",
       "        text-align: right;\n",
       "    }\n",
       "</style>\n",
       "<table border=\"1\" class=\"dataframe\">\n",
       "  <thead>\n",
       "    <tr style=\"text-align: right;\">\n",
       "      <th></th>\n",
       "      <th>gender</th>\n",
       "      <th>hypertension</th>\n",
       "      <th>heart_disease</th>\n",
       "      <th>ever_married</th>\n",
       "      <th>work_type</th>\n",
       "      <th>Residence_type</th>\n",
       "      <th>smoking_status</th>\n",
       "      <th>age</th>\n",
       "      <th>avg_glucose_level</th>\n",
       "      <th>bmi</th>\n",
       "    </tr>\n",
       "  </thead>\n",
       "  <tbody>\n",
       "    <tr>\n",
       "      <th>0</th>\n",
       "      <td>Female</td>\n",
       "      <td>0</td>\n",
       "      <td>0</td>\n",
       "      <td>Yes</td>\n",
       "      <td>Private</td>\n",
       "      <td>Urban</td>\n",
       "      <td>Unknown</td>\n",
       "      <td>0.353027</td>\n",
       "      <td>0.122649</td>\n",
       "      <td>0.255747</td>\n",
       "    </tr>\n",
       "    <tr>\n",
       "      <th>1</th>\n",
       "      <td>Male</td>\n",
       "      <td>0</td>\n",
       "      <td>0</td>\n",
       "      <td>No</td>\n",
       "      <td>children</td>\n",
       "      <td>Urban</td>\n",
       "      <td>Unknown</td>\n",
       "      <td>0.157715</td>\n",
       "      <td>0.128198</td>\n",
       "      <td>0.293103</td>\n",
       "    </tr>\n",
       "    <tr>\n",
       "      <th>2</th>\n",
       "      <td>Female</td>\n",
       "      <td>0</td>\n",
       "      <td>0</td>\n",
       "      <td>Yes</td>\n",
       "      <td>Govt_job</td>\n",
       "      <td>Urban</td>\n",
       "      <td>Unknown</td>\n",
       "      <td>0.682617</td>\n",
       "      <td>0.145551</td>\n",
       "      <td>0.528736</td>\n",
       "    </tr>\n",
       "    <tr>\n",
       "      <th>3</th>\n",
       "      <td>Male</td>\n",
       "      <td>0</td>\n",
       "      <td>0</td>\n",
       "      <td>Yes</td>\n",
       "      <td>Self-employed</td>\n",
       "      <td>Rural</td>\n",
       "      <td>smokes</td>\n",
       "      <td>0.365234</td>\n",
       "      <td>0.187594</td>\n",
       "      <td>0.522989</td>\n",
       "    </tr>\n",
       "    <tr>\n",
       "      <th>4</th>\n",
       "      <td>Female</td>\n",
       "      <td>0</td>\n",
       "      <td>0</td>\n",
       "      <td>Yes</td>\n",
       "      <td>Private</td>\n",
       "      <td>Urban</td>\n",
       "      <td>formerly smoked</td>\n",
       "      <td>0.853516</td>\n",
       "      <td>0.166337</td>\n",
       "      <td>0.425287</td>\n",
       "    </tr>\n",
       "  </tbody>\n",
       "</table>\n",
       "</div>"
      ],
      "text/plain": [
       "   gender  hypertension  heart_disease ever_married      work_type  \\\n",
       "0  Female             0              0          Yes        Private   \n",
       "1    Male             0              0           No       children   \n",
       "2  Female             0              0          Yes       Govt_job   \n",
       "3    Male             0              0          Yes  Self-employed   \n",
       "4  Female             0              0          Yes        Private   \n",
       "\n",
       "  Residence_type   smoking_status       age  avg_glucose_level       bmi  \n",
       "0          Urban          Unknown  0.353027           0.122649  0.255747  \n",
       "1          Urban          Unknown  0.157715           0.128198  0.293103  \n",
       "2          Urban          Unknown  0.682617           0.145551  0.528736  \n",
       "3          Rural           smokes  0.365234           0.187594  0.522989  \n",
       "4          Urban  formerly smoked  0.853516           0.166337  0.425287  "
      ]
     },
     "execution_count": 9,
     "metadata": {},
     "output_type": "execute_result"
    }
   ],
   "source": [
    "x_all_train.head()"
   ]
  },
  {
   "cell_type": "markdown",
   "id": "6fe90592",
   "metadata": {},
   "source": [
    "# Model"
   ]
  },
  {
   "cell_type": "code",
   "execution_count": null,
   "id": "a4054d8a",
   "metadata": {},
   "outputs": [],
   "source": [
    "model_all=compute_model(\"rdf\",x_all_train,y_all_train)\n",
    "sum_up=evaluation_of_model(model_all,x_all_test,y_all_test,\"RandomForest_all_9_08\",model_resume)"
   ]
  },
  {
   "cell_type": "markdown",
   "id": "12dbfa2e",
   "metadata": {},
   "source": [
    "# Test with smote"
   ]
  },
  {
   "cell_type": "code",
   "execution_count": 51,
   "id": "36ab821e",
   "metadata": {},
   "outputs": [
    {
     "data": {
      "text/plain": [
       "['rdf_all_9_08.pkl']"
      ]
     },
     "execution_count": 51,
     "metadata": {},
     "output_type": "execute_result"
    }
   ],
   "source": [
    "dump(value=model_all,filename=\"rdf_all_9_08.pkl\")"
   ]
  },
  {
   "cell_type": "code",
   "execution_count": 53,
   "id": "35ca11c7",
   "metadata": {},
   "outputs": [],
   "source": [
    "loaded_all_rdf=load(filename=\"rdf_all_9_08.pkl\")"
   ]
  },
  {
   "cell_type": "code",
   "execution_count": 54,
   "id": "fcfc55f7",
   "metadata": {},
   "outputs": [],
   "source": [
    "x_all_test_resampled,y_all_test_resampled,resampler_all=resampling_data(x_all_test,y_all_test,\"SMOTE\")"
   ]
  },
  {
   "cell_type": "code",
   "execution_count": 56,
   "id": "2643902e",
   "metadata": {},
   "outputs": [
    {
     "name": "stdout",
     "output_type": "stream",
     "text": [
      "              precision    recall  f1-score   support\n",
      "\n",
      "           0       0.88      0.70      0.78      1421\n",
      "           1       0.75      0.91      0.82      1421\n",
      "\n",
      "    accuracy                           0.80      2842\n",
      "   macro avg       0.82      0.80      0.80      2842\n",
      "weighted avg       0.82      0.80      0.80      2842\n",
      "\n"
     ]
    }
   ],
   "source": [
    "sum_up=evaluation_of_model(loaded_all_rdf,x_all_test_resampled,y_all_test_resampled,\"Random_alldata_smoted_9_08\",model_resume)"
   ]
  },
  {
   "cell_type": "markdown",
   "id": "ca5573ce",
   "metadata": {},
   "source": [
    "# Dependency plots"
   ]
  },
  {
   "cell_type": "code",
   "execution_count": 80,
   "id": "9b864e66",
   "metadata": {},
   "outputs": [
    {
     "data": {
      "image/png": "[encoded data removed]",
      "text/plain": [
       "<Figure size 864x432 with 11 Axes>"
      ]
     },
     "metadata": {
      "needs_background": "light"
     },
     "output_type": "display_data"
    }
   ],
   "source": [
    "plot_dependencing(loaded_all_rdf,x_all_train,\"random_forest\",features=x_all_train.columns)"
   ]
  },
  {
   "cell_type": "code",
   "execution_count": 85,
   "id": "0c4b65ae",
   "metadata": {},
   "outputs": [
    {
     "data": {
      "image/png": "[encoded data removed]",
      "text/plain": [
       "<Figure size 864x432 with 4 Axes>"
      ]
     },
     "metadata": {
      "needs_background": "light"
     },
     "output_type": "display_data"
    }
   ],
   "source": [
    "plot_dependencing(loaded_all_rdf,x_all_train,\"random_forest\",features=['gender','hypertension','heart_disease'])"
   ]
  },
  {
   "cell_type": "code",
   "execution_count": 83,
   "id": "e4ec5000",
   "metadata": {},
   "outputs": [
    {
     "data": {
      "image/png": "[encoded data removed]",
      "text/plain": [
       "<Figure size 864x432 with 4 Axes>"
      ]
     },
     "metadata": {
      "needs_background": "light"
     },
     "output_type": "display_data"
    }
   ],
   "source": [
    "plot_dependencing(loaded_all_rdf,x_all_train,\"random_forest\",features=['ever_married','work_type','Residence_type'])"
   ]
  },
  {
   "cell_type": "code",
   "execution_count": 86,
   "id": "729190b0",
   "metadata": {},
   "outputs": [
    {
     "data": {
      "image/png": "[encoded data removed]",
      "text/plain": [
       "<Figure size 864x432 with 2 Axes>"
      ]
     },
     "metadata": {
      "needs_background": "light"
     },
     "output_type": "display_data"
    }
   ],
   "source": [
    "plot_dependencing(loaded_all_rdf,x_all_train,\"random_forest\",features=['smoking_status'])"
   ]
  },
  {
   "cell_type": "markdown",
   "id": "27e4f14f",
   "metadata": {},
   "source": [
    "# Random with feature selection"
   ]
  },
  {
   "cell_type": "code",
   "execution_count": 11,
   "id": "33b6699d",
   "metadata": {},
   "outputs": [],
   "source": [
    "df=data.copy()"
   ]
  },
  {
   "cell_type": "markdown",
   "id": "daf98e2a",
   "metadata": {},
   "source": [
    "# Var encoding"
   ]
  },
  {
   "cell_type": "code",
   "execution_count": 12,
   "id": "e05c3d53",
   "metadata": {},
   "outputs": [],
   "source": [
    "for col in df.select_dtypes(\"object\"):\n",
    "    df=to_encoded(df,col)"
   ]
  },
  {
   "cell_type": "code",
   "execution_count": 23,
   "id": "f5f3f9b1",
   "metadata": {},
   "outputs": [
    {
     "name": "stdout",
     "output_type": "stream",
     "text": [
      "\\begin{tabular}{rrrrrrrrrrr}\n",
      "\\toprule\n",
      "gender & age & hypertension & heart_disease & ever_married & work_type & Residence_type & avg_glucose_level & bmi & smoking_status & stroke \\\\\n",
      "\\midrule\n",
      "1 & 67.000000 & 0 & 1 & 1 & 1 & 1 & 228.690000 & 36.600000 & 1 & 1 \\\\\n",
      "1 & 80.000000 & 0 & 1 & 1 & 1 & 0 & 105.920000 & 32.500000 & 2 & 1 \\\\\n",
      "0 & 49.000000 & 0 & 0 & 1 & 1 & 1 & 171.230000 & 34.400000 & 3 & 1 \\\\\n",
      "0 & 79.000000 & 1 & 0 & 1 & 2 & 0 & 174.120000 & 24.000000 & 2 & 1 \\\\\n",
      "1 & 81.000000 & 0 & 0 & 1 & 1 & 1 & 186.210000 & 29.000000 & 1 & 1 \\\\\n",
      "\\bottomrule\n",
      "\\end{tabular}\n",
      "\n"
     ]
    }
   ],
   "source": [
    "lqtex=df.head().to_latex(index=False)\n",
    "print(lqtex)"
   ]
  },
  {
   "cell_type": "code",
   "execution_count": 33,
   "id": "abc50a28",
   "metadata": {},
   "outputs": [
    {
     "data": {
      "image/png": "[encoded data removed]",
      "text/plain": [
       "<Figure size 432x288 with 1 Axes>"
      ]
     },
     "metadata": {
      "needs_background": "light"
     },
     "output_type": "display_data"
    }
   ],
   "source": [
    "df.stroke.value_counts(normalize=True).plot(kind=\"bar\", color=\"orange\")\n",
    "plt.ylabel(\"Proportion\")\n",
    "plt.show()"
   ]
  },
  {
   "cell_type": "markdown",
   "id": "562d8bcc",
   "metadata": {},
   "source": [
    "# SPLIT"
   ]
  },
  {
   "cell_type": "code",
   "execution_count": 14,
   "id": "807442e9",
   "metadata": {},
   "outputs": [],
   "source": [
    "x_train,x_test, y_train, y_test=separation_of_train_test(df,\"stroke\",size_=0.3)"
   ]
  },
  {
   "cell_type": "markdown",
   "id": "b1277182",
   "metadata": {},
   "source": [
    "# Standardization"
   ]
  },
  {
   "cell_type": "code",
   "execution_count": 15,
   "id": "5a4cfe03",
   "metadata": {},
   "outputs": [],
   "source": [
    "standar_train=x_train[[\"age\",\"avg_glucose_level\",\"bmi\"]]\n",
    "standar_test=x_test[[\"age\",\"avg_glucose_level\",\"bmi\"]]\n",
    "standar_train,scaler=to_standardized(standar_train)\n",
    "standar_test=scaler.transform(standar_test)\n",
    "standar_test=pd.DataFrame(standar_test,columns=standar_train.columns)"
   ]
  },
  {
   "cell_type": "code",
   "execution_count": 16,
   "id": "02358721",
   "metadata": {},
   "outputs": [],
   "source": [
    "x_train=to_concatenate(x_train,standar_train)\n",
    "x_test=to_concatenate(x_test,standar_test)"
   ]
  },
  {
   "cell_type": "markdown",
   "id": "53afc0c2",
   "metadata": {},
   "source": [
    "# Features selection"
   ]
  },
  {
   "cell_type": "code",
   "execution_count": 17,
   "id": "52f75971",
   "metadata": {},
   "outputs": [
    {
     "data": {
      "text/html": [
       "<div>\n",
       "<style scoped>\n",
       "    .dataframe tbody tr th:only-of-type {\n",
       "        vertical-align: middle;\n",
       "    }\n",
       "\n",
       "    .dataframe tbody tr th {\n",
       "        vertical-align: top;\n",
       "    }\n",
       "\n",
       "    .dataframe thead th {\n",
       "        text-align: right;\n",
       "    }\n",
       "</style>\n",
       "<table border=\"1\" class=\"dataframe\">\n",
       "  <thead>\n",
       "    <tr style=\"text-align: right;\">\n",
       "      <th></th>\n",
       "      <th>gender</th>\n",
       "      <th>hypertension</th>\n",
       "      <th>heart_disease</th>\n",
       "      <th>ever_married</th>\n",
       "      <th>work_type</th>\n",
       "      <th>Residence_type</th>\n",
       "      <th>smoking_status</th>\n",
       "      <th>age</th>\n",
       "      <th>avg_glucose_level</th>\n",
       "      <th>bmi</th>\n",
       "    </tr>\n",
       "  </thead>\n",
       "  <tbody>\n",
       "    <tr>\n",
       "      <th>0</th>\n",
       "      <td>0</td>\n",
       "      <td>0</td>\n",
       "      <td>0</td>\n",
       "      <td>1</td>\n",
       "      <td>1</td>\n",
       "      <td>1</td>\n",
       "      <td>0</td>\n",
       "      <td>0.353027</td>\n",
       "      <td>0.122649</td>\n",
       "      <td>0.255747</td>\n",
       "    </tr>\n",
       "    <tr>\n",
       "      <th>1</th>\n",
       "      <td>1</td>\n",
       "      <td>0</td>\n",
       "      <td>0</td>\n",
       "      <td>0</td>\n",
       "      <td>3</td>\n",
       "      <td>1</td>\n",
       "      <td>0</td>\n",
       "      <td>0.157715</td>\n",
       "      <td>0.128198</td>\n",
       "      <td>0.293103</td>\n",
       "    </tr>\n",
       "    <tr>\n",
       "      <th>2</th>\n",
       "      <td>0</td>\n",
       "      <td>0</td>\n",
       "      <td>0</td>\n",
       "      <td>1</td>\n",
       "      <td>0</td>\n",
       "      <td>1</td>\n",
       "      <td>0</td>\n",
       "      <td>0.682617</td>\n",
       "      <td>0.145551</td>\n",
       "      <td>0.528736</td>\n",
       "    </tr>\n",
       "    <tr>\n",
       "      <th>3</th>\n",
       "      <td>1</td>\n",
       "      <td>0</td>\n",
       "      <td>0</td>\n",
       "      <td>1</td>\n",
       "      <td>2</td>\n",
       "      <td>0</td>\n",
       "      <td>3</td>\n",
       "      <td>0.365234</td>\n",
       "      <td>0.187594</td>\n",
       "      <td>0.522989</td>\n",
       "    </tr>\n",
       "    <tr>\n",
       "      <th>4</th>\n",
       "      <td>0</td>\n",
       "      <td>0</td>\n",
       "      <td>0</td>\n",
       "      <td>1</td>\n",
       "      <td>1</td>\n",
       "      <td>1</td>\n",
       "      <td>1</td>\n",
       "      <td>0.853516</td>\n",
       "      <td>0.166337</td>\n",
       "      <td>0.425287</td>\n",
       "    </tr>\n",
       "  </tbody>\n",
       "</table>\n",
       "</div>"
      ],
      "text/plain": [
       "   gender  hypertension  heart_disease  ever_married  work_type  \\\n",
       "0       0             0              0             1          1   \n",
       "1       1             0              0             0          3   \n",
       "2       0             0              0             1          0   \n",
       "3       1             0              0             1          2   \n",
       "4       0             0              0             1          1   \n",
       "\n",
       "   Residence_type  smoking_status       age  avg_glucose_level       bmi  \n",
       "0               1               0  0.353027           0.122649  0.255747  \n",
       "1               1               0  0.157715           0.128198  0.293103  \n",
       "2               1               0  0.682617           0.145551  0.528736  \n",
       "3               0               3  0.365234           0.187594  0.522989  \n",
       "4               1               1  0.853516           0.166337  0.425287  "
      ]
     },
     "execution_count": 17,
     "metadata": {},
     "output_type": "execute_result"
    }
   ],
   "source": [
    "x_train.head()"
   ]
  },
  {
   "cell_type": "code",
   "execution_count": 18,
   "id": "9d7f6ef9",
   "metadata": {
    "scrolled": true
   },
   "outputs": [
    {
     "data": {
      "image/png": "[encoded data removed]",
      "text/plain": [
       "<Figure size 432x288 with 1 Axes>"
      ]
     },
     "metadata": {
      "needs_background": "light"
     },
     "output_type": "display_data"
    }
   ],
   "source": [
    "x_train,x_test=features_selection(x_train,x_test,y_train,seuil=0.05)"
   ]
  },
  {
   "cell_type": "code",
   "execution_count": 19,
   "id": "292fa92e",
   "metadata": {},
   "outputs": [
    {
     "data": {
      "text/html": [
       "<div>\n",
       "<style scoped>\n",
       "    .dataframe tbody tr th:only-of-type {\n",
       "        vertical-align: middle;\n",
       "    }\n",
       "\n",
       "    .dataframe tbody tr th {\n",
       "        vertical-align: top;\n",
       "    }\n",
       "\n",
       "    .dataframe thead th {\n",
       "        text-align: right;\n",
       "    }\n",
       "</style>\n",
       "<table border=\"1\" class=\"dataframe\">\n",
       "  <thead>\n",
       "    <tr style=\"text-align: right;\">\n",
       "      <th></th>\n",
       "      <th>avg_glucose_level</th>\n",
       "      <th>bmi</th>\n",
       "      <th>age</th>\n",
       "      <th>smoking_status</th>\n",
       "    </tr>\n",
       "  </thead>\n",
       "  <tbody>\n",
       "    <tr>\n",
       "      <th>0</th>\n",
       "      <td>0.122649</td>\n",
       "      <td>0.255747</td>\n",
       "      <td>0.353027</td>\n",
       "      <td>0</td>\n",
       "    </tr>\n",
       "    <tr>\n",
       "      <th>1</th>\n",
       "      <td>0.128198</td>\n",
       "      <td>0.293103</td>\n",
       "      <td>0.157715</td>\n",
       "      <td>0</td>\n",
       "    </tr>\n",
       "    <tr>\n",
       "      <th>2</th>\n",
       "      <td>0.145551</td>\n",
       "      <td>0.528736</td>\n",
       "      <td>0.682617</td>\n",
       "      <td>0</td>\n",
       "    </tr>\n",
       "    <tr>\n",
       "      <th>3</th>\n",
       "      <td>0.187594</td>\n",
       "      <td>0.522989</td>\n",
       "      <td>0.365234</td>\n",
       "      <td>3</td>\n",
       "    </tr>\n",
       "    <tr>\n",
       "      <th>4</th>\n",
       "      <td>0.166337</td>\n",
       "      <td>0.425287</td>\n",
       "      <td>0.853516</td>\n",
       "      <td>1</td>\n",
       "    </tr>\n",
       "  </tbody>\n",
       "</table>\n",
       "</div>"
      ],
      "text/plain": [
       "   avg_glucose_level       bmi       age  smoking_status\n",
       "0           0.122649  0.255747  0.353027               0\n",
       "1           0.128198  0.293103  0.157715               0\n",
       "2           0.145551  0.528736  0.682617               0\n",
       "3           0.187594  0.522989  0.365234               3\n",
       "4           0.166337  0.425287  0.853516               1"
      ]
     },
     "execution_count": 19,
     "metadata": {},
     "output_type": "execute_result"
    }
   ],
   "source": [
    "x_train.head()"
   ]
  },
  {
   "cell_type": "code",
   "execution_count": 21,
   "id": "38300a15",
   "metadata": {},
   "outputs": [
    {
     "name": "stdout",
     "output_type": "stream",
     "text": [
      "\\begin{tabular}{rrrr}\n",
      "\\toprule\n",
      "avg_glucose_level & bmi & age & smoking_status \\\\\n",
      "\\midrule\n",
      "0.122649 & 0.255747 & 0.353027 & 0 \\\\\n",
      "0.128198 & 0.293103 & 0.157715 & 0 \\\\\n",
      "0.145551 & 0.528736 & 0.682617 & 0 \\\\\n",
      "0.187594 & 0.522989 & 0.365234 & 3 \\\\\n",
      "0.166337 & 0.425287 & 0.853516 & 1 \\\\\n",
      "\\bottomrule\n",
      "\\end{tabular}\n",
      "\n"
     ]
    }
   ],
   "source": [
    "\n",
    "\n",
    "# Exportez le DataFrame au format LaTeX\n",
    "latex_code =x_train.head().to_latex(index=False)\n",
    "\n",
    "# Affichez le code LaTeX\n",
    "print(latex_code)"
   ]
  },
  {
   "cell_type": "markdown",
   "id": "8e2cd564",
   "metadata": {},
   "source": [
    "# Model"
   ]
  },
  {
   "cell_type": "code",
   "execution_count": 28,
   "id": "75176230",
   "metadata": {},
   "outputs": [
    {
     "name": "stdout",
     "output_type": "stream",
     "text": [
      "Do you want to enter the params. Y/Nn\n",
      "              precision    recall  f1-score   support\n",
      "\n",
      "           0       0.99      0.71      0.83      1421\n",
      "           1       0.14      0.89      0.24        74\n",
      "\n",
      "    accuracy                           0.72      1495\n",
      "   macro avg       0.57      0.80      0.54      1495\n",
      "weighted avg       0.95      0.72      0.80      1495\n",
      "\n"
     ]
    }
   ],
   "source": [
    "model=compute_model(\"rdf\",x_train,y_train)\n",
    "sum_up=evaluation_of_model(model,x_test,y_test,\"RandomForest_28_06\",model_resume)"
   ]
  },
  {
   "cell_type": "code",
   "execution_count": 29,
   "id": "4657b2f1",
   "metadata": {},
   "outputs": [
    {
     "data": {
      "text/plain": [
       "['rdf_28_06.pkl']"
      ]
     },
     "execution_count": 29,
     "metadata": {},
     "output_type": "execute_result"
    }
   ],
   "source": [
    "dump(value=model,filename=\"rdf_28_06.pkl\")"
   ]
  },
  {
   "cell_type": "markdown",
   "id": "e77d02a8",
   "metadata": {},
   "source": [
    "# Test with smote"
   ]
  },
  {
   "cell_type": "code",
   "execution_count": 30,
   "id": "2b59d295",
   "metadata": {},
   "outputs": [],
   "source": [
    "loaded_rdf=load(filename=\"rdf_28_06.pkl\")"
   ]
  },
  {
   "cell_type": "code",
   "execution_count": 17,
   "id": "43439d93",
   "metadata": {},
   "outputs": [],
   "source": [
    "x_test_resampled,y_test_resampled,resampler=resampling_data(x_test,y_test,\"SMOTE\")"
   ]
  },
  {
   "cell_type": "code",
   "execution_count": 32,
   "id": "bed83cc1",
   "metadata": {
    "scrolled": true
   },
   "outputs": [
    {
     "name": "stdout",
     "output_type": "stream",
     "text": [
      "              precision    recall  f1-score   support\n",
      "\n",
      "           0       0.90      0.71      0.80      1421\n",
      "           1       0.76      0.92      0.83      1421\n",
      "\n",
      "    accuracy                           0.82      2842\n",
      "   macro avg       0.83      0.82      0.81      2842\n",
      "weighted avg       0.83      0.82      0.81      2842\n",
      "\n"
     ]
    }
   ],
   "source": [
    "sum_up=evaluation_of_model(loaded_rdf,x_test_resampled,y_test_resampled,\"Random_data_smoted_28_06\",model_resume)"
   ]
  },
  {
   "cell_type": "code",
   "execution_count": null,
   "id": "d8822a83",
   "metadata": {},
   "outputs": [],
   "source": []
  },
  {
   "cell_type": "markdown",
   "id": "47381e87",
   "metadata": {},
   "source": [
    "# Dependency Plot"
   ]
  },
  {
   "cell_type": "code",
   "execution_count": 33,
   "id": "98ddd638",
   "metadata": {},
   "outputs": [],
   "source": [
    "features=['avg_glucose_level', 'bmi' ,'age']"
   ]
  },
  {
   "cell_type": "code",
   "execution_count": 34,
   "id": "c5687a99",
   "metadata": {},
   "outputs": [
    {
     "data": {
      "text/plain": [
       "['avg_glucose_level', 'bmi', 'age']"
      ]
     },
     "execution_count": 34,
     "metadata": {},
     "output_type": "execute_result"
    }
   ],
   "source": [
    "features"
   ]
  },
  {
   "cell_type": "code",
   "execution_count": 35,
   "id": "a9ebd96d",
   "metadata": {},
   "outputs": [
    {
     "data": {
      "image/png": "[encoded data removed]",
      "text/plain": [
       "<Figure size 864x432 with 4 Axes>"
      ]
     },
     "metadata": {
      "needs_background": "light"
     },
     "output_type": "display_data"
    }
   ],
   "source": [
    "plot_dependencing(loaded_rdf,x_train,\"random_forest\",features)"
   ]
  },
  {
   "cell_type": "code",
   "execution_count": 87,
   "id": "e51cb8bd",
   "metadata": {},
   "outputs": [
    {
     "data": {
      "image/png": "[encoded data removed]",
      "text/plain": [
       "<Figure size 864x432 with 2 Axes>"
      ]
     },
     "metadata": {
      "needs_background": "light"
     },
     "output_type": "display_data"
    }
   ],
   "source": [
    "plot_dependencing(loaded_rdf,x_train,\"random_forest\",features=['smoking_status'])"
   ]
  },
  {
   "cell_type": "code",
   "execution_count": 36,
   "id": "5c63501a",
   "metadata": {},
   "outputs": [
    {
     "data": {
      "image/png": "[encoded data removed]",
      "text/plain": [
       "<Figure size 864x432 with 2 Axes>"
      ]
     },
     "metadata": {
      "needs_background": "light"
     },
     "output_type": "display_data"
    }
   ],
   "source": [
    "plot_dependencing(loaded_rdf,x_train,\"random_forest\",features=[('age','bmi')])"
   ]
  },
  {
   "cell_type": "code",
   "execution_count": 37,
   "id": "b7351954",
   "metadata": {},
   "outputs": [
    {
     "data": {
      "image/png": "[encoded data removed]",
      "text/plain": [
       "<Figure size 864x432 with 2 Axes>"
      ]
     },
     "metadata": {
      "needs_background": "light"
     },
     "output_type": "display_data"
    }
   ],
   "source": [
    "plot_dependencing(loaded_rdf,x_train,\"random_forest\",features=[('age','avg_glucose_level')])"
   ]
  },
  {
   "cell_type": "code",
   "execution_count": 38,
   "id": "8649be58",
   "metadata": {},
   "outputs": [
    {
     "data": {
      "image/png": "[encoded data removed]",
      "text/plain": [
       "<Figure size 864x432 with 2 Axes>"
      ]
     },
     "metadata": {
      "needs_background": "light"
     },
     "output_type": "display_data"
    }
   ],
   "source": [
    "plot_dependencing(loaded_rdf,x_train,\"random_forest\",features=[('bmi','avg_glucose_level')])"
   ]
  },
  {
   "cell_type": "markdown",
   "id": "b2bc804c",
   "metadata": {},
   "source": [
    "## fine tuning model random with feature selection"
   ]
  },
  {
   "cell_type": "code",
   "execution_count": 14,
   "id": "d2b76f7e",
   "metadata": {},
   "outputs": [
    {
     "name": "stdout",
     "output_type": "stream",
     "text": [
      "Do you want to enter the params. Y/NY\n",
      "enter the list of n_estimators that you want to test separated by espace : 100 200 300 400 500\n",
      "enter the list of min_samples_split that you want to test separated by espace : 5 10 15 20 30\n",
      "enter the list of max_leaf_nodes that you want to test separated by espace : 2 3 4 5 6 7 8 9 10\n",
      "enter the list of max_leaf_nodes that you want to test separated by espace : 10 20 30 40 50\n",
      "{'n_estimators': [100, 200, 300, 400, 500], 'min_samples_split': [5, 10, 15, 20, 30], 'max_leaf_nodes': [2, 3, 4, 5, 6, 7, 8, 9, 10], 'max_depth': [10, 20, 30, 40, 50]}\n",
      "              precision    recall  f1-score   support\n",
      "\n",
      "           0       0.99      0.75      0.85      1421\n",
      "           1       0.14      0.80      0.24        74\n",
      "\n",
      "    accuracy                           0.76      1495\n",
      "   macro avg       0.57      0.78      0.55      1495\n",
      "weighted avg       0.94      0.76      0.82      1495\n",
      "\n"
     ]
    }
   ],
   "source": [
    "model_tune=compute_model(\"rdf\",x_train,y_train)\n",
    "sum_up=evaluation_of_model(model_tune,x_test,y_test,\"RandomForest_tune_28_06\",model_resume)"
   ]
  },
  {
   "cell_type": "code",
   "execution_count": 17,
   "id": "f73df3f0",
   "metadata": {},
   "outputs": [
    {
     "name": "stdout",
     "output_type": "stream",
     "text": [
      "              precision    recall  f1-score   support\n",
      "\n",
      "           0       0.84      0.75      0.79      1421\n",
      "           1       0.78      0.86      0.82      1421\n",
      "\n",
      "    accuracy                           0.81      2842\n",
      "   macro avg       0.81      0.81      0.81      2842\n",
      "weighted avg       0.81      0.81      0.81      2842\n",
      "\n"
     ]
    }
   ],
   "source": [
    "sum_up=evaluation_of_model(model_tune,x_test_resampled,y_test_resampled,\"Random_tune_data_smoted_28_06\",model_resume)"
   ]
  },
  {
   "cell_type": "code",
   "execution_count": 18,
   "id": "8ff18ee0",
   "metadata": {},
   "outputs": [
    {
     "data": {
      "text/html": [
       "<style>#sk-container-id-1 {color: black;background-color: white;}#sk-container-id-1 pre{padding: 0;}#sk-container-id-1 div.sk-toggleable {background-color: white;}#sk-container-id-1 label.sk-toggleable__label {cursor: pointer;display: block;width: 100%;margin-bottom: 0;padding: 0.3em;box-sizing: border-box;text-align: center;}#sk-container-id-1 label.sk-toggleable__label-arrow:before {content: \"▸\";float: left;margin-right: 0.25em;color: #696969;}#sk-container-id-1 label.sk-toggleable__label-arrow:hover:before {color: black;}#sk-container-id-1 div.sk-estimator:hover label.sk-toggleable__label-arrow:before {color: black;}#sk-container-id-1 div.sk-toggleable__content {max-height: 0;max-width: 0;overflow: hidden;text-align: left;background-color: #f0f8ff;}#sk-container-id-1 div.sk-toggleable__content pre {margin: 0.2em;color: black;border-radius: 0.25em;background-color: #f0f8ff;}#sk-container-id-1 input.sk-toggleable__control:checked~div.sk-toggleable__content {max-height: 200px;max-width: 100%;overflow: auto;}#sk-container-id-1 input.sk-toggleable__control:checked~label.sk-toggleable__label-arrow:before {content: \"▾\";}#sk-container-id-1 div.sk-estimator input.sk-toggleable__control:checked~label.sk-toggleable__label {background-color: #d4ebff;}#sk-container-id-1 div.sk-label input.sk-toggleable__control:checked~label.sk-toggleable__label {background-color: #d4ebff;}#sk-container-id-1 input.sk-hidden--visually {border: 0;clip: rect(1px 1px 1px 1px);clip: rect(1px, 1px, 1px, 1px);height: 1px;margin: -1px;overflow: hidden;padding: 0;position: absolute;width: 1px;}#sk-container-id-1 div.sk-estimator {font-family: monospace;background-color: #f0f8ff;border: 1px dotted black;border-radius: 0.25em;box-sizing: border-box;margin-bottom: 0.5em;}#sk-container-id-1 div.sk-estimator:hover {background-color: #d4ebff;}#sk-container-id-1 div.sk-parallel-item::after {content: \"\";width: 100%;border-bottom: 1px solid gray;flex-grow: 1;}#sk-container-id-1 div.sk-label:hover label.sk-toggleable__label {background-color: #d4ebff;}#sk-container-id-1 div.sk-serial::before {content: \"\";position: absolute;border-left: 1px solid gray;box-sizing: border-box;top: 0;bottom: 0;left: 50%;z-index: 0;}#sk-container-id-1 div.sk-serial {display: flex;flex-direction: column;align-items: center;background-color: white;padding-right: 0.2em;padding-left: 0.2em;position: relative;}#sk-container-id-1 div.sk-item {position: relative;z-index: 1;}#sk-container-id-1 div.sk-parallel {display: flex;align-items: stretch;justify-content: center;background-color: white;position: relative;}#sk-container-id-1 div.sk-item::before, #sk-container-id-1 div.sk-parallel-item::before {content: \"\";position: absolute;border-left: 1px solid gray;box-sizing: border-box;top: 0;bottom: 0;left: 50%;z-index: -1;}#sk-container-id-1 div.sk-parallel-item {display: flex;flex-direction: column;z-index: 1;position: relative;background-color: white;}#sk-container-id-1 div.sk-parallel-item:first-child::after {align-self: flex-end;width: 50%;}#sk-container-id-1 div.sk-parallel-item:last-child::after {align-self: flex-start;width: 50%;}#sk-container-id-1 div.sk-parallel-item:only-child::after {width: 0;}#sk-container-id-1 div.sk-dashed-wrapped {border: 1px dashed gray;margin: 0 0.4em 0.5em 0.4em;box-sizing: border-box;padding-bottom: 0.4em;background-color: white;}#sk-container-id-1 div.sk-label label {font-family: monospace;font-weight: bold;display: inline-block;line-height: 1.2em;}#sk-container-id-1 div.sk-label-container {text-align: center;}#sk-container-id-1 div.sk-container {/* jupyter's `normalize.less` sets `[hidden] { display: none; }` but bootstrap.min.css set `[hidden] { display: none !important; }` so we also need the `!important` here to be able to override the default hidden behavior on the sphinx rendered scikit-learn.org. See: https://github.com/scikit-learn/scikit-learn/issues/21755 */display: inline-block !important;position: relative;}#sk-container-id-1 div.sk-text-repr-fallback {display: none;}</style><div id=\"sk-container-id-1\" class=\"sk-top-container\"><div class=\"sk-text-repr-fallback\"><pre>RandomForestClassifier(class_weight={0: 1, 1: 19.03448275862069}, max_depth=10,\n",
       "                       max_leaf_nodes=10, min_samples_split=5, n_estimators=300,\n",
       "                       n_jobs=-1, random_state=1234)</pre><b>In a Jupyter environment, please rerun this cell to show the HTML representation or trust the notebook. <br />On GitHub, the HTML representation is unable to render, please try loading this page with nbviewer.org.</b></div><div class=\"sk-container\" hidden><div class=\"sk-item\"><div class=\"sk-estimator sk-toggleable\"><input class=\"sk-toggleable__control sk-hidden--visually\" id=\"sk-estimator-id-1\" type=\"checkbox\" checked><label for=\"sk-estimator-id-1\" class=\"sk-toggleable__label sk-toggleable__label-arrow\">RandomForestClassifier</label><div class=\"sk-toggleable__content\"><pre>RandomForestClassifier(class_weight={0: 1, 1: 19.03448275862069}, max_depth=10,\n",
       "                       max_leaf_nodes=10, min_samples_split=5, n_estimators=300,\n",
       "                       n_jobs=-1, random_state=1234)</pre></div></div></div></div></div>"
      ],
      "text/plain": [
       "RandomForestClassifier(class_weight={0: 1, 1: 19.03448275862069}, max_depth=10,\n",
       "                       max_leaf_nodes=10, min_samples_split=5, n_estimators=300,\n",
       "                       n_jobs=-1, random_state=1234)"
      ]
     },
     "execution_count": 18,
     "metadata": {},
     "output_type": "execute_result"
    }
   ],
   "source": [
    "model_tune.best_estimator_"
   ]
  },
  {
   "cell_type": "code",
   "execution_count": 15,
   "id": "a96034ea",
   "metadata": {},
   "outputs": [
    {
     "name": "stdout",
     "output_type": "stream",
     "text": [
      "Do you want to enter the params. Y/NY\n",
      "enter the list of n_estimators that you want to test separated by espace : 100 200 300 400 500\n",
      "enter the list of min_samples_split that you want to test separated by espace : 2 3 5 10\n",
      "enter the list of max_leaf_nodes that you want to test separated by espace : 8 10 12 15 \n",
      "enter the list of max_leaf_nodes that you want to test separated by espace : 5 7 8 10 15\n",
      "{'n_estimators': [100, 200, 300, 400, 500], 'min_samples_split': [2, 3, 5, 10], 'max_leaf_nodes': [8, 10, 12, 15], 'max_depth': [5, 7, 8, 10, 15]}\n",
      "              precision    recall  f1-score   support\n",
      "\n",
      "           0       0.98      0.79      0.88      1421\n",
      "           1       0.16      0.74      0.26        74\n",
      "\n",
      "    accuracy                           0.79      1495\n",
      "   macro avg       0.57      0.77      0.57      1495\n",
      "weighted avg       0.94      0.79      0.85      1495\n",
      "\n"
     ]
    }
   ],
   "source": [
    "model_tune=compute_model(\"rdf\",x_train,y_train)\n",
    "sum_up=evaluation_of_model(model_tune,x_test,y_test,\"RandomForest_tune_28_06\",model_resume)"
   ]
  },
  {
   "cell_type": "code",
   "execution_count": 18,
   "id": "47c55980",
   "metadata": {},
   "outputs": [
    {
     "name": "stdout",
     "output_type": "stream",
     "text": [
      "              precision    recall  f1-score   support\n",
      "\n",
      "           0       0.80      0.79      0.79      1421\n",
      "           1       0.79      0.80      0.80      1421\n",
      "\n",
      "    accuracy                           0.80      2842\n",
      "   macro avg       0.80      0.80      0.80      2842\n",
      "weighted avg       0.80      0.80      0.80      2842\n",
      "\n"
     ]
    }
   ],
   "source": [
    "sum_up=evaluation_of_model(model_tune,x_test_resampled,y_test_resampled,\"Random_tune_data_smoted_28_06\",model_resume)"
   ]
  },
  {
   "cell_type": "code",
   "execution_count": 19,
   "id": "01b8dfd1",
   "metadata": {},
   "outputs": [
    {
     "data": {
      "text/html": [
       "<style>#sk-container-id-1 {color: black;background-color: white;}#sk-container-id-1 pre{padding: 0;}#sk-container-id-1 div.sk-toggleable {background-color: white;}#sk-container-id-1 label.sk-toggleable__label {cursor: pointer;display: block;width: 100%;margin-bottom: 0;padding: 0.3em;box-sizing: border-box;text-align: center;}#sk-container-id-1 label.sk-toggleable__label-arrow:before {content: \"▸\";float: left;margin-right: 0.25em;color: #696969;}#sk-container-id-1 label.sk-toggleable__label-arrow:hover:before {color: black;}#sk-container-id-1 div.sk-estimator:hover label.sk-toggleable__label-arrow:before {color: black;}#sk-container-id-1 div.sk-toggleable__content {max-height: 0;max-width: 0;overflow: hidden;text-align: left;background-color: #f0f8ff;}#sk-container-id-1 div.sk-toggleable__content pre {margin: 0.2em;color: black;border-radius: 0.25em;background-color: #f0f8ff;}#sk-container-id-1 input.sk-toggleable__control:checked~div.sk-toggleable__content {max-height: 200px;max-width: 100%;overflow: auto;}#sk-container-id-1 input.sk-toggleable__control:checked~label.sk-toggleable__label-arrow:before {content: \"▾\";}#sk-container-id-1 div.sk-estimator input.sk-toggleable__control:checked~label.sk-toggleable__label {background-color: #d4ebff;}#sk-container-id-1 div.sk-label input.sk-toggleable__control:checked~label.sk-toggleable__label {background-color: #d4ebff;}#sk-container-id-1 input.sk-hidden--visually {border: 0;clip: rect(1px 1px 1px 1px);clip: rect(1px, 1px, 1px, 1px);height: 1px;margin: -1px;overflow: hidden;padding: 0;position: absolute;width: 1px;}#sk-container-id-1 div.sk-estimator {font-family: monospace;background-color: #f0f8ff;border: 1px dotted black;border-radius: 0.25em;box-sizing: border-box;margin-bottom: 0.5em;}#sk-container-id-1 div.sk-estimator:hover {background-color: #d4ebff;}#sk-container-id-1 div.sk-parallel-item::after {content: \"\";width: 100%;border-bottom: 1px solid gray;flex-grow: 1;}#sk-container-id-1 div.sk-label:hover label.sk-toggleable__label {background-color: #d4ebff;}#sk-container-id-1 div.sk-serial::before {content: \"\";position: absolute;border-left: 1px solid gray;box-sizing: border-box;top: 0;bottom: 0;left: 50%;z-index: 0;}#sk-container-id-1 div.sk-serial {display: flex;flex-direction: column;align-items: center;background-color: white;padding-right: 0.2em;padding-left: 0.2em;position: relative;}#sk-container-id-1 div.sk-item {position: relative;z-index: 1;}#sk-container-id-1 div.sk-parallel {display: flex;align-items: stretch;justify-content: center;background-color: white;position: relative;}#sk-container-id-1 div.sk-item::before, #sk-container-id-1 div.sk-parallel-item::before {content: \"\";position: absolute;border-left: 1px solid gray;box-sizing: border-box;top: 0;bottom: 0;left: 50%;z-index: -1;}#sk-container-id-1 div.sk-parallel-item {display: flex;flex-direction: column;z-index: 1;position: relative;background-color: white;}#sk-container-id-1 div.sk-parallel-item:first-child::after {align-self: flex-end;width: 50%;}#sk-container-id-1 div.sk-parallel-item:last-child::after {align-self: flex-start;width: 50%;}#sk-container-id-1 div.sk-parallel-item:only-child::after {width: 0;}#sk-container-id-1 div.sk-dashed-wrapped {border: 1px dashed gray;margin: 0 0.4em 0.5em 0.4em;box-sizing: border-box;padding-bottom: 0.4em;background-color: white;}#sk-container-id-1 div.sk-label label {font-family: monospace;font-weight: bold;display: inline-block;line-height: 1.2em;}#sk-container-id-1 div.sk-label-container {text-align: center;}#sk-container-id-1 div.sk-container {/* jupyter's `normalize.less` sets `[hidden] { display: none; }` but bootstrap.min.css set `[hidden] { display: none !important; }` so we also need the `!important` here to be able to override the default hidden behavior on the sphinx rendered scikit-learn.org. See: https://github.com/scikit-learn/scikit-learn/issues/21755 */display: inline-block !important;position: relative;}#sk-container-id-1 div.sk-text-repr-fallback {display: none;}</style><div id=\"sk-container-id-1\" class=\"sk-top-container\"><div class=\"sk-text-repr-fallback\"><pre>RandomForestClassifier(class_weight={0: 1, 1: 19.03448275862069}, max_depth=15,\n",
       "                       max_leaf_nodes=15, min_samples_split=5, n_estimators=500,\n",
       "                       n_jobs=-1, random_state=1234)</pre><b>In a Jupyter environment, please rerun this cell to show the HTML representation or trust the notebook. <br />On GitHub, the HTML representation is unable to render, please try loading this page with nbviewer.org.</b></div><div class=\"sk-container\" hidden><div class=\"sk-item\"><div class=\"sk-estimator sk-toggleable\"><input class=\"sk-toggleable__control sk-hidden--visually\" id=\"sk-estimator-id-1\" type=\"checkbox\" checked><label for=\"sk-estimator-id-1\" class=\"sk-toggleable__label sk-toggleable__label-arrow\">RandomForestClassifier</label><div class=\"sk-toggleable__content\"><pre>RandomForestClassifier(class_weight={0: 1, 1: 19.03448275862069}, max_depth=15,\n",
       "                       max_leaf_nodes=15, min_samples_split=5, n_estimators=500,\n",
       "                       n_jobs=-1, random_state=1234)</pre></div></div></div></div></div>"
      ],
      "text/plain": [
       "RandomForestClassifier(class_weight={0: 1, 1: 19.03448275862069}, max_depth=15,\n",
       "                       max_leaf_nodes=15, min_samples_split=5, n_estimators=500,\n",
       "                       n_jobs=-1, random_state=1234)"
      ]
     },
     "execution_count": 19,
     "metadata": {},
     "output_type": "execute_result"
    }
   ],
   "source": [
    "model_tune.best_estimator_"
   ]
  },
  {
   "cell_type": "code",
   "execution_count": 20,
   "id": "fc3660d9",
   "metadata": {},
   "outputs": [
    {
     "name": "stdout",
     "output_type": "stream",
     "text": [
      "Do you want to enter the params. Y/NY\n",
      "enter the list of n_estimators that you want to test separated by espace : 400 500 700 800 1000\n",
      "enter the list of min_samples_split that you want to test separated by espace : 2 3 5 10\n",
      "enter the list of max_leaf_nodes that you want to test separated by espace : 12 15 20 30 40 50\n",
      "enter the list of max_leaf_nodes that you want to test separated by espace : 10 15 20 30 50 100\n",
      "{'n_estimators': [400, 500, 700, 800, 1000], 'min_samples_split': [2, 3, 5, 10], 'max_leaf_nodes': [12, 15, 20, 30, 40, 50], 'max_depth': [10, 15, 20, 30, 50, 100]}\n",
      "              precision    recall  f1-score   support\n",
      "\n",
      "           0       0.97      0.90      0.93      1421\n",
      "           1       0.18      0.42      0.25        74\n",
      "\n",
      "    accuracy                           0.87      1495\n",
      "   macro avg       0.57      0.66      0.59      1495\n",
      "weighted avg       0.93      0.87      0.90      1495\n",
      "\n"
     ]
    }
   ],
   "source": [
    "model_tune=compute_model(\"rdf\",x_train,y_train)\n",
    "sum_up=evaluation_of_model(model_tune,x_test,y_test,\"RandomForest_tune_28_06\",model_resume)"
   ]
  },
  {
   "cell_type": "code",
   "execution_count": 21,
   "id": "710942ea",
   "metadata": {},
   "outputs": [
    {
     "data": {
      "text/html": [
       "<style>#sk-container-id-2 {color: black;background-color: white;}#sk-container-id-2 pre{padding: 0;}#sk-container-id-2 div.sk-toggleable {background-color: white;}#sk-container-id-2 label.sk-toggleable__label {cursor: pointer;display: block;width: 100%;margin-bottom: 0;padding: 0.3em;box-sizing: border-box;text-align: center;}#sk-container-id-2 label.sk-toggleable__label-arrow:before {content: \"▸\";float: left;margin-right: 0.25em;color: #696969;}#sk-container-id-2 label.sk-toggleable__label-arrow:hover:before {color: black;}#sk-container-id-2 div.sk-estimator:hover label.sk-toggleable__label-arrow:before {color: black;}#sk-container-id-2 div.sk-toggleable__content {max-height: 0;max-width: 0;overflow: hidden;text-align: left;background-color: #f0f8ff;}#sk-container-id-2 div.sk-toggleable__content pre {margin: 0.2em;color: black;border-radius: 0.25em;background-color: #f0f8ff;}#sk-container-id-2 input.sk-toggleable__control:checked~div.sk-toggleable__content {max-height: 200px;max-width: 100%;overflow: auto;}#sk-container-id-2 input.sk-toggleable__control:checked~label.sk-toggleable__label-arrow:before {content: \"▾\";}#sk-container-id-2 div.sk-estimator input.sk-toggleable__control:checked~label.sk-toggleable__label {background-color: #d4ebff;}#sk-container-id-2 div.sk-label input.sk-toggleable__control:checked~label.sk-toggleable__label {background-color: #d4ebff;}#sk-container-id-2 input.sk-hidden--visually {border: 0;clip: rect(1px 1px 1px 1px);clip: rect(1px, 1px, 1px, 1px);height: 1px;margin: -1px;overflow: hidden;padding: 0;position: absolute;width: 1px;}#sk-container-id-2 div.sk-estimator {font-family: monospace;background-color: #f0f8ff;border: 1px dotted black;border-radius: 0.25em;box-sizing: border-box;margin-bottom: 0.5em;}#sk-container-id-2 div.sk-estimator:hover {background-color: #d4ebff;}#sk-container-id-2 div.sk-parallel-item::after {content: \"\";width: 100%;border-bottom: 1px solid gray;flex-grow: 1;}#sk-container-id-2 div.sk-label:hover label.sk-toggleable__label {background-color: #d4ebff;}#sk-container-id-2 div.sk-serial::before {content: \"\";position: absolute;border-left: 1px solid gray;box-sizing: border-box;top: 0;bottom: 0;left: 50%;z-index: 0;}#sk-container-id-2 div.sk-serial {display: flex;flex-direction: column;align-items: center;background-color: white;padding-right: 0.2em;padding-left: 0.2em;position: relative;}#sk-container-id-2 div.sk-item {position: relative;z-index: 1;}#sk-container-id-2 div.sk-parallel {display: flex;align-items: stretch;justify-content: center;background-color: white;position: relative;}#sk-container-id-2 div.sk-item::before, #sk-container-id-2 div.sk-parallel-item::before {content: \"\";position: absolute;border-left: 1px solid gray;box-sizing: border-box;top: 0;bottom: 0;left: 50%;z-index: -1;}#sk-container-id-2 div.sk-parallel-item {display: flex;flex-direction: column;z-index: 1;position: relative;background-color: white;}#sk-container-id-2 div.sk-parallel-item:first-child::after {align-self: flex-end;width: 50%;}#sk-container-id-2 div.sk-parallel-item:last-child::after {align-self: flex-start;width: 50%;}#sk-container-id-2 div.sk-parallel-item:only-child::after {width: 0;}#sk-container-id-2 div.sk-dashed-wrapped {border: 1px dashed gray;margin: 0 0.4em 0.5em 0.4em;box-sizing: border-box;padding-bottom: 0.4em;background-color: white;}#sk-container-id-2 div.sk-label label {font-family: monospace;font-weight: bold;display: inline-block;line-height: 1.2em;}#sk-container-id-2 div.sk-label-container {text-align: center;}#sk-container-id-2 div.sk-container {/* jupyter's `normalize.less` sets `[hidden] { display: none; }` but bootstrap.min.css set `[hidden] { display: none !important; }` so we also need the `!important` here to be able to override the default hidden behavior on the sphinx rendered scikit-learn.org. See: https://github.com/scikit-learn/scikit-learn/issues/21755 */display: inline-block !important;position: relative;}#sk-container-id-2 div.sk-text-repr-fallback {display: none;}</style><div id=\"sk-container-id-2\" class=\"sk-top-container\"><div class=\"sk-text-repr-fallback\"><pre>RandomForestClassifier(class_weight={0: 1, 1: 19.03448275862069}, max_depth=20,\n",
       "                       max_leaf_nodes=50, min_samples_split=10,\n",
       "                       n_estimators=500, n_jobs=-1, random_state=1234)</pre><b>In a Jupyter environment, please rerun this cell to show the HTML representation or trust the notebook. <br />On GitHub, the HTML representation is unable to render, please try loading this page with nbviewer.org.</b></div><div class=\"sk-container\" hidden><div class=\"sk-item\"><div class=\"sk-estimator sk-toggleable\"><input class=\"sk-toggleable__control sk-hidden--visually\" id=\"sk-estimator-id-2\" type=\"checkbox\" checked><label for=\"sk-estimator-id-2\" class=\"sk-toggleable__label sk-toggleable__label-arrow\">RandomForestClassifier</label><div class=\"sk-toggleable__content\"><pre>RandomForestClassifier(class_weight={0: 1, 1: 19.03448275862069}, max_depth=20,\n",
       "                       max_leaf_nodes=50, min_samples_split=10,\n",
       "                       n_estimators=500, n_jobs=-1, random_state=1234)</pre></div></div></div></div></div>"
      ],
      "text/plain": [
       "RandomForestClassifier(class_weight={0: 1, 1: 19.03448275862069}, max_depth=20,\n",
       "                       max_leaf_nodes=50, min_samples_split=10,\n",
       "                       n_estimators=500, n_jobs=-1, random_state=1234)"
      ]
     },
     "execution_count": 21,
     "metadata": {},
     "output_type": "execute_result"
    }
   ],
   "source": [
    "model_tune.best_estimator_"
   ]
  },
  {
   "cell_type": "code",
   "execution_count": 22,
   "id": "573e5cb1",
   "metadata": {},
   "outputs": [
    {
     "name": "stdout",
     "output_type": "stream",
     "text": [
      "              precision    recall  f1-score   support\n",
      "\n",
      "           0       0.60      0.90      0.72      1421\n",
      "           1       0.79      0.39      0.53      1421\n",
      "\n",
      "    accuracy                           0.65      2842\n",
      "   macro avg       0.70      0.65      0.62      2842\n",
      "weighted avg       0.70      0.65      0.62      2842\n",
      "\n"
     ]
    }
   ],
   "source": [
    "sum_up=evaluation_of_model(model_tune,x_test_resampled,y_test_resampled,\"Random_tune_data_smoted_28_06\",model_resume)"
   ]
  },
  {
   "cell_type": "code",
   "execution_count": null,
   "id": "8328520b",
   "metadata": {},
   "outputs": [],
   "source": []
  },
  {
   "cell_type": "markdown",
   "id": "c0c73335",
   "metadata": {},
   "source": [
    "# Model with numerical var alone"
   ]
  },
  {
   "cell_type": "code",
   "execution_count": 97,
   "id": "d2e10942",
   "metadata": {},
   "outputs": [
    {
     "data": {
      "text/html": [
       "<div>\n",
       "<style scoped>\n",
       "    .dataframe tbody tr th:only-of-type {\n",
       "        vertical-align: middle;\n",
       "    }\n",
       "\n",
       "    .dataframe tbody tr th {\n",
       "        vertical-align: top;\n",
       "    }\n",
       "\n",
       "    .dataframe thead th {\n",
       "        text-align: right;\n",
       "    }\n",
       "</style>\n",
       "<table border=\"1\" class=\"dataframe\">\n",
       "  <thead>\n",
       "    <tr style=\"text-align: right;\">\n",
       "      <th></th>\n",
       "      <th>gender</th>\n",
       "      <th>age</th>\n",
       "      <th>hypertension</th>\n",
       "      <th>heart_disease</th>\n",
       "      <th>ever_married</th>\n",
       "      <th>work_type</th>\n",
       "      <th>Residence_type</th>\n",
       "      <th>avg_glucose_level</th>\n",
       "      <th>bmi</th>\n",
       "      <th>smoking_status</th>\n",
       "      <th>stroke</th>\n",
       "    </tr>\n",
       "  </thead>\n",
       "  <tbody>\n",
       "    <tr>\n",
       "      <th>0</th>\n",
       "      <td>1</td>\n",
       "      <td>67.0</td>\n",
       "      <td>0</td>\n",
       "      <td>1</td>\n",
       "      <td>1</td>\n",
       "      <td>1</td>\n",
       "      <td>1</td>\n",
       "      <td>228.69</td>\n",
       "      <td>36.6</td>\n",
       "      <td>1</td>\n",
       "      <td>1</td>\n",
       "    </tr>\n",
       "    <tr>\n",
       "      <th>1</th>\n",
       "      <td>1</td>\n",
       "      <td>80.0</td>\n",
       "      <td>0</td>\n",
       "      <td>1</td>\n",
       "      <td>1</td>\n",
       "      <td>1</td>\n",
       "      <td>0</td>\n",
       "      <td>105.92</td>\n",
       "      <td>32.5</td>\n",
       "      <td>2</td>\n",
       "      <td>1</td>\n",
       "    </tr>\n",
       "    <tr>\n",
       "      <th>2</th>\n",
       "      <td>0</td>\n",
       "      <td>49.0</td>\n",
       "      <td>0</td>\n",
       "      <td>0</td>\n",
       "      <td>1</td>\n",
       "      <td>1</td>\n",
       "      <td>1</td>\n",
       "      <td>171.23</td>\n",
       "      <td>34.4</td>\n",
       "      <td>3</td>\n",
       "      <td>1</td>\n",
       "    </tr>\n",
       "    <tr>\n",
       "      <th>3</th>\n",
       "      <td>0</td>\n",
       "      <td>79.0</td>\n",
       "      <td>1</td>\n",
       "      <td>0</td>\n",
       "      <td>1</td>\n",
       "      <td>2</td>\n",
       "      <td>0</td>\n",
       "      <td>174.12</td>\n",
       "      <td>24.0</td>\n",
       "      <td>2</td>\n",
       "      <td>1</td>\n",
       "    </tr>\n",
       "    <tr>\n",
       "      <th>4</th>\n",
       "      <td>1</td>\n",
       "      <td>81.0</td>\n",
       "      <td>0</td>\n",
       "      <td>0</td>\n",
       "      <td>1</td>\n",
       "      <td>1</td>\n",
       "      <td>1</td>\n",
       "      <td>186.21</td>\n",
       "      <td>29.0</td>\n",
       "      <td>1</td>\n",
       "      <td>1</td>\n",
       "    </tr>\n",
       "  </tbody>\n",
       "</table>\n",
       "</div>"
      ],
      "text/plain": [
       "   gender   age  hypertension  heart_disease  ever_married  work_type  \\\n",
       "0       1  67.0             0              1             1          1   \n",
       "1       1  80.0             0              1             1          1   \n",
       "2       0  49.0             0              0             1          1   \n",
       "3       0  79.0             1              0             1          2   \n",
       "4       1  81.0             0              0             1          1   \n",
       "\n",
       "   Residence_type  avg_glucose_level   bmi  smoking_status  stroke  \n",
       "0               1             228.69  36.6               1       1  \n",
       "1               0             105.92  32.5               2       1  \n",
       "2               1             171.23  34.4               3       1  \n",
       "3               0             174.12  24.0               2       1  \n",
       "4               1             186.21  29.0               1       1  "
      ]
     },
     "execution_count": 97,
     "metadata": {},
     "output_type": "execute_result"
    }
   ],
   "source": [
    "df3=data.copy()\n",
    "df3.head()"
   ]
  },
  {
   "cell_type": "code",
   "execution_count": 102,
   "id": "fa804e32",
   "metadata": {},
   "outputs": [],
   "source": [
    "df3=df3[['age','bmi','avg_glucose_level','stroke']]"
   ]
  },
  {
   "cell_type": "code",
   "execution_count": 103,
   "id": "b1490133",
   "metadata": {},
   "outputs": [
    {
     "data": {
      "text/html": [
       "<div>\n",
       "<style scoped>\n",
       "    .dataframe tbody tr th:only-of-type {\n",
       "        vertical-align: middle;\n",
       "    }\n",
       "\n",
       "    .dataframe tbody tr th {\n",
       "        vertical-align: top;\n",
       "    }\n",
       "\n",
       "    .dataframe thead th {\n",
       "        text-align: right;\n",
       "    }\n",
       "</style>\n",
       "<table border=\"1\" class=\"dataframe\">\n",
       "  <thead>\n",
       "    <tr style=\"text-align: right;\">\n",
       "      <th></th>\n",
       "      <th>age</th>\n",
       "      <th>bmi</th>\n",
       "      <th>avg_glucose_level</th>\n",
       "      <th>stroke</th>\n",
       "    </tr>\n",
       "  </thead>\n",
       "  <tbody>\n",
       "    <tr>\n",
       "      <th>0</th>\n",
       "      <td>67.0</td>\n",
       "      <td>36.6</td>\n",
       "      <td>228.69</td>\n",
       "      <td>1</td>\n",
       "    </tr>\n",
       "    <tr>\n",
       "      <th>1</th>\n",
       "      <td>80.0</td>\n",
       "      <td>32.5</td>\n",
       "      <td>105.92</td>\n",
       "      <td>1</td>\n",
       "    </tr>\n",
       "    <tr>\n",
       "      <th>2</th>\n",
       "      <td>49.0</td>\n",
       "      <td>34.4</td>\n",
       "      <td>171.23</td>\n",
       "      <td>1</td>\n",
       "    </tr>\n",
       "    <tr>\n",
       "      <th>3</th>\n",
       "      <td>79.0</td>\n",
       "      <td>24.0</td>\n",
       "      <td>174.12</td>\n",
       "      <td>1</td>\n",
       "    </tr>\n",
       "    <tr>\n",
       "      <th>4</th>\n",
       "      <td>81.0</td>\n",
       "      <td>29.0</td>\n",
       "      <td>186.21</td>\n",
       "      <td>1</td>\n",
       "    </tr>\n",
       "  </tbody>\n",
       "</table>\n",
       "</div>"
      ],
      "text/plain": [
       "    age   bmi  avg_glucose_level  stroke\n",
       "0  67.0  36.6             228.69       1\n",
       "1  80.0  32.5             105.92       1\n",
       "2  49.0  34.4             171.23       1\n",
       "3  79.0  24.0             174.12       1\n",
       "4  81.0  29.0             186.21       1"
      ]
     },
     "execution_count": 103,
     "metadata": {},
     "output_type": "execute_result"
    }
   ],
   "source": [
    "df3.head()"
   ]
  },
  {
   "cell_type": "markdown",
   "id": "5d441027",
   "metadata": {},
   "source": [
    "## Split"
   ]
  },
  {
   "cell_type": "code",
   "execution_count": 104,
   "id": "8855f320",
   "metadata": {},
   "outputs": [],
   "source": [
    "x_train3,x_test3, y_train3, y_test3=separation_of_train_test(df3,\"stroke\",size_=0.3)"
   ]
  },
  {
   "cell_type": "markdown",
   "id": "076690fc",
   "metadata": {},
   "source": [
    "## Standardization"
   ]
  },
  {
   "cell_type": "code",
   "execution_count": 105,
   "id": "9e04204d",
   "metadata": {},
   "outputs": [],
   "source": [
    "standar_train3,scaler3=to_standardized(x_train3)\n",
    "standar_test3=scaler3.transform(x_test3)\n",
    "standar_test3=pd.DataFrame(standar_test3,columns=standar_train3.columns)"
   ]
  },
  {
   "cell_type": "markdown",
   "id": "15311975",
   "metadata": {},
   "source": [
    "# model"
   ]
  },
  {
   "cell_type": "code",
   "execution_count": 107,
   "id": "4cde93a0",
   "metadata": {},
   "outputs": [
    {
     "name": "stdout",
     "output_type": "stream",
     "text": [
      "Do you want to enter the params. Y/Nn\n",
      "              precision    recall  f1-score   support\n",
      "\n",
      "           0       0.99      0.72      0.83      1421\n",
      "           1       0.13      0.82      0.23        74\n",
      "\n",
      "    accuracy                           0.73      1495\n",
      "   macro avg       0.56      0.77      0.53      1495\n",
      "weighted avg       0.95      0.73      0.80      1495\n",
      "\n"
     ]
    }
   ],
   "source": [
    "model3=compute_model(\"rdf\",standar_train3,y_train3)\n",
    "sum_up=evaluation_of_model(model3,standar_test3,y_test3,\"RandomForest_numvar_09_08\",model_resume)"
   ]
  },
  {
   "cell_type": "markdown",
   "id": "ace3071d",
   "metadata": {},
   "source": [
    "# Test with smote"
   ]
  },
  {
   "cell_type": "code",
   "execution_count": 108,
   "id": "d23216b3",
   "metadata": {},
   "outputs": [
    {
     "name": "stdout",
     "output_type": "stream",
     "text": [
      "              precision    recall  f1-score   support\n",
      "\n",
      "           0       0.82      0.72      0.77      1421\n",
      "           1       0.75      0.84      0.79      1421\n",
      "\n",
      "    accuracy                           0.78      2842\n",
      "   macro avg       0.78      0.78      0.78      2842\n",
      "weighted avg       0.78      0.78      0.78      2842\n",
      "\n"
     ]
    }
   ],
   "source": [
    "x_test_resampled3,y_test_resampled3,resampler3=resampling_data(standar_test3,y_test3,\"SMOTE\")\n",
    "sum_up=evaluation_of_model(model3,x_test_resampled3,y_test_resampled3,\"Random_numvar_data_smoted_9_08\",model_resume)"
   ]
  },
  {
   "cell_type": "code",
   "execution_count": null,
   "id": "2712d2fd",
   "metadata": {},
   "outputs": [],
   "source": []
  },
  {
   "cell_type": "markdown",
   "id": "a264b54a",
   "metadata": {},
   "source": [
    "# Random Model With categorisation of all data"
   ]
  },
  {
   "cell_type": "code",
   "execution_count": 57,
   "id": "07375083",
   "metadata": {},
   "outputs": [
    {
     "data": {
      "text/html": [
       "<div>\n",
       "<style scoped>\n",
       "    .dataframe tbody tr th:only-of-type {\n",
       "        vertical-align: middle;\n",
       "    }\n",
       "\n",
       "    .dataframe tbody tr th {\n",
       "        vertical-align: top;\n",
       "    }\n",
       "\n",
       "    .dataframe thead th {\n",
       "        text-align: right;\n",
       "    }\n",
       "</style>\n",
       "<table border=\"1\" class=\"dataframe\">\n",
       "  <thead>\n",
       "    <tr style=\"text-align: right;\">\n",
       "      <th></th>\n",
       "      <th>gender</th>\n",
       "      <th>age</th>\n",
       "      <th>hypertension</th>\n",
       "      <th>heart_disease</th>\n",
       "      <th>ever_married</th>\n",
       "      <th>work_type</th>\n",
       "      <th>Residence_type</th>\n",
       "      <th>avg_glucose_level</th>\n",
       "      <th>bmi</th>\n",
       "      <th>smoking_status</th>\n",
       "      <th>stroke</th>\n",
       "    </tr>\n",
       "  </thead>\n",
       "  <tbody>\n",
       "    <tr>\n",
       "      <th>0</th>\n",
       "      <td>1</td>\n",
       "      <td>67.0</td>\n",
       "      <td>0</td>\n",
       "      <td>1</td>\n",
       "      <td>1</td>\n",
       "      <td>1</td>\n",
       "      <td>1</td>\n",
       "      <td>228.69</td>\n",
       "      <td>36.6</td>\n",
       "      <td>1</td>\n",
       "      <td>1</td>\n",
       "    </tr>\n",
       "    <tr>\n",
       "      <th>1</th>\n",
       "      <td>1</td>\n",
       "      <td>80.0</td>\n",
       "      <td>0</td>\n",
       "      <td>1</td>\n",
       "      <td>1</td>\n",
       "      <td>1</td>\n",
       "      <td>0</td>\n",
       "      <td>105.92</td>\n",
       "      <td>32.5</td>\n",
       "      <td>2</td>\n",
       "      <td>1</td>\n",
       "    </tr>\n",
       "    <tr>\n",
       "      <th>2</th>\n",
       "      <td>0</td>\n",
       "      <td>49.0</td>\n",
       "      <td>0</td>\n",
       "      <td>0</td>\n",
       "      <td>1</td>\n",
       "      <td>1</td>\n",
       "      <td>1</td>\n",
       "      <td>171.23</td>\n",
       "      <td>34.4</td>\n",
       "      <td>3</td>\n",
       "      <td>1</td>\n",
       "    </tr>\n",
       "    <tr>\n",
       "      <th>3</th>\n",
       "      <td>0</td>\n",
       "      <td>79.0</td>\n",
       "      <td>1</td>\n",
       "      <td>0</td>\n",
       "      <td>1</td>\n",
       "      <td>2</td>\n",
       "      <td>0</td>\n",
       "      <td>174.12</td>\n",
       "      <td>24.0</td>\n",
       "      <td>2</td>\n",
       "      <td>1</td>\n",
       "    </tr>\n",
       "    <tr>\n",
       "      <th>4</th>\n",
       "      <td>1</td>\n",
       "      <td>81.0</td>\n",
       "      <td>0</td>\n",
       "      <td>0</td>\n",
       "      <td>1</td>\n",
       "      <td>1</td>\n",
       "      <td>1</td>\n",
       "      <td>186.21</td>\n",
       "      <td>29.0</td>\n",
       "      <td>1</td>\n",
       "      <td>1</td>\n",
       "    </tr>\n",
       "  </tbody>\n",
       "</table>\n",
       "</div>"
      ],
      "text/plain": [
       "   gender   age  hypertension  heart_disease  ever_married  work_type  \\\n",
       "0       1  67.0             0              1             1          1   \n",
       "1       1  80.0             0              1             1          1   \n",
       "2       0  49.0             0              0             1          1   \n",
       "3       0  79.0             1              0             1          2   \n",
       "4       1  81.0             0              0             1          1   \n",
       "\n",
       "   Residence_type  avg_glucose_level   bmi  smoking_status  stroke  \n",
       "0               1             228.69  36.6               1       1  \n",
       "1               0             105.92  32.5               2       1  \n",
       "2               1             171.23  34.4               3       1  \n",
       "3               0             174.12  24.0               2       1  \n",
       "4               1             186.21  29.0               1       1  "
      ]
     },
     "execution_count": 57,
     "metadata": {},
     "output_type": "execute_result"
    }
   ],
   "source": [
    "df2=data.copy()\n",
    "df2.head()"
   ]
  },
  {
   "cell_type": "code",
   "execution_count": 61,
   "id": "c7f7e243",
   "metadata": {},
   "outputs": [],
   "source": []
  },
  {
   "cell_type": "code",
   "execution_count": 68,
   "id": "7fe83af2",
   "metadata": {},
   "outputs": [],
   "source": [
    "df2['age']=df2.age.apply(lambda x:0 if x < 46 else 1)\n",
    "df2['bmi']=df2.bmi.apply(lambda x:0 if x < 25 else 1)\n",
    "df2['avg_glucose_level']=df2.avg_glucose_level.apply(lambda x:0 if x < 155 else 1)"
   ]
  },
  {
   "cell_type": "code",
   "execution_count": 70,
   "id": "a9e7d8d2",
   "metadata": {},
   "outputs": [
    {
     "data": {
      "text/html": [
       "<div>\n",
       "<style scoped>\n",
       "    .dataframe tbody tr th:only-of-type {\n",
       "        vertical-align: middle;\n",
       "    }\n",
       "\n",
       "    .dataframe tbody tr th {\n",
       "        vertical-align: top;\n",
       "    }\n",
       "\n",
       "    .dataframe thead th {\n",
       "        text-align: right;\n",
       "    }\n",
       "</style>\n",
       "<table border=\"1\" class=\"dataframe\">\n",
       "  <thead>\n",
       "    <tr style=\"text-align: right;\">\n",
       "      <th></th>\n",
       "      <th>gender</th>\n",
       "      <th>age</th>\n",
       "      <th>hypertension</th>\n",
       "      <th>heart_disease</th>\n",
       "      <th>ever_married</th>\n",
       "      <th>work_type</th>\n",
       "      <th>Residence_type</th>\n",
       "      <th>avg_glucose_level</th>\n",
       "      <th>bmi</th>\n",
       "      <th>smoking_status</th>\n",
       "      <th>stroke</th>\n",
       "    </tr>\n",
       "  </thead>\n",
       "  <tbody>\n",
       "    <tr>\n",
       "      <th>0</th>\n",
       "      <td>1</td>\n",
       "      <td>0</td>\n",
       "      <td>0</td>\n",
       "      <td>1</td>\n",
       "      <td>1</td>\n",
       "      <td>1</td>\n",
       "      <td>1</td>\n",
       "      <td>1</td>\n",
       "      <td>1</td>\n",
       "      <td>1</td>\n",
       "      <td>1</td>\n",
       "    </tr>\n",
       "    <tr>\n",
       "      <th>1</th>\n",
       "      <td>1</td>\n",
       "      <td>0</td>\n",
       "      <td>0</td>\n",
       "      <td>1</td>\n",
       "      <td>1</td>\n",
       "      <td>1</td>\n",
       "      <td>0</td>\n",
       "      <td>0</td>\n",
       "      <td>1</td>\n",
       "      <td>2</td>\n",
       "      <td>1</td>\n",
       "    </tr>\n",
       "    <tr>\n",
       "      <th>2</th>\n",
       "      <td>0</td>\n",
       "      <td>0</td>\n",
       "      <td>0</td>\n",
       "      <td>0</td>\n",
       "      <td>1</td>\n",
       "      <td>1</td>\n",
       "      <td>1</td>\n",
       "      <td>1</td>\n",
       "      <td>1</td>\n",
       "      <td>3</td>\n",
       "      <td>1</td>\n",
       "    </tr>\n",
       "    <tr>\n",
       "      <th>3</th>\n",
       "      <td>0</td>\n",
       "      <td>0</td>\n",
       "      <td>1</td>\n",
       "      <td>0</td>\n",
       "      <td>1</td>\n",
       "      <td>2</td>\n",
       "      <td>0</td>\n",
       "      <td>1</td>\n",
       "      <td>0</td>\n",
       "      <td>2</td>\n",
       "      <td>1</td>\n",
       "    </tr>\n",
       "    <tr>\n",
       "      <th>4</th>\n",
       "      <td>1</td>\n",
       "      <td>0</td>\n",
       "      <td>0</td>\n",
       "      <td>0</td>\n",
       "      <td>1</td>\n",
       "      <td>1</td>\n",
       "      <td>1</td>\n",
       "      <td>1</td>\n",
       "      <td>1</td>\n",
       "      <td>1</td>\n",
       "      <td>1</td>\n",
       "    </tr>\n",
       "  </tbody>\n",
       "</table>\n",
       "</div>"
      ],
      "text/plain": [
       "   gender  age  hypertension  heart_disease  ever_married  work_type  \\\n",
       "0       1    0             0              1             1          1   \n",
       "1       1    0             0              1             1          1   \n",
       "2       0    0             0              0             1          1   \n",
       "3       0    0             1              0             1          2   \n",
       "4       1    0             0              0             1          1   \n",
       "\n",
       "   Residence_type  avg_glucose_level  bmi  smoking_status  stroke  \n",
       "0               1                  1    1               1       1  \n",
       "1               0                  0    1               2       1  \n",
       "2               1                  1    1               3       1  \n",
       "3               0                  1    0               2       1  \n",
       "4               1                  1    1               1       1  "
      ]
     },
     "execution_count": 70,
     "metadata": {},
     "output_type": "execute_result"
    }
   ],
   "source": [
    "df2.head()"
   ]
  },
  {
   "cell_type": "code",
   "execution_count": 71,
   "id": "d1bd957c",
   "metadata": {},
   "outputs": [],
   "source": [
    "x_train2,x_test2,y_train2,y_test2=separation_of_train_test(df2,\"stroke\",size_=0.3)"
   ]
  },
  {
   "cell_type": "code",
   "execution_count": 73,
   "id": "10218113",
   "metadata": {},
   "outputs": [
    {
     "name": "stdout",
     "output_type": "stream",
     "text": [
      "Do you want to enter the params. Y/Nn\n",
      "              precision    recall  f1-score   support\n",
      "\n",
      "           0       0.97      0.44      0.61      1421\n",
      "           1       0.07      0.76      0.12        74\n",
      "\n",
      "    accuracy                           0.46      1495\n",
      "   macro avg       0.52      0.60      0.36      1495\n",
      "weighted avg       0.93      0.46      0.58      1495\n",
      "\n"
     ]
    }
   ],
   "source": [
    "model1=compute_model(\"rdf\",x_train2,y_train2)\n",
    "sum_up=evaluation_of_model(model1,x_test2,y_test2,\"Rdf_categ_8_08\",model_resume)"
   ]
  },
  {
   "cell_type": "code",
   "execution_count": 88,
   "id": "cd8b25a3",
   "metadata": {},
   "outputs": [
    {
     "data": {
      "image/png": "[encoded data removed]",
      "text/plain": [
       "<Figure size 864x432 with 11 Axes>"
      ]
     },
     "metadata": {
      "needs_background": "light"
     },
     "output_type": "display_data"
    }
   ],
   "source": [
    "plot_dependencing(model1,x_train2,\"random_forest\",features=x_train2.columns)"
   ]
  },
  {
   "cell_type": "code",
   "execution_count": 89,
   "id": "6f1d0a72",
   "metadata": {},
   "outputs": [
    {
     "data": {
      "image/png": "[encoded data removed]",
      "text/plain": [
       "<Figure size 864x432 with 4 Axes>"
      ]
     },
     "metadata": {
      "needs_background": "light"
     },
     "output_type": "display_data"
    }
   ],
   "source": [
    "plot_dependencing(model1,x_train2,\"random_forest\",features=['gender','hypertension','heart_disease'])"
   ]
  },
  {
   "cell_type": "code",
   "execution_count": 90,
   "id": "cd96a05f",
   "metadata": {},
   "outputs": [
    {
     "data": {
      "image/png": "[encoded data removed]",
      "text/plain": [
       "<Figure size 864x432 with 4 Axes>"
      ]
     },
     "metadata": {
      "needs_background": "light"
     },
     "output_type": "display_data"
    }
   ],
   "source": [
    "plot_dependencing(model1,x_train2,\"random_forest\",features=['age','bmi','avg_glucose_level'])"
   ]
  },
  {
   "cell_type": "code",
   "execution_count": 93,
   "id": "5136c9f8",
   "metadata": {},
   "outputs": [
    {
     "data": {
      "image/png": "[encoded data removed]",
      "text/plain": [
       "<Figure size 864x432 with 4 Axes>"
      ]
     },
     "metadata": {
      "needs_background": "light"
     },
     "output_type": "display_data"
    }
   ],
   "source": [
    "plot_dependencing(model1,x_train2,\"random_forest\",features=['ever_married','work_type','Residence_type'])"
   ]
  },
  {
   "cell_type": "code",
   "execution_count": 94,
   "id": "63670114",
   "metadata": {},
   "outputs": [
    {
     "data": {
      "image/png": "[encoded data removed]",
      "text/plain": [
       "<Figure size 864x432 with 2 Axes>"
      ]
     },
     "metadata": {
      "needs_background": "light"
     },
     "output_type": "display_data"
    }
   ],
   "source": [
    "plot_dependencing(model1,x_train1,\"random_forest\",features=['smoking_status'])"
   ]
  },
  {
   "cell_type": "markdown",
   "id": "30548e7d",
   "metadata": {},
   "source": [
    "# Test with smoted data"
   ]
  },
  {
   "cell_type": "code",
   "execution_count": null,
   "id": "98edbb78",
   "metadata": {},
   "outputs": [],
   "source": [
    "x_test_resampled2,y_test_resampled2,resampler2=resampling_data(x_test,y_test2,\"SMOTE\")\n",
    "sum_up=evaluation_of_model(model1,x_test_resampled2,y_test_resampled2,\"Random_numvar_data_smoted_9_08\",model_resume)"
   ]
  },
  {
   "cell_type": "markdown",
   "id": "5951bb4e",
   "metadata": {},
   "source": [
    "# Random Model With just numerical var categorized "
   ]
  },
  {
   "cell_type": "code",
   "execution_count": 75,
   "id": "9f50c4e2",
   "metadata": {},
   "outputs": [],
   "source": [
    "cat_data=df2[['age','bmi','avg_glucose_level','stroke']]"
   ]
  },
  {
   "cell_type": "code",
   "execution_count": 76,
   "id": "5c221c67",
   "metadata": {},
   "outputs": [],
   "source": [
    "x_train2,x_test2,y_train2,y_test2=separation_of_train_test(cat_data,\"stroke\",size_=0.3)"
   ]
  },
  {
   "cell_type": "code",
   "execution_count": 77,
   "id": "ec397368",
   "metadata": {},
   "outputs": [
    {
     "name": "stdout",
     "output_type": "stream",
     "text": [
      "Do you want to enter the params. Y/Nn\n",
      "              precision    recall  f1-score   support\n",
      "\n",
      "           0       0.97      0.31      0.47      1421\n",
      "           1       0.06      0.78      0.10        74\n",
      "\n",
      "    accuracy                           0.34      1495\n",
      "   macro avg       0.51      0.55      0.29      1495\n",
      "weighted avg       0.92      0.34      0.45      1495\n",
      "\n"
     ]
    }
   ],
   "source": [
    "model2=compute_model(\"rdf\",x_train2,y_train2)\n",
    "sum_up=evaluation_of_model(model2,x_test2,y_test2,\"Rdf_num_categ_8_08\",model_resume)"
   ]
  },
  {
   "cell_type": "code",
   "execution_count": 96,
   "id": "a289c0b1",
   "metadata": {},
   "outputs": [
    {
     "data": {
      "image/png": "[encoded data removed]",
      "text/plain": [
       "<Figure size 864x432 with 4 Axes>"
      ]
     },
     "metadata": {
      "needs_background": "light"
     },
     "output_type": "display_data"
    }
   ],
   "source": [
    "plot_dependencing(model1,x_train1,\"random_forest\",features=['age','bmi','avg_glucose_level'])"
   ]
  },
  {
   "cell_type": "markdown",
   "id": "fc68469c",
   "metadata": {},
   "source": [
    "# Test with smoted data"
   ]
  },
  {
   "cell_type": "code",
   "execution_count": null,
   "id": "bcf431ce",
   "metadata": {},
   "outputs": [],
   "source": [
    "x_test_resampled2,y_test_resampled2,resampler2=resampling_data(x_test,y_test2,\"SMOTE\")\n",
    "sum_up=evaluation_of_model(model2,x_test_resampled2,y_test_resampled2,\"Random_numvar_data_smoted_9_08\",model_resume)"
   ]
  },
  {
   "cell_type": "code",
   "execution_count": null,
   "id": "9eaae743",
   "metadata": {},
   "outputs": [],
   "source": [
    "\n"
   ]
  },
  {
   "cell_type": "code",
   "execution_count": null,
   "id": "0cb7ff06",
   "metadata": {},
   "outputs": [],
   "source": []
  },
  {
   "cell_type": "code",
   "execution_count": null,
   "id": "18608175",
   "metadata": {},
   "outputs": [],
   "source": []
  }
 ],
 "metadata": {
  "kernelspec": {
   "display_name": "Python 3 (ipykernel)",
   "language": "python",
   "name": "python3"
  },
  "language_info": {
   "codemirror_mode": {
    "name": "ipython",
    "version": 3
   },
   "file_extension": ".py",
   "mimetype": "text/x-python",
   "name": "python",
   "nbconvert_exporter": "python",
   "pygments_lexer": "ipython3",
   "version": "3.12.7"
  }
 },
 "nbformat": 4,
 "nbformat_minor": 5
}
